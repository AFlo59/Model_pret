{
 "cells": [
  {
   "cell_type": "markdown",
   "metadata": {},
   "source": [
    "## Partie 1: Nettoyage, EDA et modélisation\n",
    "\n",
    "Nettoyage des données : Supprimer les données manquantes, traiter les valeurs aberrantes et corriger les erreurs dans les données.\n",
    "\n",
    "Analyse exploratoire des données (EDA) : Comprendre la distribution des variables, les relations entre les variables, et identifier les tendances et les schémas dans les données. Cela peut inclure des analyses univariées et bivariées, des tests statistiques pour évaluer les différences entre les groupes, etc.\n",
    "\n",
    "Préparation des données pour le modèle : Cela implique le prétraitement des données comme la normalisation, la standardisation, le codage des variables catégorielles, etc. Vous devrez également effectuer le feature engineering pour créer de nouvelles variables pertinentes pour la prédiction.\n",
    "\n",
    "Sélection des features : Identifier les variables les plus pertinentes pour la prédiction en utilisant des techniques comme l'analyse de corrélation, la sélection de variables basée sur des modèles, etc.\n",
    "\n",
    "Modélisation : Choisissez un modèle adapté à la classification binaire, en prenant en compte les caractéristiques du jeu de données et les contraintes du projet. Assurez-vous de comprendre le fonctionnement du modèle choisi et de pouvoir l'expliquer lors de la présentation."
   ]
  },
  {
   "cell_type": "code",
   "execution_count": null,
   "metadata": {},
   "outputs": [],
   "source": []
  },
  {
   "cell_type": "markdown",
   "metadata": {},
   "source": [
    "LoanNr_ChkDgt : Numéro de prêt avec un chiffre de contrôle.\n",
    "\n",
    "Name : Nom de l'entreprise.\n",
    "\n",
    "City : Ville où l'entreprise est située.\n",
    "\n",
    "State : État où l'entreprise est située.\n",
    "\n",
    "Zip : Code postal de l'entreprise.\n",
    "\n",
    "Bank : Nom de la banque qui a accordé le prêt.\n",
    "\n",
    "BankState : État où la banque est située.\n",
    "\n",
    "NAICS : Code NAICS (North American Industry Classification System) de l'activité de l'entreprise.\n",
    "\n",
    "ApprovalDate : Date d'approbation du prêt.\n",
    "\n",
    "ApprovalFY : Année d'approbation du prêt.\n",
    "\n",
    "Term : Durée du prêt en mois.\n",
    "\n",
    "NoEmp : Nombre d'employés.\n",
    "\n",
    "NewExist : Indicateur indiquant si l'entreprise est une nouvelle entreprise ou une entreprise existante.\n",
    "\n",
    "CreateJob : Nombre d'emplois créés.\n",
    "\n",
    "RetainedJob : Nombre d'emplois conservés.\n",
    "\n",
    "FranchiseCode : Code de franchise.\n",
    "\n",
    "UrbanRural : Indicateur urbain/rural.\n",
    "\n",
    "RevLineCr : Ligne de crédit renouvelable.\n",
    "\n",
    "LowDoc : Indicateur de prêt à faible documentation.\n",
    "\n",
    "ChgOffDate : Date de décharge (charge off) du prêt.\n",
    "\n",
    "DisbursementDate : Date de déboursement du prêt.\n",
    "\n",
    "DisbursementGross : Montant brut du déboursement du prêt.\n",
    "\n",
    "BalanceGross : Solde brut du prêt.\n",
    "\n",
    "MIS_Status : Statut du prêt.\n",
    "\n",
    "ChgOffPrinGr : Principal déchargé (chargé off).\n",
    "\n",
    "GrAppv : Montant approuvé par le gouvernement.\n",
    "\n",
    "SBA_Appv : Montant approuvé par la SBA (Small Business Administration)."
   ]
  },
  {
   "cell_type": "code",
   "execution_count": null,
   "metadata": {},
   "outputs": [],
   "source": []
  },
  {
   "cell_type": "markdown",
   "metadata": {},
   "source": [
    "ChgOffDate : La date de décharge du prêt est une information qui indique le moment où le prêt est déclaré comme une perte. C'est une information qui serait disponible après que la décision de prêter ait été prise. Par conséquent, elle doit être exclue des caractéristiques utilisées pour la prédiction.\n",
    "\n",
    "MIS_Status : Le statut du prêt, tel que \"P I F\" (Paid In Full) ou \"CHGOFF\" (Charged Off), est également une information qui révèle le résultat du prêt. Elle ne doit pas être utilisée comme caractéristique pour éviter le \"target leaking\".\n",
    "\n",
    "ChgOffPrinGr : Le montant du principal déchargé est également une information qui est disponible après que le prêt ait été déchargé. Il ne doit pas être utilisé pour la prédiction."
   ]
  },
  {
   "cell_type": "code",
   "execution_count": null,
   "metadata": {},
   "outputs": [],
   "source": []
  },
  {
   "cell_type": "markdown",
   "metadata": {},
   "source": [
    "La notion de \"smooth target\" fait référence à une technique utilisée dans l'apprentissage automatique pour lisser la cible (target) d'un modèle. Cette technique est souvent utilisée dans les cas où la cible contient du bruit ou des valeurs aberrantes, ou lorsqu'elle est très variable.\n",
    "\n",
    "L'objectif principal du lissage de la cible est de réduire le bruit dans les données de la cible afin que le modèle puisse apprendre des tendances plus générales et plus robustes. Cela peut améliorer les performances du modèle en réduisant le surajustement aux données d'entraînement et en améliorant la capacité de généralisation du modèle aux nouvelles données.\n",
    "\n",
    "Voici quelques approches courantes pour lisser la cible dans un problème de régression ou de classification :\n",
    "\n",
    "Moyenne mobile : Cette méthode consiste à calculer la moyenne des valeurs cibles sur une fenêtre mobile, ce qui permet de lisser les fluctuations et de capturer les tendances générales.\n",
    "\n",
    "Régression linéaire robuste : Utilisation d'une régression linéaire robuste pour ajuster la cible en minimisant les erreurs quadratiques tout en tenant compte des valeurs aberrantes.\n",
    "\n",
    "Lissage exponentiel : Une méthode qui attribue des poids décroissants aux observations plus anciennes dans le temps, ce qui donne plus de poids aux observations récentes et permet de lisser les variations dans la série temporelle.\n",
    "\n",
    "Transformation de la cible : Utilisation de transformations telles que la transformation logarithmique ou la transformation de Box-Cox pour stabiliser la variance de la cible et rendre sa distribution plus symétrique.\n",
    "\n",
    "Catégorisation de la cible : Pour les problèmes de classification, regrouper les valeurs de la cible en catégories ou en intervalles peut aider à lisser les variations et à réduire le bruit.\n",
    "\n",
    "Il est important de noter que le choix de la méthode de lissage dépendra du type de données et du problème spécifique que vous essayez de résoudre. Il est souvent judicieux d'expérimenter différentes techniques de lissage et d'évaluer leurs performances par rapport à un ensemble de données de validation ou de test pour déterminer celle qui fonctionne le mieux pour votre cas d'utilisation particulier."
   ]
  },
  {
   "cell_type": "code",
   "execution_count": null,
   "metadata": {},
   "outputs": [],
   "source": []
  },
  {
   "cell_type": "markdown",
   "metadata": {},
   "source": [
    "## Partie 2: Mise en production: Création de l'application et de l'API\n",
    "\n",
    "Utilisation de FastAPI pour l'API : Implémentez un service FastAPI pour servir votre modèle de machine learning et fournir des prédictions en réponse aux requêtes.\n",
    "\n",
    "Développement de l'interface graphique avec Django : Créez une interface utilisateur conviviale en utilisant Django pour consommer l'API et afficher les résultats de prédiction.\n",
    "\n",
    "Architecture en micro-services : Respectez l'architecture en micro-services décrite, en utilisant Django pour le backend, FastAPI pour l'API, et un frontend développé avec Tailwind, HTML et JavaScript.\n",
    "\n",
    "Gestion de la sécurité et de l'authentification : Assurez-vous d'implémenter un système robuste pour la sécurité des données et l'authentification des utilisateurs, conformément aux exigences de l'US SBA.\n",
    "\n",
    "Déploiement avec Docker sur Azure : Utilisez Docker pour containeriser vos services et déployez-les sur Azure pour rendre votre application accessible en ligne."
   ]
  }
 ],
 "metadata": {
  "kernelspec": {
   "display_name": "Python 3",
   "language": "python",
   "name": "python3"
  },
  "language_info": {
   "codemirror_mode": {
    "name": "ipython",
    "version": 3
   },
   "file_extension": ".py",
   "mimetype": "text/x-python",
   "name": "python",
   "nbconvert_exporter": "python",
   "pygments_lexer": "ipython3",
   "version": "3.11.3"
  }
 },
 "nbformat": 4,
 "nbformat_minor": 2
}
