{
 "cells": [
  {
   "cell_type": "code",
   "execution_count": 35,
   "metadata": {},
   "outputs": [
    {
     "name": "stderr",
     "output_type": "stream",
     "text": [
      "/home/utilisateur/projet/Brief_Prêt/Model_pret/Model/../Module/loader_csv.py:9: DtypeWarning: Columns (9) have mixed types. Specify dtype option on import or set low_memory=False.\n",
      "  df_partie4 = pd.read_csv(partie4)\n"
     ]
    }
   ],
   "source": [
    "import os\n",
    "import sys\n",
    "sys.path.append('../Module')\n",
    "folder_path = '../Dataset'\n",
    "\n",
    "import numpy as np\n",
    "import pandas as pd\n",
    "import matplotlib.pyplot as plt\n",
    "import seaborn as sns\n",
    "\n",
    "from sklearn.preprocessing import OneHotEncoder\n",
    "from sklearn.compose import ColumnTransformer\n",
    "from sklearn.preprocessing import StandardScaler, OneHotEncoder\n",
    "from sklearn.ensemble import RandomForestClassifier, BaggingClassifier\n",
    "\n",
    "from sklearn.pipeline import Pipeline\n",
    "from sklearn.model_selection import train_test_split, GridSearchCV\n",
    "from sklearn.metrics import accuracy_score, f1_score\n",
    "from sklearn import set_config\n",
    "\n",
    "from loader_csv import charger_csv\n",
    "from data_to_csv import df_to_csv\n",
    "from utils import generate_description\n",
    "from currency import currency_cleaning\n",
    "from naics_engineering import naicsEngineering\n",
    "\n",
    "# Spécifiez les chemins des quatre parties du CSV découpé\n",
    "partie1 = \"../Dataset/SBAnational_part_part1.csv\"\n",
    "partie2 = \"../Dataset/SBAnational_part_part2.csv\"\n",
    "partie3 = \"../Dataset/SBAnational_part_part3.csv\"\n",
    "partie4 = \"../Dataset/SBAnational_part_part4.csv\"\n",
    "\n",
    "# Utilisez la fonction charger_csv pour obtenir un DataFrame avec toutes les données réassemblées\n",
    "df = charger_csv(partie1, partie2, partie3, partie4)\n"
   ]
  },
  {
   "cell_type": "code",
   "execution_count": 36,
   "metadata": {},
   "outputs": [
    {
     "data": {
      "text/html": [
       "<div>\n",
       "<style scoped>\n",
       "    .dataframe tbody tr th:only-of-type {\n",
       "        vertical-align: middle;\n",
       "    }\n",
       "\n",
       "    .dataframe tbody tr th {\n",
       "        vertical-align: top;\n",
       "    }\n",
       "\n",
       "    .dataframe thead th {\n",
       "        text-align: right;\n",
       "    }\n",
       "</style>\n",
       "<table border=\"1\" class=\"dataframe\">\n",
       "  <thead>\n",
       "    <tr style=\"text-align: right;\">\n",
       "      <th></th>\n",
       "      <th>feature</th>\n",
       "      <th>data_type</th>\n",
       "      <th>null</th>\n",
       "      <th>nulPct</th>\n",
       "      <th>unique</th>\n",
       "      <th>uniqueSample</th>\n",
       "    </tr>\n",
       "  </thead>\n",
       "  <tbody>\n",
       "    <tr>\n",
       "      <th>0</th>\n",
       "      <td>LoanNr_ChkDgt</td>\n",
       "      <td>int64</td>\n",
       "      <td>0</td>\n",
       "      <td>0.00</td>\n",
       "      <td>899164</td>\n",
       "      <td>[7368464004, 5483314001, 7666083010, 181163500...</td>\n",
       "    </tr>\n",
       "    <tr>\n",
       "      <th>1</th>\n",
       "      <td>Name</td>\n",
       "      <td>object</td>\n",
       "      <td>14</td>\n",
       "      <td>0.00</td>\n",
       "      <td>779583</td>\n",
       "      <td>[Una Auto Inc., F &amp; F DRUGS, A &amp; N CONSTRUCTIO...</td>\n",
       "    </tr>\n",
       "    <tr>\n",
       "      <th>2</th>\n",
       "      <td>City</td>\n",
       "      <td>object</td>\n",
       "      <td>30</td>\n",
       "      <td>0.00</td>\n",
       "      <td>32581</td>\n",
       "      <td>[RIGBY, MONROE, Twin Falls, ORANGE GROVE, OSCE...</td>\n",
       "    </tr>\n",
       "    <tr>\n",
       "      <th>3</th>\n",
       "      <td>State</td>\n",
       "      <td>object</td>\n",
       "      <td>14</td>\n",
       "      <td>0.00</td>\n",
       "      <td>51</td>\n",
       "      <td>[GA, WA, MN, NY, PA]</td>\n",
       "    </tr>\n",
       "    <tr>\n",
       "      <th>4</th>\n",
       "      <td>Zip</td>\n",
       "      <td>int64</td>\n",
       "      <td>0</td>\n",
       "      <td>0.00</td>\n",
       "      <td>33611</td>\n",
       "      <td>[84029, 77026, 11238, 8742, 32174]</td>\n",
       "    </tr>\n",
       "    <tr>\n",
       "      <th>5</th>\n",
       "      <td>Bank</td>\n",
       "      <td>object</td>\n",
       "      <td>1559</td>\n",
       "      <td>0.17</td>\n",
       "      <td>5802</td>\n",
       "      <td>[SELF-HELP CU, UNITED CENTRAL BANK, NORTHWEST ...</td>\n",
       "    </tr>\n",
       "    <tr>\n",
       "      <th>6</th>\n",
       "      <td>BankState</td>\n",
       "      <td>object</td>\n",
       "      <td>1566</td>\n",
       "      <td>0.17</td>\n",
       "      <td>56</td>\n",
       "      <td>[CA, ME, NY, MN, UT]</td>\n",
       "    </tr>\n",
       "    <tr>\n",
       "      <th>7</th>\n",
       "      <td>NAICS</td>\n",
       "      <td>int64</td>\n",
       "      <td>0</td>\n",
       "      <td>0.00</td>\n",
       "      <td>1312</td>\n",
       "      <td>[722211, 532230, 236118, 0, 488490]</td>\n",
       "    </tr>\n",
       "    <tr>\n",
       "      <th>8</th>\n",
       "      <td>ApprovalDate</td>\n",
       "      <td>object</td>\n",
       "      <td>0</td>\n",
       "      <td>0.00</td>\n",
       "      <td>9859</td>\n",
       "      <td>[27-Apr-05, 7-Sep-95, 18-Dec-98, 14-Jul-05, 30...</td>\n",
       "    </tr>\n",
       "    <tr>\n",
       "      <th>9</th>\n",
       "      <td>ApprovalFY</td>\n",
       "      <td>object</td>\n",
       "      <td>0</td>\n",
       "      <td>0.00</td>\n",
       "      <td>71</td>\n",
       "      <td>[1990, 1995, 2001, 2005, 2003]</td>\n",
       "    </tr>\n",
       "    <tr>\n",
       "      <th>10</th>\n",
       "      <td>Term</td>\n",
       "      <td>int64</td>\n",
       "      <td>0</td>\n",
       "      <td>0.00</td>\n",
       "      <td>412</td>\n",
       "      <td>[60, 48, 144, 120, 240]</td>\n",
       "    </tr>\n",
       "    <tr>\n",
       "      <th>11</th>\n",
       "      <td>NoEmp</td>\n",
       "      <td>int64</td>\n",
       "      <td>0</td>\n",
       "      <td>0.00</td>\n",
       "      <td>599</td>\n",
       "      <td>[10, 30, 2, 6]</td>\n",
       "    </tr>\n",
       "    <tr>\n",
       "      <th>12</th>\n",
       "      <td>NewExist</td>\n",
       "      <td>float64</td>\n",
       "      <td>136</td>\n",
       "      <td>0.02</td>\n",
       "      <td>3</td>\n",
       "      <td>[2.0, 1.0]</td>\n",
       "    </tr>\n",
       "    <tr>\n",
       "      <th>13</th>\n",
       "      <td>CreateJob</td>\n",
       "      <td>int64</td>\n",
       "      <td>0</td>\n",
       "      <td>0.00</td>\n",
       "      <td>246</td>\n",
       "      <td>[10, 3, 1, 2, 5]</td>\n",
       "    </tr>\n",
       "    <tr>\n",
       "      <th>14</th>\n",
       "      <td>RetainedJob</td>\n",
       "      <td>int64</td>\n",
       "      <td>0</td>\n",
       "      <td>0.00</td>\n",
       "      <td>358</td>\n",
       "      <td>[3, 2, 0]</td>\n",
       "    </tr>\n",
       "    <tr>\n",
       "      <th>15</th>\n",
       "      <td>FranchiseCode</td>\n",
       "      <td>int64</td>\n",
       "      <td>0</td>\n",
       "      <td>0.00</td>\n",
       "      <td>2768</td>\n",
       "      <td>[0, 1]</td>\n",
       "    </tr>\n",
       "    <tr>\n",
       "      <th>16</th>\n",
       "      <td>UrbanRural</td>\n",
       "      <td>int64</td>\n",
       "      <td>0</td>\n",
       "      <td>0.00</td>\n",
       "      <td>3</td>\n",
       "      <td>[0, 1, 2]</td>\n",
       "    </tr>\n",
       "    <tr>\n",
       "      <th>17</th>\n",
       "      <td>RevLineCr</td>\n",
       "      <td>object</td>\n",
       "      <td>4528</td>\n",
       "      <td>0.50</td>\n",
       "      <td>18</td>\n",
       "      <td>[N, 0]</td>\n",
       "    </tr>\n",
       "    <tr>\n",
       "      <th>18</th>\n",
       "      <td>LowDoc</td>\n",
       "      <td>object</td>\n",
       "      <td>2582</td>\n",
       "      <td>0.29</td>\n",
       "      <td>8</td>\n",
       "      <td>[N]</td>\n",
       "    </tr>\n",
       "    <tr>\n",
       "      <th>19</th>\n",
       "      <td>ChgOffDate</td>\n",
       "      <td>object</td>\n",
       "      <td>736465</td>\n",
       "      <td>81.91</td>\n",
       "      <td>6448</td>\n",
       "      <td>[nan, 26-Oct-09]</td>\n",
       "    </tr>\n",
       "    <tr>\n",
       "      <th>20</th>\n",
       "      <td>DisbursementDate</td>\n",
       "      <td>object</td>\n",
       "      <td>2368</td>\n",
       "      <td>0.26</td>\n",
       "      <td>8472</td>\n",
       "      <td>[30-Sep-07, 31-Jul-92, 30-Sep-04, 31-Oct-05, 3...</td>\n",
       "    </tr>\n",
       "    <tr>\n",
       "      <th>21</th>\n",
       "      <td>DisbursementGross</td>\n",
       "      <td>object</td>\n",
       "      <td>0</td>\n",
       "      <td>0.00</td>\n",
       "      <td>118859</td>\n",
       "      <td>[$100,000.00 , $222,823.00 , $143,500.00 , $26...</td>\n",
       "    </tr>\n",
       "    <tr>\n",
       "      <th>22</th>\n",
       "      <td>BalanceGross</td>\n",
       "      <td>object</td>\n",
       "      <td>0</td>\n",
       "      <td>0.00</td>\n",
       "      <td>15</td>\n",
       "      <td>[$0.00 ]</td>\n",
       "    </tr>\n",
       "    <tr>\n",
       "      <th>23</th>\n",
       "      <td>MIS_Status</td>\n",
       "      <td>object</td>\n",
       "      <td>1997</td>\n",
       "      <td>0.22</td>\n",
       "      <td>2</td>\n",
       "      <td>[P I F, CHGOFF]</td>\n",
       "    </tr>\n",
       "    <tr>\n",
       "      <th>24</th>\n",
       "      <td>ChgOffPrinGr</td>\n",
       "      <td>object</td>\n",
       "      <td>0</td>\n",
       "      <td>0.00</td>\n",
       "      <td>83165</td>\n",
       "      <td>[$0.00 , $9,119.00 ]</td>\n",
       "    </tr>\n",
       "    <tr>\n",
       "      <th>25</th>\n",
       "      <td>GrAppv</td>\n",
       "      <td>object</td>\n",
       "      <td>0</td>\n",
       "      <td>0.00</td>\n",
       "      <td>22128</td>\n",
       "      <td>[$2,060,000.00 , $15,000.00 , $160,000.00 , $1...</td>\n",
       "    </tr>\n",
       "    <tr>\n",
       "      <th>26</th>\n",
       "      <td>SBA_Appv</td>\n",
       "      <td>object</td>\n",
       "      <td>0</td>\n",
       "      <td>0.00</td>\n",
       "      <td>38326</td>\n",
       "      <td>[$89,250.00 , $338,400.00 , $25,000.00 , $75,0...</td>\n",
       "    </tr>\n",
       "  </tbody>\n",
       "</table>\n",
       "</div>"
      ],
      "text/plain": [
       "              feature data_type    null  nulPct  unique  \\\n",
       "0       LoanNr_ChkDgt     int64       0    0.00  899164   \n",
       "1                Name    object      14    0.00  779583   \n",
       "2                City    object      30    0.00   32581   \n",
       "3               State    object      14    0.00      51   \n",
       "4                 Zip     int64       0    0.00   33611   \n",
       "5                Bank    object    1559    0.17    5802   \n",
       "6           BankState    object    1566    0.17      56   \n",
       "7               NAICS     int64       0    0.00    1312   \n",
       "8        ApprovalDate    object       0    0.00    9859   \n",
       "9          ApprovalFY    object       0    0.00      71   \n",
       "10               Term     int64       0    0.00     412   \n",
       "11              NoEmp     int64       0    0.00     599   \n",
       "12           NewExist   float64     136    0.02       3   \n",
       "13          CreateJob     int64       0    0.00     246   \n",
       "14        RetainedJob     int64       0    0.00     358   \n",
       "15      FranchiseCode     int64       0    0.00    2768   \n",
       "16         UrbanRural     int64       0    0.00       3   \n",
       "17          RevLineCr    object    4528    0.50      18   \n",
       "18             LowDoc    object    2582    0.29       8   \n",
       "19         ChgOffDate    object  736465   81.91    6448   \n",
       "20   DisbursementDate    object    2368    0.26    8472   \n",
       "21  DisbursementGross    object       0    0.00  118859   \n",
       "22       BalanceGross    object       0    0.00      15   \n",
       "23         MIS_Status    object    1997    0.22       2   \n",
       "24       ChgOffPrinGr    object       0    0.00   83165   \n",
       "25             GrAppv    object       0    0.00   22128   \n",
       "26           SBA_Appv    object       0    0.00   38326   \n",
       "\n",
       "                                         uniqueSample  \n",
       "0   [7368464004, 5483314001, 7666083010, 181163500...  \n",
       "1   [Una Auto Inc., F & F DRUGS, A & N CONSTRUCTIO...  \n",
       "2   [RIGBY, MONROE, Twin Falls, ORANGE GROVE, OSCE...  \n",
       "3                                [GA, WA, MN, NY, PA]  \n",
       "4                  [84029, 77026, 11238, 8742, 32174]  \n",
       "5   [SELF-HELP CU, UNITED CENTRAL BANK, NORTHWEST ...  \n",
       "6                                [CA, ME, NY, MN, UT]  \n",
       "7                 [722211, 532230, 236118, 0, 488490]  \n",
       "8   [27-Apr-05, 7-Sep-95, 18-Dec-98, 14-Jul-05, 30...  \n",
       "9                      [1990, 1995, 2001, 2005, 2003]  \n",
       "10                            [60, 48, 144, 120, 240]  \n",
       "11                                     [10, 30, 2, 6]  \n",
       "12                                         [2.0, 1.0]  \n",
       "13                                   [10, 3, 1, 2, 5]  \n",
       "14                                          [3, 2, 0]  \n",
       "15                                             [0, 1]  \n",
       "16                                          [0, 1, 2]  \n",
       "17                                             [N, 0]  \n",
       "18                                                [N]  \n",
       "19                                   [nan, 26-Oct-09]  \n",
       "20  [30-Sep-07, 31-Jul-92, 30-Sep-04, 31-Oct-05, 3...  \n",
       "21  [$100,000.00 , $222,823.00 , $143,500.00 , $26...  \n",
       "22                                           [$0.00 ]  \n",
       "23                                    [P I F, CHGOFF]  \n",
       "24                               [$0.00 , $9,119.00 ]  \n",
       "25  [$2,060,000.00 , $15,000.00 , $160,000.00 , $1...  \n",
       "26  [$89,250.00 , $338,400.00 , $25,000.00 , $75,0...  "
      ]
     },
     "execution_count": 36,
     "metadata": {},
     "output_type": "execute_result"
    }
   ],
   "source": [
    "generate_description(df)"
   ]
  },
  {
   "cell_type": "code",
   "execution_count": 37,
   "metadata": {},
   "outputs": [
    {
     "data": {
      "text/plain": [
       "(899164, 27)"
      ]
     },
     "execution_count": 37,
     "metadata": {},
     "output_type": "execute_result"
    }
   ],
   "source": [
    "df.shape"
   ]
  },
  {
   "cell_type": "code",
   "execution_count": 38,
   "metadata": {},
   "outputs": [
    {
     "data": {
      "text/plain": [
       "NAICS\n",
       "44-45    127251\n",
       "81        72618\n",
       "54        68170\n",
       "31-33     68029\n",
       "72        67600\n",
       "23        66646\n",
       "62        55366\n",
       "42        48743\n",
       "56        32685\n",
       "48-49     22531\n",
       "71        14640\n",
       "53        13632\n",
       "51        11379\n",
       "52         9496\n",
       "11         9005\n",
       "61         6425\n",
       "21         1851\n",
       "22          663\n",
       "55          257\n",
       "92          229\n",
       "Name: count, dtype: int64"
      ]
     },
     "execution_count": 38,
     "metadata": {},
     "output_type": "execute_result"
    }
   ],
   "source": [
    "df = df[df.NAICS != 0]\n",
    "df['NAICS'] = df['NAICS'].apply(naicsEngineering)\n",
    "df.NAICS.value_counts()"
   ]
  },
  {
   "cell_type": "code",
   "execution_count": 39,
   "metadata": {},
   "outputs": [
    {
     "data": {
      "text/plain": [
       "NewExist\n",
       "1.0    502830\n",
       "2.0    193520\n",
       "Name: count, dtype: int64"
      ]
     },
     "execution_count": 39,
     "metadata": {},
     "output_type": "execute_result"
    }
   ],
   "source": [
    "df = df[(df.NewExist == 1.0) | (df.NewExist == 2.0)]\n",
    "df.NewExist.value_counts()"
   ]
  },
  {
   "cell_type": "code",
   "execution_count": 40,
   "metadata": {},
   "outputs": [
    {
     "data": {
      "text/plain": [
       "(696350, 27)"
      ]
     },
     "execution_count": 40,
     "metadata": {},
     "output_type": "execute_result"
    }
   ],
   "source": [
    "df.shape"
   ]
  },
  {
   "cell_type": "code",
   "execution_count": 41,
   "metadata": {},
   "outputs": [],
   "source": [
    "df['GrAppv'] = df['GrAppv'].apply(currency_cleaning).astype(float).astype(int)\n",
    "df['SBA_Appv'] = df['SBA_Appv'].apply(currency_cleaning).astype(float).astype(int)\n",
    "df['DisbursementGross'] = df['DisbursementGross'].apply(currency_cleaning).astype(float).astype(int)\n",
    "df['BalanceGross'] = df['BalanceGross'].apply(currency_cleaning).astype(float).astype(int)\n",
    "df['ChgOffPrinGr'] = df['ChgOffPrinGr'].apply(currency_cleaning).astype(float)"
   ]
  },
  {
   "cell_type": "code",
   "execution_count": 42,
   "metadata": {},
   "outputs": [
    {
     "data": {
      "text/plain": [
       "MIS_Status\n",
       "CHGOFF    140687\n",
       "P I F       4406\n",
       "Name: count, dtype: int64"
      ]
     },
     "execution_count": 42,
     "metadata": {},
     "output_type": "execute_result"
    }
   ],
   "source": [
    "samples_bad_lol = df[(df['ChgOffDate'].notna())]\n",
    "df.loc[samples_bad_lol.index, 'MIS_Status'] = samples_bad_lol['MIS_Status'].replace(['P I F', np.nan], 'CHGOFF')\n",
    "samples_bad_lol['MIS_Status'].value_counts()"
   ]
  },
  {
   "cell_type": "code",
   "execution_count": 43,
   "metadata": {},
   "outputs": [
    {
     "name": "stdout",
     "output_type": "stream",
     "text": [
      "MIS_Status\n",
      "CHGOFF    145262\n",
      "Name: count, dtype: int64\n"
     ]
    }
   ],
   "source": [
    "status_counts = df.loc[samples_bad_lol.index, 'MIS_Status'].value_counts()#.isna().sum() == 0\n",
    "\n",
    "print(status_counts)"
   ]
  },
  {
   "cell_type": "code",
   "execution_count": 44,
   "metadata": {},
   "outputs": [
    {
     "data": {
      "text/plain": [
       "MIS_Status\n",
       "CHGOFF    145148\n",
       "Name: count, dtype: int64"
      ]
     },
     "execution_count": 44,
     "metadata": {},
     "output_type": "execute_result"
    }
   ],
   "source": [
    "samples_bad = df[(df['ChgOffPrinGr'].notna()) & ((df['ChgOffPrinGr'] != 0.0) | (df['ChgOffPrinGr'] > 0.0))]\n",
    "df.loc[samples_bad.index, 'MIS_Status'] = samples_bad['MIS_Status'].replace(['P I F', np.nan], 'CHGOFF')\n",
    "df['ChgOffPrinGr'] = df['ChgOffPrinGr'].apply(currency_cleaning).fillna(0.0).astype(float).astype(int)\n",
    "samples_bad['MIS_Status'].value_counts()"
   ]
  },
  {
   "cell_type": "code",
   "execution_count": 45,
   "metadata": {},
   "outputs": [
    {
     "data": {
      "text/plain": [
       "0"
      ]
     },
     "execution_count": 45,
     "metadata": {},
     "output_type": "execute_result"
    }
   ],
   "source": [
    "samples_bad['MIS_Status'].isna().sum()"
   ]
  },
  {
   "cell_type": "code",
   "execution_count": 46,
   "metadata": {},
   "outputs": [
    {
     "data": {
      "text/plain": [
       "MIS_Status\n",
       "CHGOFF    145148\n",
       "Name: count, dtype: int64"
      ]
     },
     "execution_count": 46,
     "metadata": {},
     "output_type": "execute_result"
    }
   ],
   "source": [
    "status_counts = df.loc[samples_bad.index, 'MIS_Status'].value_counts()#.isna().sum() == 0\n",
    "\n",
    "status_counts"
   ]
  },
  {
   "cell_type": "code",
   "execution_count": 47,
   "metadata": {},
   "outputs": [
    {
     "data": {
      "text/plain": [
       "RevLineCr\n",
       "N    484187\n",
       "Y    195147\n",
       "Name: count, dtype: int64"
      ]
     },
     "execution_count": 47,
     "metadata": {},
     "output_type": "execute_result"
    }
   ],
   "source": [
    "mapping = {'0': 'N', '1': 'Y'}\n",
    "df['RevLineCr'] = df['RevLineCr'].replace(mapping)\n",
    "\n",
    "valid_values = ['N', 'Y']\n",
    "df = df[df['RevLineCr'].isin(valid_values)]\n",
    "\n",
    "df['RevLineCr'].value_counts()"
   ]
  },
  {
   "cell_type": "code",
   "execution_count": 48,
   "metadata": {},
   "outputs": [
    {
     "data": {
      "text/plain": [
       "LowDoc\n",
       "N    608823\n",
       "Y     66203\n",
       "Name: count, dtype: int64"
      ]
     },
     "execution_count": 48,
     "metadata": {},
     "output_type": "execute_result"
    }
   ],
   "source": [
    "mapping = {'0': 'N', '1': 'Y'}\n",
    "df['LowDoc'] = df['LowDoc'].replace(mapping)\n",
    "\n",
    "valid_values = ['N', 'Y']\n",
    "df = df[df['LowDoc'].isin(valid_values)]\n",
    "\n",
    "df['LowDoc'].value_counts()"
   ]
  },
  {
   "cell_type": "code",
   "execution_count": 49,
   "metadata": {},
   "outputs": [],
   "source": [
    "df.dropna(subset=['BankState', 'Bank', 'State'], inplace=True)"
   ]
  },
  {
   "cell_type": "code",
   "execution_count": 50,
   "metadata": {},
   "outputs": [],
   "source": [
    "df.drop_duplicates(subset=['LoanNr_ChkDgt'], inplace=True)"
   ]
  },
  {
   "cell_type": "code",
   "execution_count": 51,
   "metadata": {},
   "outputs": [],
   "source": [
    "df['FranchiseCode'] = df['FranchiseCode'].apply(lambda x: 1 if x >= 1 else 0)"
   ]
  },
  {
   "cell_type": "code",
   "execution_count": 52,
   "metadata": {},
   "outputs": [
    {
     "data": {
      "text/plain": [
       "FranchiseCode\n",
       "1    493367\n",
       "0    181033\n",
       "Name: count, dtype: int64"
      ]
     },
     "execution_count": 52,
     "metadata": {},
     "output_type": "execute_result"
    }
   ],
   "source": [
    "df['FranchiseCode'].value_counts()"
   ]
  },
  {
   "cell_type": "code",
   "execution_count": 53,
   "metadata": {},
   "outputs": [],
   "source": [
    "MIS_Status = pd.get_dummies(df['MIS_Status'], drop_first=True)\n",
    "df.drop(['MIS_Status'], axis=1, inplace=True)\n",
    "df = pd.concat([df, MIS_Status], axis=1)\n",
    "df = df.rename(columns={'P I F': 'Approve'})"
   ]
  },
  {
   "cell_type": "code",
   "execution_count": 54,
   "metadata": {},
   "outputs": [],
   "source": [
    "leaking_feature = ['ChgOffPrinGr', 'BalanceGross', 'DisbursementGross', 'DisbursementDate', 'ChgOffDate']\n",
    "useless_feature = ['Name', 'Zip', 'LoanNr_ChkDgt', 'City', 'State', 'Bank', 'BankState', 'ApprovalDate', 'ApprovalFY']\n",
    "df = df.drop(leaking_feature, axis=1)\n",
    "df = df.drop(useless_feature, axis=1)\n",
    "df.dropna(inplace=True)"
   ]
  },
  {
   "cell_type": "code",
   "execution_count": 55,
   "metadata": {},
   "outputs": [
    {
     "data": {
      "text/plain": [
       "(674400, 13)"
      ]
     },
     "execution_count": 55,
     "metadata": {},
     "output_type": "execute_result"
    }
   ],
   "source": [
    "df.shape"
   ]
  },
  {
   "cell_type": "code",
   "execution_count": 56,
   "metadata": {},
   "outputs": [
    {
     "data": {
      "text/html": [
       "<div>\n",
       "<style scoped>\n",
       "    .dataframe tbody tr th:only-of-type {\n",
       "        vertical-align: middle;\n",
       "    }\n",
       "\n",
       "    .dataframe tbody tr th {\n",
       "        vertical-align: top;\n",
       "    }\n",
       "\n",
       "    .dataframe thead th {\n",
       "        text-align: right;\n",
       "    }\n",
       "</style>\n",
       "<table border=\"1\" class=\"dataframe\">\n",
       "  <thead>\n",
       "    <tr style=\"text-align: right;\">\n",
       "      <th></th>\n",
       "      <th>NAICS</th>\n",
       "      <th>Term</th>\n",
       "      <th>NoEmp</th>\n",
       "      <th>NewExist</th>\n",
       "      <th>CreateJob</th>\n",
       "      <th>RetainedJob</th>\n",
       "      <th>FranchiseCode</th>\n",
       "      <th>UrbanRural</th>\n",
       "      <th>RevLineCr</th>\n",
       "      <th>LowDoc</th>\n",
       "      <th>GrAppv</th>\n",
       "      <th>SBA_Appv</th>\n",
       "      <th>Approve</th>\n",
       "    </tr>\n",
       "  </thead>\n",
       "  <tbody>\n",
       "    <tr>\n",
       "      <th>0</th>\n",
       "      <td>44-45</td>\n",
       "      <td>84</td>\n",
       "      <td>4</td>\n",
       "      <td>2.0</td>\n",
       "      <td>0</td>\n",
       "      <td>0</td>\n",
       "      <td>1</td>\n",
       "      <td>0</td>\n",
       "      <td>N</td>\n",
       "      <td>Y</td>\n",
       "      <td>60000</td>\n",
       "      <td>48000</td>\n",
       "      <td>True</td>\n",
       "    </tr>\n",
       "    <tr>\n",
       "      <th>1</th>\n",
       "      <td>72</td>\n",
       "      <td>60</td>\n",
       "      <td>2</td>\n",
       "      <td>2.0</td>\n",
       "      <td>0</td>\n",
       "      <td>0</td>\n",
       "      <td>1</td>\n",
       "      <td>0</td>\n",
       "      <td>N</td>\n",
       "      <td>Y</td>\n",
       "      <td>40000</td>\n",
       "      <td>32000</td>\n",
       "      <td>True</td>\n",
       "    </tr>\n",
       "    <tr>\n",
       "      <th>2</th>\n",
       "      <td>62</td>\n",
       "      <td>180</td>\n",
       "      <td>7</td>\n",
       "      <td>1.0</td>\n",
       "      <td>0</td>\n",
       "      <td>0</td>\n",
       "      <td>1</td>\n",
       "      <td>0</td>\n",
       "      <td>N</td>\n",
       "      <td>N</td>\n",
       "      <td>287000</td>\n",
       "      <td>215250</td>\n",
       "      <td>True</td>\n",
       "    </tr>\n",
       "    <tr>\n",
       "      <th>5</th>\n",
       "      <td>31-33</td>\n",
       "      <td>120</td>\n",
       "      <td>19</td>\n",
       "      <td>1.0</td>\n",
       "      <td>0</td>\n",
       "      <td>0</td>\n",
       "      <td>1</td>\n",
       "      <td>0</td>\n",
       "      <td>N</td>\n",
       "      <td>N</td>\n",
       "      <td>517000</td>\n",
       "      <td>387750</td>\n",
       "      <td>True</td>\n",
       "    </tr>\n",
       "    <tr>\n",
       "      <th>7</th>\n",
       "      <td>81</td>\n",
       "      <td>84</td>\n",
       "      <td>1</td>\n",
       "      <td>2.0</td>\n",
       "      <td>0</td>\n",
       "      <td>0</td>\n",
       "      <td>1</td>\n",
       "      <td>0</td>\n",
       "      <td>N</td>\n",
       "      <td>Y</td>\n",
       "      <td>45000</td>\n",
       "      <td>36000</td>\n",
       "      <td>True</td>\n",
       "    </tr>\n",
       "  </tbody>\n",
       "</table>\n",
       "</div>"
      ],
      "text/plain": [
       "   NAICS  Term  NoEmp  NewExist  CreateJob  RetainedJob  FranchiseCode  \\\n",
       "0  44-45    84      4       2.0          0            0              1   \n",
       "1     72    60      2       2.0          0            0              1   \n",
       "2     62   180      7       1.0          0            0              1   \n",
       "5  31-33   120     19       1.0          0            0              1   \n",
       "7     81    84      1       2.0          0            0              1   \n",
       "\n",
       "   UrbanRural RevLineCr LowDoc  GrAppv  SBA_Appv  Approve  \n",
       "0           0         N      Y   60000     48000     True  \n",
       "1           0         N      Y   40000     32000     True  \n",
       "2           0         N      N  287000    215250     True  \n",
       "5           0         N      N  517000    387750     True  \n",
       "7           0         N      Y   45000     36000     True  "
      ]
     },
     "execution_count": 56,
     "metadata": {},
     "output_type": "execute_result"
    }
   ],
   "source": [
    "df.head()"
   ]
  },
  {
   "cell_type": "code",
   "execution_count": 57,
   "metadata": {},
   "outputs": [
    {
     "name": "stdout",
     "output_type": "stream",
     "text": [
      "Le DataFrame a été converti avec succès en fichier CSV : ../Dataset/SBA_Cleaned_maybe.csv\n"
     ]
    }
   ],
   "source": [
    "df_to_csv(df, folder_path, 'SBA_Cleaned_maybe.csv')"
   ]
  },
  {
   "cell_type": "code",
   "execution_count": 58,
   "metadata": {},
   "outputs": [],
   "source": [
    "y = df['Approve']\n",
    "X = df.drop('Approve', axis=1)\n",
    "X_train, X_test, y_train, y_test = train_test_split(X, y, shuffle=True, test_size=0.05, random_state=42, stratify=y)"
   ]
  },
  {
   "cell_type": "code",
   "execution_count": 59,
   "metadata": {},
   "outputs": [],
   "source": [
    "numerical_columns_selector = X.select_dtypes(exclude='object').columns\n",
    "categorical_columns_selector = X.select_dtypes(include='object').columns\n",
    "\n",
    "numerical_columns = X[numerical_columns_selector]\n",
    "categorical_columns = X[categorical_columns_selector]"
   ]
  },
  {
   "cell_type": "code",
   "execution_count": null,
   "metadata": {},
   "outputs": [],
   "source": [
    "categorical_preprocessor = OneHotEncoder(handle_unknown=\"ignore\", sparse_output=False)\n",
    "numerical_preprocessor = StandardScaler()"
   ]
  },
  {
   "cell_type": "code",
   "execution_count": null,
   "metadata": {},
   "outputs": [],
   "source": [
    "preprocessor = ColumnTransformer(\n",
    "    transformers=[\n",
    "        (\"num\", numerical_preprocessor, numerical_columns_selector),\n",
    "        (\"cat\", categorical_preprocessor, categorical_columns_selector)\n",
    "    ]\n",
    ")"
   ]
  },
  {
   "cell_type": "code",
   "execution_count": 60,
   "metadata": {},
   "outputs": [
    {
     "name": "stdout",
     "output_type": "stream",
     "text": [
      "Model Accuracy: 0.908\n"
     ]
    }
   ],
   "source": [
    "pipeline = Pipeline([\n",
    "    ('preprocessor', preprocessor),\n",
    "    ('model', RandomForestClassifier(n_jobs=-1, random_state=42))\n",
    "])\n",
    "\n",
    "set_config(transform_output=\"pandas\")\n"
   ]
  },
  {
   "cell_type": "code",
   "execution_count": null,
   "metadata": {},
   "outputs": [],
   "source": [
    "param_grid = {\n",
    "    'model__n_estimators': [50, 100, 150],\n",
    "    'model__max_depth': [None, 10, 20, 30],\n",
    "    'model__min_samples_split': [2, 5, 10],\n",
    "    'model__min_samples_leaf': [1, 2, 4],\n",
    "    'model__max_features': ['auto', 'sqrt', 'log2']\n",
    "}"
   ]
  },
  {
   "cell_type": "code",
   "execution_count": null,
   "metadata": {},
   "outputs": [],
   "source": [
    "grid_search = GridSearchCV(pipeline, param_grid, cv=5, scoring='f1_macro')\n",
    "grid_search.fit(X_train, y_train)"
   ]
  },
  {
   "cell_type": "code",
   "execution_count": null,
   "metadata": {},
   "outputs": [],
   "source": [
    "print(\"Meilleurs hyperparamètres trouvés :\")\n",
    "print(grid_search.best_params_)\n",
    "\n",
    "print(\"Meilleure précision trouvée :\", grid_search.best_score_)"
   ]
  },
  {
   "cell_type": "code",
   "execution_count": null,
   "metadata": {},
   "outputs": [],
   "source": [
    "best_model = grid_search.best_estimator_\n",
    "\n",
    "predictions = best_model.predict(X_test)"
   ]
  },
  {
   "cell_type": "code",
   "execution_count": null,
   "metadata": {},
   "outputs": [],
   "source": [
    "f1_macro = f1_score(y_test, predictions, average='macro')\n",
    "\n",
    "print(\"F1-score macro sur l'ensemble de test :\", f1_macro)"
   ]
  },
  {
   "cell_type": "code",
   "execution_count": 61,
   "metadata": {},
   "outputs": [],
   "source": [
    "maybe_leaking_feature = ['RetainedJob', 'CreateJob']\n",
    "maybe_leaking_fea = ['SBA_Appv', 'GrAppv']\n",
    "df = df.drop(maybe_leaking_feature, axis=1)"
   ]
  },
  {
   "cell_type": "code",
   "execution_count": 62,
   "metadata": {},
   "outputs": [
    {
     "data": {
      "text/html": [
       "<div>\n",
       "<style scoped>\n",
       "    .dataframe tbody tr th:only-of-type {\n",
       "        vertical-align: middle;\n",
       "    }\n",
       "\n",
       "    .dataframe tbody tr th {\n",
       "        vertical-align: top;\n",
       "    }\n",
       "\n",
       "    .dataframe thead th {\n",
       "        text-align: right;\n",
       "    }\n",
       "</style>\n",
       "<table border=\"1\" class=\"dataframe\">\n",
       "  <thead>\n",
       "    <tr style=\"text-align: right;\">\n",
       "      <th></th>\n",
       "      <th>feature</th>\n",
       "      <th>data_type</th>\n",
       "      <th>null</th>\n",
       "      <th>nulPct</th>\n",
       "      <th>unique</th>\n",
       "      <th>uniqueSample</th>\n",
       "    </tr>\n",
       "  </thead>\n",
       "  <tbody>\n",
       "    <tr>\n",
       "      <th>0</th>\n",
       "      <td>NAICS</td>\n",
       "      <td>object</td>\n",
       "      <td>0</td>\n",
       "      <td>0.0</td>\n",
       "      <td>20</td>\n",
       "      <td>[23, 44-45, 72, 81]</td>\n",
       "    </tr>\n",
       "    <tr>\n",
       "      <th>1</th>\n",
       "      <td>Term</td>\n",
       "      <td>int64</td>\n",
       "      <td>0</td>\n",
       "      <td>0.0</td>\n",
       "      <td>377</td>\n",
       "      <td>[63, 60, 64, 108, 84]</td>\n",
       "    </tr>\n",
       "    <tr>\n",
       "      <th>2</th>\n",
       "      <td>NoEmp</td>\n",
       "      <td>int64</td>\n",
       "      <td>0</td>\n",
       "      <td>0.0</td>\n",
       "      <td>499</td>\n",
       "      <td>[1, 2, 5]</td>\n",
       "    </tr>\n",
       "    <tr>\n",
       "      <th>3</th>\n",
       "      <td>NewExist</td>\n",
       "      <td>float64</td>\n",
       "      <td>0</td>\n",
       "      <td>0.0</td>\n",
       "      <td>2</td>\n",
       "      <td>[1.0]</td>\n",
       "    </tr>\n",
       "    <tr>\n",
       "      <th>4</th>\n",
       "      <td>FranchiseCode</td>\n",
       "      <td>int64</td>\n",
       "      <td>0</td>\n",
       "      <td>0.0</td>\n",
       "      <td>2</td>\n",
       "      <td>[1, 0]</td>\n",
       "    </tr>\n",
       "    <tr>\n",
       "      <th>5</th>\n",
       "      <td>UrbanRural</td>\n",
       "      <td>int64</td>\n",
       "      <td>0</td>\n",
       "      <td>0.0</td>\n",
       "      <td>3</td>\n",
       "      <td>[1, 0]</td>\n",
       "    </tr>\n",
       "    <tr>\n",
       "      <th>6</th>\n",
       "      <td>RevLineCr</td>\n",
       "      <td>object</td>\n",
       "      <td>0</td>\n",
       "      <td>0.0</td>\n",
       "      <td>2</td>\n",
       "      <td>[N, Y]</td>\n",
       "    </tr>\n",
       "    <tr>\n",
       "      <th>7</th>\n",
       "      <td>LowDoc</td>\n",
       "      <td>object</td>\n",
       "      <td>0</td>\n",
       "      <td>0.0</td>\n",
       "      <td>2</td>\n",
       "      <td>[N]</td>\n",
       "    </tr>\n",
       "    <tr>\n",
       "      <th>8</th>\n",
       "      <td>GrAppv</td>\n",
       "      <td>int64</td>\n",
       "      <td>0</td>\n",
       "      <td>0.0</td>\n",
       "      <td>16868</td>\n",
       "      <td>[850000, 200000, 20000, 10000]</td>\n",
       "    </tr>\n",
       "    <tr>\n",
       "      <th>9</th>\n",
       "      <td>SBA_Appv</td>\n",
       "      <td>int64</td>\n",
       "      <td>0</td>\n",
       "      <td>0.0</td>\n",
       "      <td>28200</td>\n",
       "      <td>[3500, 100000, 5000, 12500, 42500]</td>\n",
       "    </tr>\n",
       "    <tr>\n",
       "      <th>10</th>\n",
       "      <td>Approve</td>\n",
       "      <td>bool</td>\n",
       "      <td>0</td>\n",
       "      <td>0.0</td>\n",
       "      <td>2</td>\n",
       "      <td>[True, False]</td>\n",
       "    </tr>\n",
       "  </tbody>\n",
       "</table>\n",
       "</div>"
      ],
      "text/plain": [
       "          feature data_type  null  nulPct  unique  \\\n",
       "0           NAICS    object     0     0.0      20   \n",
       "1            Term     int64     0     0.0     377   \n",
       "2           NoEmp     int64     0     0.0     499   \n",
       "3        NewExist   float64     0     0.0       2   \n",
       "4   FranchiseCode     int64     0     0.0       2   \n",
       "5      UrbanRural     int64     0     0.0       3   \n",
       "6       RevLineCr    object     0     0.0       2   \n",
       "7          LowDoc    object     0     0.0       2   \n",
       "8          GrAppv     int64     0     0.0   16868   \n",
       "9        SBA_Appv     int64     0     0.0   28200   \n",
       "10        Approve      bool     0     0.0       2   \n",
       "\n",
       "                          uniqueSample  \n",
       "0                  [23, 44-45, 72, 81]  \n",
       "1                [63, 60, 64, 108, 84]  \n",
       "2                            [1, 2, 5]  \n",
       "3                                [1.0]  \n",
       "4                               [1, 0]  \n",
       "5                               [1, 0]  \n",
       "6                               [N, Y]  \n",
       "7                                  [N]  \n",
       "8       [850000, 200000, 20000, 10000]  \n",
       "9   [3500, 100000, 5000, 12500, 42500]  \n",
       "10                       [True, False]  "
      ]
     },
     "execution_count": 62,
     "metadata": {},
     "output_type": "execute_result"
    }
   ],
   "source": [
    "generate_description(df)"
   ]
  },
  {
   "cell_type": "code",
   "execution_count": 63,
   "metadata": {},
   "outputs": [],
   "source": [
    "y = df['Approve']\n",
    "X = df.drop('Approve', axis=1)"
   ]
  },
  {
   "cell_type": "code",
   "execution_count": 64,
   "metadata": {},
   "outputs": [],
   "source": [
    "X_train, X_test, y_train, y_test = train_test_split(X, y, shuffle=True, test_size=0.05, random_state=42, stratify=y)"
   ]
  },
  {
   "cell_type": "code",
   "execution_count": 65,
   "metadata": {},
   "outputs": [],
   "source": [
    "numerical_columns_selector = X.select_dtypes(exclude='object').columns\n",
    "categorical_columns_selector = X.select_dtypes(include='object').columns\n",
    "\n",
    "numerical_columns = X[numerical_columns_selector]\n",
    "categorical_columns = X[categorical_columns_selector]"
   ]
  },
  {
   "cell_type": "code",
   "execution_count": 66,
   "metadata": {},
   "outputs": [],
   "source": [
    "categorical_preprocessor = OneHotEncoder(handle_unknown=\"ignore\", sparse_output=False)\n",
    "numerical_preprocessor = StandardScaler()\n",
    "\n",
    "preprocessor = ColumnTransformer(\n",
    "    transformers=[\n",
    "        (\"nums\", numerical_preprocessor, numerical_columns_selector),\n",
    "        (\"cat\", categorical_preprocessor, categorical_columns_selector)\n",
    "    ]\n",
    ")"
   ]
  },
  {
   "cell_type": "code",
   "execution_count": 67,
   "metadata": {},
   "outputs": [],
   "source": [
    "pipeline = Pipeline([\n",
    "    ('preprocessor', preprocessor),\n",
    "    ('model', RandomForestClassifier(max_depth=25, min_samples_leaf=80, min_samples_split=3, n_estimators=70, max_samples=0.7, n_jobs=-1 ,random_state=42))\n",
    "])"
   ]
  },
  {
   "cell_type": "code",
   "execution_count": 68,
   "metadata": {},
   "outputs": [
    {
     "name": "stdout",
     "output_type": "stream",
     "text": [
      "Model Accuracy: 0.911\n"
     ]
    }
   ],
   "source": [
    "set_config(transform_output=\"pandas\")\n",
    "\n",
    "pipeline.fit(X_train, y_train)\n",
    "\n",
    "y_pred = pipeline.predict(X_test)\n",
    "\n",
    "accuracy = accuracy_score(y_test, y_pred)\n",
    "print(f'Model Accuracy: {accuracy:.3f}')\n",
    "\n",
    "f1_macro = f1_score(y_test, y_pred, average='macro')\n",
    "\n",
    "print(\"F1-score macro sur l'ensemble de test :\", f1_macro)"
   ]
  }
 ],
 "metadata": {
  "kernelspec": {
   "display_name": "Python 3",
   "language": "python",
   "name": "python3"
  },
  "language_info": {
   "codemirror_mode": {
    "name": "ipython",
    "version": 3
   },
   "file_extension": ".py",
   "mimetype": "text/x-python",
   "name": "python",
   "nbconvert_exporter": "python",
   "pygments_lexer": "ipython3",
   "version": "3.10.12"
  }
 },
 "nbformat": 4,
 "nbformat_minor": 2
}
