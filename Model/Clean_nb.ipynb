{
 "cells": [
  {
   "cell_type": "code",
   "execution_count": 1,
   "metadata": {},
   "outputs": [
    {
     "name": "stderr",
     "output_type": "stream",
     "text": [
      "/tmp/ipykernel_41201/558710212.py:22: DtypeWarning: Columns (9) have mixed types.Specify dtype option on import or set low_memory=False.\n",
      "  SBA = charger_csv(partie1, partie2, partie3, partie4)\n"
     ]
    }
   ],
   "source": [
    "import sys\n",
    "sys.path.append('../Module')\n",
    "\n",
    "import numpy as np\n",
    "import pandas as pd\n",
    "import matplotlib.pyplot as plt\n",
    "import seaborn as sns\n",
    "\n",
    "%matplotlib inline\n",
    "\n",
    "from loader_csv import charger_csv\n",
    "\n",
    "\n",
    "\n",
    "# Spécifiez les chemins des quatre parties du CSV découpé\n",
    "partie1 = \"../Dataset/SBAnational_part_part1.csv\"\n",
    "partie2 = \"../Dataset/SBAnational_part_part2.csv\"\n",
    "partie3 = \"../Dataset/SBAnational_part_part3.csv\"\n",
    "partie4 = \"../Dataset/SBAnational_part_part4.csv\"\n",
    "\n",
    "# Utilisez la fonction charger_csv pour obtenir un DataFrame avec toutes les données réassemblées\n",
    "SBA = charger_csv(partie1, partie2, partie3, partie4)"
   ]
  },
  {
   "cell_type": "markdown",
   "metadata": {},
   "source": [
    "Dataset: SBA Loan Dataset | Source: Kaggle\n",
    "\n",
    "The dataset is from the U.S. Small Business Administration (SBA)\n",
    "\n",
    "The U.S. SBA was founded in 1953 on the principle of promoting and assisting small enterprises in the U.S. credit market (SBA Overview and History, US Small Business Administration (2015)). Small businesses have been a primary source of job creation in the United States; therefore, fostering small business formation and growth has social benefits by creating job opportunities and reducing unemployment.\n",
    "\n",
    "There have been many success stories of start-ups receiving SBA loan guarantees such as FedEx and Apple Computer. However, there have also been stories of small businesses and/or start-ups that have defaulted on their SBA-guaranteed loans.\n",
    "\n",
    "In this final project, I will build a Flask-based web app that can recommend whether the loan is approved or not based on the given term and loan condition.\n"
   ]
  },
  {
   "cell_type": "code",
   "execution_count": 2,
   "metadata": {},
   "outputs": [],
   "source": [
    "pd.set_option('display.max_columns', None)\n",
    "# pd.set_option('display.max_rows', None)"
   ]
  },
  {
   "cell_type": "code",
   "execution_count": 3,
   "metadata": {},
   "outputs": [
    {
     "data": {
      "text/html": [
       "<div>\n",
       "<style scoped>\n",
       "    .dataframe tbody tr th:only-of-type {\n",
       "        vertical-align: middle;\n",
       "    }\n",
       "\n",
       "    .dataframe tbody tr th {\n",
       "        vertical-align: top;\n",
       "    }\n",
       "\n",
       "    .dataframe thead th {\n",
       "        text-align: right;\n",
       "    }\n",
       "</style>\n",
       "<table border=\"1\" class=\"dataframe\">\n",
       "  <thead>\n",
       "    <tr style=\"text-align: right;\">\n",
       "      <th></th>\n",
       "      <th>LoanNr_ChkDgt</th>\n",
       "      <th>Name</th>\n",
       "      <th>City</th>\n",
       "      <th>State</th>\n",
       "      <th>Zip</th>\n",
       "      <th>Bank</th>\n",
       "      <th>BankState</th>\n",
       "      <th>NAICS</th>\n",
       "      <th>ApprovalDate</th>\n",
       "      <th>ApprovalFY</th>\n",
       "      <th>Term</th>\n",
       "      <th>NoEmp</th>\n",
       "      <th>NewExist</th>\n",
       "      <th>CreateJob</th>\n",
       "      <th>RetainedJob</th>\n",
       "      <th>FranchiseCode</th>\n",
       "      <th>UrbanRural</th>\n",
       "      <th>RevLineCr</th>\n",
       "      <th>LowDoc</th>\n",
       "      <th>ChgOffDate</th>\n",
       "      <th>DisbursementDate</th>\n",
       "      <th>DisbursementGross</th>\n",
       "      <th>BalanceGross</th>\n",
       "      <th>MIS_Status</th>\n",
       "      <th>ChgOffPrinGr</th>\n",
       "      <th>GrAppv</th>\n",
       "      <th>SBA_Appv</th>\n",
       "    </tr>\n",
       "  </thead>\n",
       "  <tbody>\n",
       "    <tr>\n",
       "      <th>0</th>\n",
       "      <td>1000014003</td>\n",
       "      <td>ABC HOBBYCRAFT</td>\n",
       "      <td>EVANSVILLE</td>\n",
       "      <td>IN</td>\n",
       "      <td>47711</td>\n",
       "      <td>FIFTH THIRD BANK</td>\n",
       "      <td>OH</td>\n",
       "      <td>451120</td>\n",
       "      <td>28-Feb-97</td>\n",
       "      <td>1997</td>\n",
       "      <td>84</td>\n",
       "      <td>4</td>\n",
       "      <td>2.0</td>\n",
       "      <td>0</td>\n",
       "      <td>0</td>\n",
       "      <td>1</td>\n",
       "      <td>0</td>\n",
       "      <td>N</td>\n",
       "      <td>Y</td>\n",
       "      <td>NaN</td>\n",
       "      <td>28-Feb-99</td>\n",
       "      <td>$60,000.00</td>\n",
       "      <td>$0.00</td>\n",
       "      <td>P I F</td>\n",
       "      <td>$0.00</td>\n",
       "      <td>$60,000.00</td>\n",
       "      <td>$48,000.00</td>\n",
       "    </tr>\n",
       "    <tr>\n",
       "      <th>1</th>\n",
       "      <td>1000024006</td>\n",
       "      <td>LANDMARK BAR &amp; GRILLE (THE)</td>\n",
       "      <td>NEW PARIS</td>\n",
       "      <td>IN</td>\n",
       "      <td>46526</td>\n",
       "      <td>1ST SOURCE BANK</td>\n",
       "      <td>IN</td>\n",
       "      <td>722410</td>\n",
       "      <td>28-Feb-97</td>\n",
       "      <td>1997</td>\n",
       "      <td>60</td>\n",
       "      <td>2</td>\n",
       "      <td>2.0</td>\n",
       "      <td>0</td>\n",
       "      <td>0</td>\n",
       "      <td>1</td>\n",
       "      <td>0</td>\n",
       "      <td>N</td>\n",
       "      <td>Y</td>\n",
       "      <td>NaN</td>\n",
       "      <td>31-May-97</td>\n",
       "      <td>$40,000.00</td>\n",
       "      <td>$0.00</td>\n",
       "      <td>P I F</td>\n",
       "      <td>$0.00</td>\n",
       "      <td>$40,000.00</td>\n",
       "      <td>$32,000.00</td>\n",
       "    </tr>\n",
       "    <tr>\n",
       "      <th>2</th>\n",
       "      <td>1000034009</td>\n",
       "      <td>WHITLOCK DDS, TODD M.</td>\n",
       "      <td>BLOOMINGTON</td>\n",
       "      <td>IN</td>\n",
       "      <td>47401</td>\n",
       "      <td>GRANT COUNTY STATE BANK</td>\n",
       "      <td>IN</td>\n",
       "      <td>621210</td>\n",
       "      <td>28-Feb-97</td>\n",
       "      <td>1997</td>\n",
       "      <td>180</td>\n",
       "      <td>7</td>\n",
       "      <td>1.0</td>\n",
       "      <td>0</td>\n",
       "      <td>0</td>\n",
       "      <td>1</td>\n",
       "      <td>0</td>\n",
       "      <td>N</td>\n",
       "      <td>N</td>\n",
       "      <td>NaN</td>\n",
       "      <td>31-Dec-97</td>\n",
       "      <td>$287,000.00</td>\n",
       "      <td>$0.00</td>\n",
       "      <td>P I F</td>\n",
       "      <td>$0.00</td>\n",
       "      <td>$287,000.00</td>\n",
       "      <td>$215,250.00</td>\n",
       "    </tr>\n",
       "    <tr>\n",
       "      <th>3</th>\n",
       "      <td>1000044001</td>\n",
       "      <td>BIG BUCKS PAWN &amp; JEWELRY, LLC</td>\n",
       "      <td>BROKEN ARROW</td>\n",
       "      <td>OK</td>\n",
       "      <td>74012</td>\n",
       "      <td>1ST NATL BK &amp; TR CO OF BROKEN</td>\n",
       "      <td>OK</td>\n",
       "      <td>0</td>\n",
       "      <td>28-Feb-97</td>\n",
       "      <td>1997</td>\n",
       "      <td>60</td>\n",
       "      <td>2</td>\n",
       "      <td>1.0</td>\n",
       "      <td>0</td>\n",
       "      <td>0</td>\n",
       "      <td>1</td>\n",
       "      <td>0</td>\n",
       "      <td>N</td>\n",
       "      <td>Y</td>\n",
       "      <td>NaN</td>\n",
       "      <td>30-Jun-97</td>\n",
       "      <td>$35,000.00</td>\n",
       "      <td>$0.00</td>\n",
       "      <td>P I F</td>\n",
       "      <td>$0.00</td>\n",
       "      <td>$35,000.00</td>\n",
       "      <td>$28,000.00</td>\n",
       "    </tr>\n",
       "    <tr>\n",
       "      <th>4</th>\n",
       "      <td>1000054004</td>\n",
       "      <td>ANASTASIA CONFECTIONS, INC.</td>\n",
       "      <td>ORLANDO</td>\n",
       "      <td>FL</td>\n",
       "      <td>32801</td>\n",
       "      <td>FLORIDA BUS. DEVEL CORP</td>\n",
       "      <td>FL</td>\n",
       "      <td>0</td>\n",
       "      <td>28-Feb-97</td>\n",
       "      <td>1997</td>\n",
       "      <td>240</td>\n",
       "      <td>14</td>\n",
       "      <td>1.0</td>\n",
       "      <td>7</td>\n",
       "      <td>7</td>\n",
       "      <td>1</td>\n",
       "      <td>0</td>\n",
       "      <td>N</td>\n",
       "      <td>N</td>\n",
       "      <td>NaN</td>\n",
       "      <td>14-May-97</td>\n",
       "      <td>$229,000.00</td>\n",
       "      <td>$0.00</td>\n",
       "      <td>P I F</td>\n",
       "      <td>$0.00</td>\n",
       "      <td>$229,000.00</td>\n",
       "      <td>$229,000.00</td>\n",
       "    </tr>\n",
       "  </tbody>\n",
       "</table>\n",
       "</div>"
      ],
      "text/plain": [
       "   LoanNr_ChkDgt                           Name          City State    Zip  \\\n",
       "0     1000014003                 ABC HOBBYCRAFT    EVANSVILLE    IN  47711   \n",
       "1     1000024006    LANDMARK BAR & GRILLE (THE)     NEW PARIS    IN  46526   \n",
       "2     1000034009          WHITLOCK DDS, TODD M.   BLOOMINGTON    IN  47401   \n",
       "3     1000044001  BIG BUCKS PAWN & JEWELRY, LLC  BROKEN ARROW    OK  74012   \n",
       "4     1000054004    ANASTASIA CONFECTIONS, INC.       ORLANDO    FL  32801   \n",
       "\n",
       "                            Bank BankState   NAICS ApprovalDate ApprovalFY  \\\n",
       "0               FIFTH THIRD BANK        OH  451120    28-Feb-97       1997   \n",
       "1                1ST SOURCE BANK        IN  722410    28-Feb-97       1997   \n",
       "2        GRANT COUNTY STATE BANK        IN  621210    28-Feb-97       1997   \n",
       "3  1ST NATL BK & TR CO OF BROKEN        OK       0    28-Feb-97       1997   \n",
       "4        FLORIDA BUS. DEVEL CORP        FL       0    28-Feb-97       1997   \n",
       "\n",
       "   Term  NoEmp  NewExist  CreateJob  RetainedJob  FranchiseCode  UrbanRural  \\\n",
       "0    84      4       2.0          0            0              1           0   \n",
       "1    60      2       2.0          0            0              1           0   \n",
       "2   180      7       1.0          0            0              1           0   \n",
       "3    60      2       1.0          0            0              1           0   \n",
       "4   240     14       1.0          7            7              1           0   \n",
       "\n",
       "  RevLineCr LowDoc ChgOffDate DisbursementDate DisbursementGross BalanceGross  \\\n",
       "0         N      Y        NaN        28-Feb-99       $60,000.00        $0.00    \n",
       "1         N      Y        NaN        31-May-97       $40,000.00        $0.00    \n",
       "2         N      N        NaN        31-Dec-97      $287,000.00        $0.00    \n",
       "3         N      Y        NaN        30-Jun-97       $35,000.00        $0.00    \n",
       "4         N      N        NaN        14-May-97      $229,000.00        $0.00    \n",
       "\n",
       "  MIS_Status ChgOffPrinGr        GrAppv      SBA_Appv  \n",
       "0      P I F       $0.00    $60,000.00    $48,000.00   \n",
       "1      P I F       $0.00    $40,000.00    $32,000.00   \n",
       "2      P I F       $0.00   $287,000.00   $215,250.00   \n",
       "3      P I F       $0.00    $35,000.00    $28,000.00   \n",
       "4      P I F       $0.00   $229,000.00   $229,000.00   "
      ]
     },
     "execution_count": 3,
     "metadata": {},
     "output_type": "execute_result"
    }
   ],
   "source": [
    "SBA.head()"
   ]
  },
  {
   "cell_type": "code",
   "execution_count": 4,
   "metadata": {},
   "outputs": [
    {
     "data": {
      "text/plain": [
       "899164"
      ]
     },
     "execution_count": 4,
     "metadata": {},
     "output_type": "execute_result"
    }
   ],
   "source": [
    "len(SBA)"
   ]
  },
  {
   "cell_type": "markdown",
   "metadata": {},
   "source": [
    "With the given dataset, we have around 899164 rows of SBA Loan historical data.\n",
    "\n",
    "Columns\n",
    "\n",
    "    LoanNr_ChkDgt : Identifier\n",
    "    Name : Borrower Name\n",
    "    City : Borrower City\n",
    "    State : Borrower State\n",
    "    Zip : Borrower Zip Code\n",
    "    Bank : Bank Name\n",
    "    BankState : Bank State\n",
    "    NAICS : North American industry classification system code.\n",
    "    ApprovalDate : Date SBA commitment issued\n",
    "    ApprovalFY : Fiscal year of commitment\n",
    "    Term : Loan term in months\n",
    "    NoEmp : Number of Business Employees\n",
    "    NewExist : 1 = Existing business, 2 = New business\n",
    "    CreateJob : Number of Jobs Created\n",
    "    RetainedJob : Number of jobs retained\n",
    "    FranchiseCode : Franchise code, (00000 or 00001) = No franchise\n",
    "    UrbanRural : 1 = Urban, 2 = rural, 0 = undefined\n",
    "    RevLineCr : Revolving line of credit: Y = Yes, N = No\n",
    "    LowDoc : LowDoc Loan Program: Y = Yes, N = No\n",
    "    ChgOffDate : The date when a loan is declared to be in default\n",
    "    DisbursementDate : Disbursement date\n",
    "    DisbursementGross : Amount disbursed\n",
    "    BalanceGross : Gross amount outstanding\n",
    "    MIS_Status : Loan status charged off = CHGOFF, Paid in full = PIF\n",
    "    ChgOffPrinGr : Charged-off amount\n",
    "    GrAppv : Gross amount of loan approved by bank\n",
    "    SBA_Appv : SBA's guaranteed amount of approved loa"
   ]
  },
  {
   "cell_type": "markdown",
   "metadata": {},
   "source": [
    "\n",
    "Exploratory Data Analysis\n",
    "\n",
    "The first step of this project is to identify the dataset and its feature through exploratory data analysis (EDA). In this step we will analyze the type and condition from all feature from Small Business Administration Dataset.\n"
   ]
  },
  {
   "cell_type": "code",
   "execution_count": 5,
   "metadata": {},
   "outputs": [
    {
     "name": "stdout",
     "output_type": "stream",
     "text": [
      "<class 'pandas.core.frame.DataFrame'>\n",
      "RangeIndex: 899164 entries, 0 to 899163\n",
      "Data columns (total 27 columns):\n",
      " #   Column             Non-Null Count   Dtype  \n",
      "---  ------             --------------   -----  \n",
      " 0   LoanNr_ChkDgt      899164 non-null  int64  \n",
      " 1   Name               899150 non-null  object \n",
      " 2   City               899134 non-null  object \n",
      " 3   State              899150 non-null  object \n",
      " 4   Zip                899164 non-null  int64  \n",
      " 5   Bank               897605 non-null  object \n",
      " 6   BankState          897598 non-null  object \n",
      " 7   NAICS              899164 non-null  int64  \n",
      " 8   ApprovalDate       899164 non-null  object \n",
      " 9   ApprovalFY         899164 non-null  object \n",
      " 10  Term               899164 non-null  int64  \n",
      " 11  NoEmp              899164 non-null  int64  \n",
      " 12  NewExist           899028 non-null  float64\n",
      " 13  CreateJob          899164 non-null  int64  \n",
      " 14  RetainedJob        899164 non-null  int64  \n",
      " 15  FranchiseCode      899164 non-null  int64  \n",
      " 16  UrbanRural         899164 non-null  int64  \n",
      " 17  RevLineCr          894636 non-null  object \n",
      " 18  LowDoc             896582 non-null  object \n",
      " 19  ChgOffDate         162699 non-null  object \n",
      " 20  DisbursementDate   896796 non-null  object \n",
      " 21  DisbursementGross  899164 non-null  object \n",
      " 22  BalanceGross       899164 non-null  object \n",
      " 23  MIS_Status         897167 non-null  object \n",
      " 24  ChgOffPrinGr       899164 non-null  object \n",
      " 25  GrAppv             899164 non-null  object \n",
      " 26  SBA_Appv           899164 non-null  object \n",
      "dtypes: float64(1), int64(9), object(17)\n",
      "memory usage: 185.2+ MB\n"
     ]
    }
   ],
   "source": [
    "SBA.info()"
   ]
  },
  {
   "cell_type": "code",
   "execution_count": 6,
   "metadata": {},
   "outputs": [
    {
     "data": {
      "text/html": [
       "<div>\n",
       "<style scoped>\n",
       "    .dataframe tbody tr th:only-of-type {\n",
       "        vertical-align: middle;\n",
       "    }\n",
       "\n",
       "    .dataframe tbody tr th {\n",
       "        vertical-align: top;\n",
       "    }\n",
       "\n",
       "    .dataframe thead th {\n",
       "        text-align: right;\n",
       "    }\n",
       "</style>\n",
       "<table border=\"1\" class=\"dataframe\">\n",
       "  <thead>\n",
       "    <tr style=\"text-align: right;\">\n",
       "      <th></th>\n",
       "      <th>LoanNr_ChkDgt</th>\n",
       "      <th>Zip</th>\n",
       "      <th>NAICS</th>\n",
       "      <th>Term</th>\n",
       "      <th>NoEmp</th>\n",
       "      <th>NewExist</th>\n",
       "      <th>CreateJob</th>\n",
       "      <th>RetainedJob</th>\n",
       "      <th>FranchiseCode</th>\n",
       "      <th>UrbanRural</th>\n",
       "    </tr>\n",
       "  </thead>\n",
       "  <tbody>\n",
       "    <tr>\n",
       "      <th>count</th>\n",
       "      <td>8.991640e+05</td>\n",
       "      <td>899164.000000</td>\n",
       "      <td>899164.000000</td>\n",
       "      <td>899164.000000</td>\n",
       "      <td>899164.000000</td>\n",
       "      <td>899028.000000</td>\n",
       "      <td>899164.000000</td>\n",
       "      <td>899164.000000</td>\n",
       "      <td>899164.000000</td>\n",
       "      <td>899164.000000</td>\n",
       "    </tr>\n",
       "    <tr>\n",
       "      <th>mean</th>\n",
       "      <td>4.772612e+09</td>\n",
       "      <td>53804.391241</td>\n",
       "      <td>398660.950146</td>\n",
       "      <td>110.773078</td>\n",
       "      <td>11.411353</td>\n",
       "      <td>1.280404</td>\n",
       "      <td>8.430376</td>\n",
       "      <td>10.797257</td>\n",
       "      <td>2753.725933</td>\n",
       "      <td>0.757748</td>\n",
       "    </tr>\n",
       "    <tr>\n",
       "      <th>std</th>\n",
       "      <td>2.538175e+09</td>\n",
       "      <td>31184.159152</td>\n",
       "      <td>263318.312759</td>\n",
       "      <td>78.857305</td>\n",
       "      <td>74.108196</td>\n",
       "      <td>0.451750</td>\n",
       "      <td>236.688165</td>\n",
       "      <td>237.120600</td>\n",
       "      <td>12758.019136</td>\n",
       "      <td>0.646436</td>\n",
       "    </tr>\n",
       "    <tr>\n",
       "      <th>min</th>\n",
       "      <td>1.000014e+09</td>\n",
       "      <td>0.000000</td>\n",
       "      <td>0.000000</td>\n",
       "      <td>0.000000</td>\n",
       "      <td>0.000000</td>\n",
       "      <td>0.000000</td>\n",
       "      <td>0.000000</td>\n",
       "      <td>0.000000</td>\n",
       "      <td>0.000000</td>\n",
       "      <td>0.000000</td>\n",
       "    </tr>\n",
       "    <tr>\n",
       "      <th>25%</th>\n",
       "      <td>2.589758e+09</td>\n",
       "      <td>27587.000000</td>\n",
       "      <td>235210.000000</td>\n",
       "      <td>60.000000</td>\n",
       "      <td>2.000000</td>\n",
       "      <td>1.000000</td>\n",
       "      <td>0.000000</td>\n",
       "      <td>0.000000</td>\n",
       "      <td>1.000000</td>\n",
       "      <td>0.000000</td>\n",
       "    </tr>\n",
       "    <tr>\n",
       "      <th>50%</th>\n",
       "      <td>4.361439e+09</td>\n",
       "      <td>55410.000000</td>\n",
       "      <td>445310.000000</td>\n",
       "      <td>84.000000</td>\n",
       "      <td>4.000000</td>\n",
       "      <td>1.000000</td>\n",
       "      <td>0.000000</td>\n",
       "      <td>1.000000</td>\n",
       "      <td>1.000000</td>\n",
       "      <td>1.000000</td>\n",
       "    </tr>\n",
       "    <tr>\n",
       "      <th>75%</th>\n",
       "      <td>6.904627e+09</td>\n",
       "      <td>83704.000000</td>\n",
       "      <td>561730.000000</td>\n",
       "      <td>120.000000</td>\n",
       "      <td>10.000000</td>\n",
       "      <td>2.000000</td>\n",
       "      <td>1.000000</td>\n",
       "      <td>4.000000</td>\n",
       "      <td>1.000000</td>\n",
       "      <td>1.000000</td>\n",
       "    </tr>\n",
       "    <tr>\n",
       "      <th>max</th>\n",
       "      <td>9.996003e+09</td>\n",
       "      <td>99999.000000</td>\n",
       "      <td>928120.000000</td>\n",
       "      <td>569.000000</td>\n",
       "      <td>9999.000000</td>\n",
       "      <td>2.000000</td>\n",
       "      <td>8800.000000</td>\n",
       "      <td>9500.000000</td>\n",
       "      <td>99999.000000</td>\n",
       "      <td>2.000000</td>\n",
       "    </tr>\n",
       "  </tbody>\n",
       "</table>\n",
       "</div>"
      ],
      "text/plain": [
       "       LoanNr_ChkDgt            Zip          NAICS           Term  \\\n",
       "count   8.991640e+05  899164.000000  899164.000000  899164.000000   \n",
       "mean    4.772612e+09   53804.391241  398660.950146     110.773078   \n",
       "std     2.538175e+09   31184.159152  263318.312759      78.857305   \n",
       "min     1.000014e+09       0.000000       0.000000       0.000000   \n",
       "25%     2.589758e+09   27587.000000  235210.000000      60.000000   \n",
       "50%     4.361439e+09   55410.000000  445310.000000      84.000000   \n",
       "75%     6.904627e+09   83704.000000  561730.000000     120.000000   \n",
       "max     9.996003e+09   99999.000000  928120.000000     569.000000   \n",
       "\n",
       "               NoEmp       NewExist      CreateJob    RetainedJob  \\\n",
       "count  899164.000000  899028.000000  899164.000000  899164.000000   \n",
       "mean       11.411353       1.280404       8.430376      10.797257   \n",
       "std        74.108196       0.451750     236.688165     237.120600   \n",
       "min         0.000000       0.000000       0.000000       0.000000   \n",
       "25%         2.000000       1.000000       0.000000       0.000000   \n",
       "50%         4.000000       1.000000       0.000000       1.000000   \n",
       "75%        10.000000       2.000000       1.000000       4.000000   \n",
       "max      9999.000000       2.000000    8800.000000    9500.000000   \n",
       "\n",
       "       FranchiseCode     UrbanRural  \n",
       "count  899164.000000  899164.000000  \n",
       "mean     2753.725933       0.757748  \n",
       "std     12758.019136       0.646436  \n",
       "min         0.000000       0.000000  \n",
       "25%         1.000000       0.000000  \n",
       "50%         1.000000       1.000000  \n",
       "75%         1.000000       1.000000  \n",
       "max     99999.000000       2.000000  "
      ]
     },
     "execution_count": 6,
     "metadata": {},
     "output_type": "execute_result"
    }
   ],
   "source": [
    "SBA.describe()"
   ]
  },
  {
   "cell_type": "code",
   "execution_count": 7,
   "metadata": {},
   "outputs": [],
   "source": [
    "list_item = []\n",
    "for col in SBA.columns:\n",
    "    list_item.append([col, SBA[col].dtype, SBA[col].isna().sum(), round((SBA[col].isna().sum()/len(SBA[col]))*100,2),\n",
    "                      SBA[col].nunique(), list(SBA[col].sample(5).drop_duplicates().values)])\n",
    "\n",
    "dfDesc = pd.DataFrame(columns=['feature', 'data_type', 'null', 'nulPct', 'unique', 'uniqueSample'],data=list_item)"
   ]
  },
  {
   "cell_type": "code",
   "execution_count": 8,
   "metadata": {},
   "outputs": [
    {
     "data": {
      "text/html": [
       "<div>\n",
       "<style scoped>\n",
       "    .dataframe tbody tr th:only-of-type {\n",
       "        vertical-align: middle;\n",
       "    }\n",
       "\n",
       "    .dataframe tbody tr th {\n",
       "        vertical-align: top;\n",
       "    }\n",
       "\n",
       "    .dataframe thead th {\n",
       "        text-align: right;\n",
       "    }\n",
       "</style>\n",
       "<table border=\"1\" class=\"dataframe\">\n",
       "  <thead>\n",
       "    <tr style=\"text-align: right;\">\n",
       "      <th></th>\n",
       "      <th>feature</th>\n",
       "      <th>data_type</th>\n",
       "      <th>null</th>\n",
       "      <th>nulPct</th>\n",
       "      <th>unique</th>\n",
       "      <th>uniqueSample</th>\n",
       "    </tr>\n",
       "  </thead>\n",
       "  <tbody>\n",
       "    <tr>\n",
       "      <th>0</th>\n",
       "      <td>LoanNr_ChkDgt</td>\n",
       "      <td>int64</td>\n",
       "      <td>0</td>\n",
       "      <td>0.00</td>\n",
       "      <td>899164</td>\n",
       "      <td>[4977983002, 2053774006, 4964114007, 116258500...</td>\n",
       "    </tr>\n",
       "    <tr>\n",
       "      <th>1</th>\n",
       "      <td>Name</td>\n",
       "      <td>object</td>\n",
       "      <td>14</td>\n",
       "      <td>0.00</td>\n",
       "      <td>779583</td>\n",
       "      <td>[RING OF FIRE RESTAURANT/CATERI, CONEYBEARE, I...</td>\n",
       "    </tr>\n",
       "    <tr>\n",
       "      <th>2</th>\n",
       "      <td>City</td>\n",
       "      <td>object</td>\n",
       "      <td>30</td>\n",
       "      <td>0.00</td>\n",
       "      <td>32581</td>\n",
       "      <td>[ATLANTA, NEW ORLEANS, MILLERTON, BRIDGEWATER ...</td>\n",
       "    </tr>\n",
       "    <tr>\n",
       "      <th>3</th>\n",
       "      <td>State</td>\n",
       "      <td>object</td>\n",
       "      <td>14</td>\n",
       "      <td>0.00</td>\n",
       "      <td>51</td>\n",
       "      <td>[IA, MN, ND, MO, NE]</td>\n",
       "    </tr>\n",
       "    <tr>\n",
       "      <th>4</th>\n",
       "      <td>Zip</td>\n",
       "      <td>int64</td>\n",
       "      <td>0</td>\n",
       "      <td>0.00</td>\n",
       "      <td>33611</td>\n",
       "      <td>[38930, 21740, 94103, 16504, 31794]</td>\n",
       "    </tr>\n",
       "    <tr>\n",
       "      <th>5</th>\n",
       "      <td>Bank</td>\n",
       "      <td>object</td>\n",
       "      <td>1559</td>\n",
       "      <td>0.17</td>\n",
       "      <td>5802</td>\n",
       "      <td>[JPMORGAN CHASE BANK NATL ASSOC, BANK OF UTAH,...</td>\n",
       "    </tr>\n",
       "    <tr>\n",
       "      <th>6</th>\n",
       "      <td>BankState</td>\n",
       "      <td>object</td>\n",
       "      <td>1566</td>\n",
       "      <td>0.17</td>\n",
       "      <td>56</td>\n",
       "      <td>[DC, LA, OH, VA, IL]</td>\n",
       "    </tr>\n",
       "    <tr>\n",
       "      <th>7</th>\n",
       "      <td>NAICS</td>\n",
       "      <td>int64</td>\n",
       "      <td>0</td>\n",
       "      <td>0.00</td>\n",
       "      <td>1312</td>\n",
       "      <td>[561310, 0, 446191]</td>\n",
       "    </tr>\n",
       "    <tr>\n",
       "      <th>8</th>\n",
       "      <td>ApprovalDate</td>\n",
       "      <td>object</td>\n",
       "      <td>0</td>\n",
       "      <td>0.00</td>\n",
       "      <td>9859</td>\n",
       "      <td>[14-Feb-07, 14-Jan-00, 29-Oct-97, 13-Dec-06, 8...</td>\n",
       "    </tr>\n",
       "    <tr>\n",
       "      <th>9</th>\n",
       "      <td>ApprovalFY</td>\n",
       "      <td>object</td>\n",
       "      <td>0</td>\n",
       "      <td>0.00</td>\n",
       "      <td>71</td>\n",
       "      <td>[2003, 2004, 2000, 1997]</td>\n",
       "    </tr>\n",
       "    <tr>\n",
       "      <th>10</th>\n",
       "      <td>Term</td>\n",
       "      <td>int64</td>\n",
       "      <td>0</td>\n",
       "      <td>0.00</td>\n",
       "      <td>412</td>\n",
       "      <td>[60, 120, 114, 84]</td>\n",
       "    </tr>\n",
       "    <tr>\n",
       "      <th>11</th>\n",
       "      <td>NoEmp</td>\n",
       "      <td>int64</td>\n",
       "      <td>0</td>\n",
       "      <td>0.00</td>\n",
       "      <td>599</td>\n",
       "      <td>[4, 5, 9, 7]</td>\n",
       "    </tr>\n",
       "    <tr>\n",
       "      <th>12</th>\n",
       "      <td>NewExist</td>\n",
       "      <td>float64</td>\n",
       "      <td>136</td>\n",
       "      <td>0.02</td>\n",
       "      <td>3</td>\n",
       "      <td>[2.0, 1.0]</td>\n",
       "    </tr>\n",
       "    <tr>\n",
       "      <th>13</th>\n",
       "      <td>CreateJob</td>\n",
       "      <td>int64</td>\n",
       "      <td>0</td>\n",
       "      <td>0.00</td>\n",
       "      <td>246</td>\n",
       "      <td>[0, 3]</td>\n",
       "    </tr>\n",
       "    <tr>\n",
       "      <th>14</th>\n",
       "      <td>RetainedJob</td>\n",
       "      <td>int64</td>\n",
       "      <td>0</td>\n",
       "      <td>0.00</td>\n",
       "      <td>358</td>\n",
       "      <td>[0, 17, 6, 3, 2]</td>\n",
       "    </tr>\n",
       "    <tr>\n",
       "      <th>15</th>\n",
       "      <td>FranchiseCode</td>\n",
       "      <td>int64</td>\n",
       "      <td>0</td>\n",
       "      <td>0.00</td>\n",
       "      <td>2768</td>\n",
       "      <td>[0, 1]</td>\n",
       "    </tr>\n",
       "    <tr>\n",
       "      <th>16</th>\n",
       "      <td>UrbanRural</td>\n",
       "      <td>int64</td>\n",
       "      <td>0</td>\n",
       "      <td>0.00</td>\n",
       "      <td>3</td>\n",
       "      <td>[0, 1]</td>\n",
       "    </tr>\n",
       "    <tr>\n",
       "      <th>17</th>\n",
       "      <td>RevLineCr</td>\n",
       "      <td>object</td>\n",
       "      <td>4528</td>\n",
       "      <td>0.50</td>\n",
       "      <td>18</td>\n",
       "      <td>[N, 0, Y]</td>\n",
       "    </tr>\n",
       "    <tr>\n",
       "      <th>18</th>\n",
       "      <td>LowDoc</td>\n",
       "      <td>object</td>\n",
       "      <td>2582</td>\n",
       "      <td>0.29</td>\n",
       "      <td>8</td>\n",
       "      <td>[N]</td>\n",
       "    </tr>\n",
       "    <tr>\n",
       "      <th>19</th>\n",
       "      <td>ChgOffDate</td>\n",
       "      <td>object</td>\n",
       "      <td>736465</td>\n",
       "      <td>81.91</td>\n",
       "      <td>6448</td>\n",
       "      <td>[nan, 4-Feb-98]</td>\n",
       "    </tr>\n",
       "    <tr>\n",
       "      <th>20</th>\n",
       "      <td>DisbursementDate</td>\n",
       "      <td>object</td>\n",
       "      <td>2368</td>\n",
       "      <td>0.26</td>\n",
       "      <td>8472</td>\n",
       "      <td>[30-Apr-95, 31-Oct-02, 31-Jul-95, 31-Mar-00, 1...</td>\n",
       "    </tr>\n",
       "    <tr>\n",
       "      <th>21</th>\n",
       "      <td>DisbursementGross</td>\n",
       "      <td>object</td>\n",
       "      <td>0</td>\n",
       "      <td>0.00</td>\n",
       "      <td>118859</td>\n",
       "      <td>[$267,600.00 , $150,000.00 , $90,000.00 , $79,...</td>\n",
       "    </tr>\n",
       "    <tr>\n",
       "      <th>22</th>\n",
       "      <td>BalanceGross</td>\n",
       "      <td>object</td>\n",
       "      <td>0</td>\n",
       "      <td>0.00</td>\n",
       "      <td>15</td>\n",
       "      <td>[$0.00 ]</td>\n",
       "    </tr>\n",
       "    <tr>\n",
       "      <th>23</th>\n",
       "      <td>MIS_Status</td>\n",
       "      <td>object</td>\n",
       "      <td>1997</td>\n",
       "      <td>0.22</td>\n",
       "      <td>2</td>\n",
       "      <td>[P I F]</td>\n",
       "    </tr>\n",
       "    <tr>\n",
       "      <th>24</th>\n",
       "      <td>ChgOffPrinGr</td>\n",
       "      <td>object</td>\n",
       "      <td>0</td>\n",
       "      <td>0.00</td>\n",
       "      <td>83165</td>\n",
       "      <td>[$0.00 ]</td>\n",
       "    </tr>\n",
       "    <tr>\n",
       "      <th>25</th>\n",
       "      <td>GrAppv</td>\n",
       "      <td>object</td>\n",
       "      <td>0</td>\n",
       "      <td>0.00</td>\n",
       "      <td>22128</td>\n",
       "      <td>[$350,000.00 , $179,500.00 , $25,000.00 , $100...</td>\n",
       "    </tr>\n",
       "    <tr>\n",
       "      <th>26</th>\n",
       "      <td>SBA_Appv</td>\n",
       "      <td>object</td>\n",
       "      <td>0</td>\n",
       "      <td>0.00</td>\n",
       "      <td>38326</td>\n",
       "      <td>[$5,000.00 , $159,750.00 , $50,000.00 , $115,5...</td>\n",
       "    </tr>\n",
       "  </tbody>\n",
       "</table>\n",
       "</div>"
      ],
      "text/plain": [
       "              feature data_type    null  nulPct  unique  \\\n",
       "0       LoanNr_ChkDgt     int64       0    0.00  899164   \n",
       "1                Name    object      14    0.00  779583   \n",
       "2                City    object      30    0.00   32581   \n",
       "3               State    object      14    0.00      51   \n",
       "4                 Zip     int64       0    0.00   33611   \n",
       "5                Bank    object    1559    0.17    5802   \n",
       "6           BankState    object    1566    0.17      56   \n",
       "7               NAICS     int64       0    0.00    1312   \n",
       "8        ApprovalDate    object       0    0.00    9859   \n",
       "9          ApprovalFY    object       0    0.00      71   \n",
       "10               Term     int64       0    0.00     412   \n",
       "11              NoEmp     int64       0    0.00     599   \n",
       "12           NewExist   float64     136    0.02       3   \n",
       "13          CreateJob     int64       0    0.00     246   \n",
       "14        RetainedJob     int64       0    0.00     358   \n",
       "15      FranchiseCode     int64       0    0.00    2768   \n",
       "16         UrbanRural     int64       0    0.00       3   \n",
       "17          RevLineCr    object    4528    0.50      18   \n",
       "18             LowDoc    object    2582    0.29       8   \n",
       "19         ChgOffDate    object  736465   81.91    6448   \n",
       "20   DisbursementDate    object    2368    0.26    8472   \n",
       "21  DisbursementGross    object       0    0.00  118859   \n",
       "22       BalanceGross    object       0    0.00      15   \n",
       "23         MIS_Status    object    1997    0.22       2   \n",
       "24       ChgOffPrinGr    object       0    0.00   83165   \n",
       "25             GrAppv    object       0    0.00   22128   \n",
       "26           SBA_Appv    object       0    0.00   38326   \n",
       "\n",
       "                                         uniqueSample  \n",
       "0   [4977983002, 2053774006, 4964114007, 116258500...  \n",
       "1   [RING OF FIRE RESTAURANT/CATERI, CONEYBEARE, I...  \n",
       "2   [ATLANTA, NEW ORLEANS, MILLERTON, BRIDGEWATER ...  \n",
       "3                                [IA, MN, ND, MO, NE]  \n",
       "4                 [38930, 21740, 94103, 16504, 31794]  \n",
       "5   [JPMORGAN CHASE BANK NATL ASSOC, BANK OF UTAH,...  \n",
       "6                                [DC, LA, OH, VA, IL]  \n",
       "7                                 [561310, 0, 446191]  \n",
       "8   [14-Feb-07, 14-Jan-00, 29-Oct-97, 13-Dec-06, 8...  \n",
       "9                            [2003, 2004, 2000, 1997]  \n",
       "10                                 [60, 120, 114, 84]  \n",
       "11                                       [4, 5, 9, 7]  \n",
       "12                                         [2.0, 1.0]  \n",
       "13                                             [0, 3]  \n",
       "14                                   [0, 17, 6, 3, 2]  \n",
       "15                                             [0, 1]  \n",
       "16                                             [0, 1]  \n",
       "17                                          [N, 0, Y]  \n",
       "18                                                [N]  \n",
       "19                                    [nan, 4-Feb-98]  \n",
       "20  [30-Apr-95, 31-Oct-02, 31-Jul-95, 31-Mar-00, 1...  \n",
       "21  [$267,600.00 , $150,000.00 , $90,000.00 , $79,...  \n",
       "22                                           [$0.00 ]  \n",
       "23                                            [P I F]  \n",
       "24                                           [$0.00 ]  \n",
       "25  [$350,000.00 , $179,500.00 , $25,000.00 , $100...  \n",
       "26  [$5,000.00 , $159,750.00 , $50,000.00 , $115,5...  "
      ]
     },
     "execution_count": 8,
     "metadata": {},
     "output_type": "execute_result"
    }
   ],
   "source": [
    "dfDesc"
   ]
  },
  {
   "cell_type": "markdown",
   "metadata": {},
   "source": [
    "\n",
    "1. Feature Selection\n",
    "\n",
    "After conducting exploratory data analysis, the next step is to do a feature selection by analyzing the correlation between all features and target features.\n",
    "Target Feature (Y)\n",
    "\n",
    "The feature that will be labeled as the target is the MIS_Status feature. Where in this feature explains which borrower cannot repay loans.\n",
    "Train Feature (X)\n",
    "\n",
    "1. Personal & Institusion Information Feature\n",
    "\n",
    "From SBA Data Frame we can make a conclusion that there are seven column that give personal and instituion information\n",
    "\n",
    "    LoanNr_ChkDgt as borrower Identifeir\n",
    "    Name as Borrower Name\n",
    "    City as Borrower City\n",
    "    State as Borrower State\n",
    "    Zip as Borrower Zip Code\n",
    "    Bank as Bank Name\n",
    "    BankState as Bank State\n",
    "    FranchiseCode as FranchiseCode\n",
    "    UrbanRural as information about business\n",
    "\n",
    "This information is used only to identify the borrower and the Bank. With that reason we not use this feature for future modeling.\n",
    "\n",
    "2. NAICS (North American industry classification system code)\n",
    "\n",
    "NAICS is a classification system of several types of industries registered in America. The first two digits of NAICS explained the type of business industries.\n",
    "\n",
    "NAICS itself has the potential for decision making. The type of industry will affect the company's performance in business. So that this feature will be used later in the model.\n",
    "\n",
    "3. Date and Time Feature\n",
    "\n",
    "It's dataset contained some feature that explains the date of commitment and disbursement.\n",
    "\n",
    "    ApprovalDate : Date SBA commitment issued\n",
    "    ApprovalFY : Fiscal year of commitment\n",
    "    ChgOffDate : The date when a loan is declared to be in default\n",
    "    DisbursementDate : Disbursement date\n",
    "\n",
    "Because the model will be deployed following the operating time of the Bank, this feature is used only for additional information and not for modeling.\n",
    "\n",
    "4. Term\n",
    "\n",
    "The term provides information on how long the loan will take. Concerning the rules of risk management, the longer the duration, the greater the uncertainty that will lead to risk. So this feature will be used as a reference for modeling.\n",
    "\n",
    "5. Jobs Columns\n",
    "\n",
    "This feature explains how many employees are in the related business and how many jobs were created and existed before.\n",
    "\n",
    "In this dataset there are three features: NoEmp, CreateJob dan RetainedJob\n"
   ]
  },
  {
   "cell_type": "code",
   "execution_count": 9,
   "metadata": {},
   "outputs": [],
   "source": [
    "def outliers(DataFrame,Series):\n",
    "    iqr = Series.quantile(.75) - Series.quantile(.25)\n",
    "    lower_bound = Series.quantile(.25) - (1.5*iqr)\n",
    "    upper_bound = Series.quantile(.75) + (1.5*iqr)\n",
    "    return DataFrame[(Series >= upper_bound) | (Series <= lower_bound)]\n"
   ]
  },
  {
   "cell_type": "code",
   "execution_count": 10,
   "metadata": {},
   "outputs": [
    {
     "name": "stdout",
     "output_type": "stream",
     "text": [
      "Persentase outliers: 11.39%\n"
     ]
    }
   ],
   "source": [
    "# Persentasi Outliers NoEmp Feature\n",
    "print(f'Persentase outliers: {round(len(outliers(SBA,SBA.NoEmp))/len(SBA.NoEmp)*100,2)}%')"
   ]
  },
  {
   "cell_type": "code",
   "execution_count": 11,
   "metadata": {},
   "outputs": [
    {
     "data": {
      "text/plain": [
       "<AxesSubplot:xlabel='MIS_Status', ylabel='NoEmp'>"
      ]
     },
     "execution_count": 11,
     "metadata": {},
     "output_type": "execute_result"
    },
    {
     "data": {
      "image/png": "[encoded data removed]",
      "text/plain": [
       "<Figure size 640x480 with 1 Axes>"
      ]
     },
     "metadata": {},
     "output_type": "display_data"
    }
   ],
   "source": [
    "sns.barplot(x=SBA.MIS_Status, y=SBA['NoEmp'])"
   ]
  },
  {
   "cell_type": "code",
   "execution_count": 12,
   "metadata": {},
   "outputs": [
    {
     "data": {
      "text/plain": [
       "<AxesSubplot:xlabel='MIS_Status', ylabel='NoEmp'>"
      ]
     },
     "execution_count": 12,
     "metadata": {},
     "output_type": "execute_result"
    },
    {
     "data": {
      "image/png": "[encoded data removed]",
      "text/plain": [
       "<Figure size 640x480 with 1 Axes>"
      ]
     },
     "metadata": {},
     "output_type": "display_data"
    }
   ],
   "source": [
    "sns.boxplot(x=SBA.MIS_Status, y=SBA['NoEmp'])"
   ]
  },
  {
   "cell_type": "code",
   "execution_count": 13,
   "metadata": {},
   "outputs": [
    {
     "data": {
      "text/plain": [
       "<AxesSubplot:xlabel='MIS_Status', ylabel='CreateJob'>"
      ]
     },
     "execution_count": 13,
     "metadata": {},
     "output_type": "execute_result"
    },
    {
     "data": {
      "image/png": "[encoded data removed]",
      "text/plain": [
       "<Figure size 640x480 with 1 Axes>"
      ]
     },
     "metadata": {},
     "output_type": "display_data"
    }
   ],
   "source": [
    "sns.boxplot(x= SBA['MIS_Status'],y=SBA['CreateJob'])"
   ]
  },
  {
   "cell_type": "code",
   "execution_count": 14,
   "metadata": {},
   "outputs": [
    {
     "data": {
      "text/plain": [
       "<AxesSubplot:xlabel='MIS_Status', ylabel='CreateJob'>"
      ]
     },
     "execution_count": 14,
     "metadata": {},
     "output_type": "execute_result"
    },
    {
     "data": {
      "image/png": "[encoded data removed]",
      "text/plain": [
       "<Figure size 640x480 with 1 Axes>"
      ]
     },
     "metadata": {},
     "output_type": "display_data"
    }
   ],
   "source": [
    "sns.barplot(x=SBA.MIS_Status,y=SBA.CreateJob)"
   ]
  },
  {
   "cell_type": "code",
   "execution_count": 15,
   "metadata": {},
   "outputs": [
    {
     "name": "stdout",
     "output_type": "stream",
     "text": [
      "Persentase outliers: 16.56%\n"
     ]
    }
   ],
   "source": [
    "# Persentasi Outliers CreateJob Feature\n",
    "print(f'Persentase outliers: {round(len(outliers(SBA,SBA.CreateJob))/len(SBA.CreateJob)*100,2)}%')"
   ]
  },
  {
   "cell_type": "code",
   "execution_count": 16,
   "metadata": {},
   "outputs": [
    {
     "data": {
      "text/plain": [
       "<AxesSubplot:xlabel='MIS_Status', ylabel='RetainedJob'>"
      ]
     },
     "execution_count": 16,
     "metadata": {},
     "output_type": "execute_result"
    },
    {
     "data": {
      "image/png": "[encoded data removed]",
      "text/plain": [
       "<Figure size 640x480 with 1 Axes>"
      ]
     },
     "metadata": {},
     "output_type": "display_data"
    }
   ],
   "source": [
    "sns.boxplot(x= SBA['MIS_Status'],y=SBA['RetainedJob'])"
   ]
  },
  {
   "cell_type": "code",
   "execution_count": 17,
   "metadata": {},
   "outputs": [
    {
     "data": {
      "text/plain": [
       "<AxesSubplot:xlabel='MIS_Status', ylabel='RetainedJob'>"
      ]
     },
     "execution_count": 17,
     "metadata": {},
     "output_type": "execute_result"
    },
    {
     "data": {
      "image/png": "[encoded data removed]",
      "text/plain": [
       "<Figure size 640x480 with 1 Axes>"
      ]
     },
     "metadata": {},
     "output_type": "display_data"
    }
   ],
   "source": [
    "sns.barplot(x=SBA.MIS_Status,y=SBA.RetainedJob)"
   ]
  },
  {
   "cell_type": "code",
   "execution_count": 18,
   "metadata": {},
   "outputs": [
    {
     "name": "stdout",
     "output_type": "stream",
     "text": [
      "Persentase outliers: 11.8%\n"
     ]
    }
   ],
   "source": [
    "# Persentasi Outliers RetainedJob Feature\n",
    "print(f'Persentase outliers: {round(len(outliers(SBA,SBA.RetainedJob))/len(SBA.CreateJob)*100,2)}%')"
   ]
  },
  {
   "cell_type": "markdown",
   "metadata": {},
   "source": [
    "\n",
    "\n",
    "New and existing businesses have different risks in the business condition. We will use this feature to make a decision in modeling.\n",
    "\n",
    "8. Loan Transaction Type Feature\n",
    "\n",
    "There are two features for loan transaction:\n",
    "\n",
    "    RevLineCr : Revolving line of credit which means that if the loan has been paid, the borrower can be able to immediately borrow again.\n",
    "    LowDoc : LowDoc Loan Program means the borrower can borrow with little administration.\n",
    "\n",
    "The loan transaction type will affects the level of risk and financial psychology. Then this feature will be used as consideration in the approval model.\n",
    "\n",
    "11. Amount of Loan\n",
    "\n",
    "All this five feature explains the amount of loan and its payment balance.\n",
    "\n",
    "    DisbursementGross : Amount disbursed\n",
    "    BalanceGross : Gross amount outstanding\n",
    "    ChgOffPrinGr : Charged-off amount\n",
    "    GrAppv : Gross amount of loan approved by bank\n",
    "    SBA_Appv : SBA's guaranteed amount of approved loan\n",
    "\n",
    "Since DisbursementGross, BalanceGross and ChgOffPrinGr only explain the balance of the loan and not used for loan approval, so the feature can be ignored.\n"
   ]
  },
  {
   "cell_type": "code",
   "execution_count": 19,
   "metadata": {},
   "outputs": [
    {
     "data": {
      "text/html": [
       "<div>\n",
       "<style scoped>\n",
       "    .dataframe tbody tr th:only-of-type {\n",
       "        vertical-align: middle;\n",
       "    }\n",
       "\n",
       "    .dataframe tbody tr th {\n",
       "        vertical-align: top;\n",
       "    }\n",
       "\n",
       "    .dataframe thead th {\n",
       "        text-align: right;\n",
       "    }\n",
       "</style>\n",
       "<table border=\"1\" class=\"dataframe\">\n",
       "  <thead>\n",
       "    <tr style=\"text-align: right;\">\n",
       "      <th></th>\n",
       "      <th>NoEmp</th>\n",
       "      <th>CreateJob</th>\n",
       "      <th>RetainedJob</th>\n",
       "    </tr>\n",
       "  </thead>\n",
       "  <tbody>\n",
       "    <tr>\n",
       "      <th>NoEmp</th>\n",
       "      <td>1.000000</td>\n",
       "      <td>0.008626</td>\n",
       "      <td>0.015350</td>\n",
       "    </tr>\n",
       "    <tr>\n",
       "      <th>CreateJob</th>\n",
       "      <td>0.008626</td>\n",
       "      <td>1.000000</td>\n",
       "      <td>0.993953</td>\n",
       "    </tr>\n",
       "    <tr>\n",
       "      <th>RetainedJob</th>\n",
       "      <td>0.015350</td>\n",
       "      <td>0.993953</td>\n",
       "      <td>1.000000</td>\n",
       "    </tr>\n",
       "  </tbody>\n",
       "</table>\n",
       "</div>"
      ],
      "text/plain": [
       "                NoEmp  CreateJob  RetainedJob\n",
       "NoEmp        1.000000   0.008626     0.015350\n",
       "CreateJob    0.008626   1.000000     0.993953\n",
       "RetainedJob  0.015350   0.993953     1.000000"
      ]
     },
     "execution_count": 19,
     "metadata": {},
     "output_type": "execute_result"
    }
   ],
   "source": [
    "SBA[['MIS_Status','NoEmp','CreateJob','RetainedJob']].corr()"
   ]
  },
  {
   "cell_type": "code",
   "execution_count": 20,
   "metadata": {},
   "outputs": [
    {
     "data": {
      "text/plain": [
       "array([ 2.,  1.,  0., nan])"
      ]
     },
     "execution_count": 20,
     "metadata": {},
     "output_type": "execute_result"
    }
   ],
   "source": [
    "SBA.NewExist.unique()"
   ]
  },
  {
   "cell_type": "code",
   "execution_count": 21,
   "metadata": {},
   "outputs": [],
   "source": [
    "sns.countplot(SBA.NewExist)"
   ]
  },
  {
   "cell_type": "code",
   "execution_count": null,
   "metadata": {},
   "outputs": [],
   "source": [
    "SBA[['DisbursementGross', 'BalanceGross', 'ChgOffPrinGr', 'GrAppv','SBA_Appv']]"
   ]
  },
  {
   "cell_type": "code",
   "execution_count": null,
   "metadata": {},
   "outputs": [],
   "source": [
    "SBA.head()"
   ]
  },
  {
   "cell_type": "code",
   "execution_count": null,
   "metadata": {},
   "outputs": [],
   "source": [
    "# Drop unused feature\n",
    "data = SBA.drop(['LoanNr_ChkDgt', 'Name','City', 'State', 'Zip','Bank','BankState','ApprovalDate','ApprovalFY',\n",
    "                 'NoEmp','CreateJob','RetainedJob','FranchiseCode','UrbanRural', 'ChgOffDate','DisbursementDate','BalanceGross',\n",
    "                 'DisbursementGross','ChgOffPrinGr'], axis=1)"
   ]
  },
  {
   "cell_type": "code",
   "execution_count": null,
   "metadata": {},
   "outputs": [],
   "source": [
    "data"
   ]
  },
  {
   "cell_type": "code",
   "execution_count": null,
   "metadata": {},
   "outputs": [],
   "source": [
    "data.MIS_Status.value_counts()"
   ]
  },
  {
   "cell_type": "markdown",
   "metadata": {},
   "source": [
    "\n",
    "2. Data Cleaning\n",
    "Null and NaN\n",
    "\n",
    "From the EDA before, we know that there are some NaN and Null data. Since only a few data with NaN and Null condition, we can drop the data with this condition.\n"
   ]
  },
  {
   "cell_type": "code",
   "execution_count": null,
   "metadata": {},
   "outputs": [],
   "source": [
    "data.info()"
   ]
  },
  {
   "cell_type": "code",
   "execution_count": null,
   "metadata": {},
   "outputs": [],
   "source": [
    "data.dropna(inplace=True)"
   ]
  },
  {
   "cell_type": "code",
   "execution_count": null,
   "metadata": {},
   "outputs": [],
   "source": [
    "data.info()"
   ]
  },
  {
   "cell_type": "markdown",
   "metadata": {},
   "source": [
    "\n",
    "Categorical Data Cleaning\n",
    "\n",
    "Some categorical data have an unidentified category. We need to make sure all this category in accordance with the actual condition when the model is running.\n"
   ]
  },
  {
   "cell_type": "code",
   "execution_count": null,
   "metadata": {},
   "outputs": [],
   "source": [
    "list_item = []\n",
    "for col in data.columns:\n",
    "    list_item.append([col, data[col].dtype, data[col].isna().sum(), round((data[col].isna().sum()/len(data[col]))*100,2),\n",
    "                      data[col].nunique(), list(data[col].sample(5).drop_duplicates().values)])\n",
    "\n",
    "dataDesc = pd.DataFrame(columns=['feature', 'data_type', 'null', 'nulPct', 'unique', 'uniqueSample'],data=list_item)"
   ]
  },
  {
   "cell_type": "code",
   "execution_count": null,
   "metadata": {},
   "outputs": [],
   "source": [
    "dataDesc"
   ]
  },
  {
   "cell_type": "code",
   "execution_count": null,
   "metadata": {},
   "outputs": [],
   "source": [
    "for x in data[['NewExist', 'RevLineCr','LowDoc','MIS_Status']].columns:\n",
    "    print(f'{x}: \\n{data[x].unique()}\\n')"
   ]
  },
  {
   "cell_type": "markdown",
   "metadata": {},
   "source": [
    "\n",
    "\n",
    "NAICS Feature\n",
    "\n",
    "We need to make sure all samples have six digits NAICS code, so the data that don't have any NAICS code can be drop.\n"
   ]
  },
  {
   "cell_type": "code",
   "execution_count": null,
   "metadata": {},
   "outputs": [],
   "source": [
    "data[data['NAICS']==0]"
   ]
  },
  {
   "cell_type": "code",
   "execution_count": null,
   "metadata": {},
   "outputs": [],
   "source": [
    "data.NAICS\n",
    "NAICSTrue = 0\n",
    "NAICSFalse = 0\n",
    "for i in data.NAICS.astype(str):\n",
    "    if len(i) == 6:\n",
    "        NAICSTrue += 1\n",
    "    else:\n",
    "        NAICSFalse += 1\n",
    "print(NAICSTrue)\n",
    "print(NAICSFalse)"
   ]
  },
  {
   "cell_type": "code",
   "execution_count": null,
   "metadata": {},
   "outputs": [],
   "source": [
    "data = data[data.NAICS != 0]"
   ]
  },
  {
   "cell_type": "markdown",
   "metadata": {},
   "source": [
    "\n",
    "\n",
    "NewExist Feature\n",
    "\n",
    "We can only classify business with new and existing business. Others data with different code can be ignored\n"
   ]
  },
  {
   "cell_type": "code",
   "execution_count": null,
   "metadata": {},
   "outputs": [],
   "source": [
    "# NewExist\n",
    "# 1 = Existing Business\n",
    "# 2 = New Business\n",
    "data.NewExist.value_counts()"
   ]
  },
  {
   "cell_type": "code",
   "execution_count": null,
   "metadata": {},
   "outputs": [],
   "source": [
    "data = data[(data.NewExist == 1.0) | (data.NewExist == 2.0)]\n",
    "data.NewExist.value_counts()"
   ]
  },
  {
   "cell_type": "markdown",
   "metadata": {},
   "source": [
    "\n",
    "\n",
    "RevLineCr Feature\n",
    "\n",
    "Since there are only two condition for the revolving credit line, other data must be drop from dataset.\n"
   ]
  },
  {
   "cell_type": "code",
   "execution_count": null,
   "metadata": {},
   "outputs": [],
   "source": [
    "# Revolving line of credit (RevLineCr)\n",
    "# Y = Yes\n",
    "# N = No\n",
    "data.RevLineCr.value_counts()"
   ]
  },
  {
   "cell_type": "code",
   "execution_count": null,
   "metadata": {},
   "outputs": [],
   "source": [
    "data = data[(data.RevLineCr == 'Y') | (data.RevLineCr == 'N')]\n",
    "data.RevLineCr.value_counts()"
   ]
  },
  {
   "cell_type": "markdown",
   "metadata": {},
   "source": [
    "\n",
    "\n",
    "LowDoc Feature\n",
    "\n",
    "Since there are only two condition for the LowDoc condition, other data must be drop from dataset.\n"
   ]
  },
  {
   "cell_type": "code",
   "execution_count": null,
   "metadata": {},
   "outputs": [],
   "source": [
    "# LowDoc Loan Program\n",
    "# Y = Yes\n",
    "# N = No\n",
    "data.LowDoc.value_counts()"
   ]
  },
  {
   "cell_type": "code",
   "execution_count": null,
   "metadata": {},
   "outputs": [],
   "source": [
    "data = data[(data.LowDoc == 'Y') | (data.LowDoc == 'N')]\n",
    "data.LowDoc.value_counts()"
   ]
  },
  {
   "cell_type": "markdown",
   "metadata": {},
   "source": [
    "\n",
    "Data Type Standardization\n",
    "\n",
    "Some of the data came with string type for numerical feature. We need to standardize all this condition to make sure the model read the feature as numerical data.\n",
    "\n",
    "Currency Cleaning\n"
   ]
  },
  {
   "cell_type": "code",
   "execution_count": null,
   "metadata": {},
   "outputs": [],
   "source": [
    "def currencyCleaning(x):\n",
    "    x = x[1:].replace(',','')\n",
    "    return x"
   ]
  },
  {
   "cell_type": "code",
   "execution_count": null,
   "metadata": {},
   "outputs": [],
   "source": [
    "data['GrAppv'] = data['GrAppv'].apply(currencyCleaning).astype(float).astype(int)\n",
    "data['SBA_Appv'] = data['SBA_Appv'].apply(currencyCleaning).astype(float).astype(int)"
   ]
  },
  {
   "cell_type": "markdown",
   "metadata": {},
   "source": [
    "\n",
    "3. Feature Engineering\n",
    "\n",
    "Because machine learning algorithm use numerical data for considering the model. We need to do feature engineeing to modifiy the feature for modeling.\n",
    "\n",
    "NAICS\n",
    "\n",
    "    11 : Agriculture, forestry, fishing and hunting\n",
    "    21 : Mining, quarrying, and oil and gas extraction\n",
    "    22 : Utilities\n",
    "    23 : Construction\n",
    "    31-33 : Manufacturing\n",
    "    42 : Wholesale trade\n",
    "    44-45 : Retail trade\n",
    "    48-49 : Transportation and warehousing\n",
    "    51 : Information\n",
    "    52 : Finance and insurance\n",
    "    53 : Real estate and rental and leasing\n",
    "    54 : Professional, scientific, and technical services\n",
    "    55 : Management of companies and enterprises\n",
    "    56 : Administrative/support & waste management/remediation Service\n",
    "    61 : Educational services\n",
    "    62 : Health care and social assistance\n",
    "    71 : Arts, entertainment, and recreation\n",
    "    72 : Accommodation and food services\n",
    "    81 : Other services (except public administration)\n",
    "    92 : Public administration\n",
    "\n"
   ]
  },
  {
   "cell_type": "code",
   "execution_count": null,
   "metadata": {},
   "outputs": [],
   "source": [
    "# Join NAICS with similar industry\n",
    "def naicsEngineering(x):\n",
    "    x = str(x)\n",
    "    x = x[:2]\n",
    "    if (x == '31') | (x == '32') | (x == '33'):\n",
    "        x = '31-33'\n",
    "    elif (x == '44') | (x == '45'):\n",
    "        x = '44-45'\n",
    "    elif (x == '48') | (x == '49'):\n",
    "        x = '48-49'\n",
    "    return x"
   ]
  },
  {
   "cell_type": "code",
   "execution_count": null,
   "metadata": {},
   "outputs": [],
   "source": [
    "data.NAICS = data.NAICS.apply(naicsEngineering)"
   ]
  },
  {
   "cell_type": "code",
   "execution_count": null,
   "metadata": {},
   "outputs": [],
   "source": [
    "(data)"
   ]
  },
  {
   "cell_type": "code",
   "execution_count": null,
   "metadata": {},
   "outputs": [],
   "source": [
    "# get dummy\n",
    "NAICS = pd.get_dummies(data['NAICS'], prefix='NAICS', drop_first=False)\n",
    "RevLineCr = pd.get_dummies(data['RevLineCr'], drop_first=True)\n",
    "LowDoc = pd.get_dummies(data['LowDoc'], drop_first=True)\n",
    "MIS_Status = pd.get_dummies(data['MIS_Status'], drop_first=True)"
   ]
  },
  {
   "cell_type": "code",
   "execution_count": null,
   "metadata": {},
   "outputs": [],
   "source": [
    "data.drop(['NAICS', 'RevLineCr', 'LowDoc', 'MIS_Status'], axis=1, inplace=True)"
   ]
  },
  {
   "cell_type": "code",
   "execution_count": null,
   "metadata": {},
   "outputs": [],
   "source": [
    "data['RevLineCr'] = RevLineCr['Y']\n",
    "data['LowDoc'] = LowDoc['Y']\n",
    "data = pd.concat([data,NAICS,MIS_Status], axis=1)"
   ]
  },
  {
   "cell_type": "code",
   "execution_count": null,
   "metadata": {},
   "outputs": [],
   "source": [
    "data = data.rename(columns={'P I F':'Approve'})\n",
    "data"
   ]
  },
  {
   "cell_type": "markdown",
   "metadata": {},
   "source": [
    "\n",
    "4. Export CSV file\n",
    "\n",
    "The last step of this stage is to save the cleaned data into CSV format. So it can be used for a later stage"
   ]
  },
  {
   "cell_type": "code",
   "execution_count": null,
   "metadata": {},
   "outputs": [],
   "source": [
    "# def build_feature_importance(model, X_train, y_train):\n",
    "    \n",
    "#     models = RandomForestClassifier(criterion='entropy', random_state=11, oob_score=True, n_jobs=-1, \\\n",
    "#                            max_depth=25, min_samples_leaf=80, min_samples_split=3, n_estimators=70)\n",
    "#     models.fit(X_train, y_train)\n",
    "#     data = pd.DataFrame(models.feature_importances_, X_train.columns, columns=[\"feature\"])\n",
    "#     data = data.sort_values(by='feature', ascending=False).reset_index()\n",
    "#     plt.figure(figsize=[6,6])\n",
    "#     sns.barplot(x='index', y='feature', data=data[:10], palette=\"Blues_d\")\n",
    "#     plt.title('Feature inportance of Random Forest after Grid Search')\n",
    "#     plt.xticks(rotation=45)\n",
    "#     plt.show();\n",
    "    \n",
    "# build_feature_importance(RandomForestClassifier, X_train, y_train)\n"
   ]
  }
 ],
 "metadata": {
  "kernelspec": {
   "display_name": "Python 3",
   "language": "python",
   "name": "python3"
  },
  "language_info": {
   "codemirror_mode": {
    "name": "ipython",
    "version": 3
   },
   "file_extension": ".py",
   "mimetype": "text/x-python",
   "name": "python",
   "nbconvert_exporter": "python",
   "pygments_lexer": "ipython3",
   "version": "3.10.12"
  }
 },
 "nbformat": 4,
 "nbformat_minor": 2
}
