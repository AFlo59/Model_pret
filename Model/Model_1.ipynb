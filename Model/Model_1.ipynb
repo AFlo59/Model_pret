{
 "cells": [
  {
   "cell_type": "code",
   "execution_count": 548,
   "metadata": {},
   "outputs": [
    {
     "name": "stderr",
     "output_type": "stream",
     "text": [
      "/tmp/ipykernel_3707/2087553917.py:25: DtypeWarning: Columns (9) have mixed types.Specify dtype option on import or set low_memory=False.\n",
      "  df = charger_csv(partie1, partie2, partie3, partie4)\n"
     ]
    }
   ],
   "source": [
    "import os\n",
    "import sys\n",
    "sys.path.append('../Module')\n",
    "\n",
    "import numpy as np\n",
    "import pandas as pd\n",
    "import matplotlib.pyplot as plt\n",
    "import seaborn as sns\n",
    "\n",
    "from loader_csv import charger_csv\n",
    "from data_to_csv import df_to_csv\n",
    "from utils import generate_description\n",
    "from currency import currency_cleaning\n",
    "from naics_engineering import naicsEngineering\n",
    "from display_value import display_unique_categorical_values\n",
    "\n",
    "\n",
    "# Spécifiez les chemins des quatre parties du CSV découpé\n",
    "partie1 = \"../Dataset/SBAnational_part_part1.csv\"\n",
    "partie2 = \"../Dataset/SBAnational_part_part2.csv\"\n",
    "partie3 = \"../Dataset/SBAnational_part_part3.csv\"\n",
    "partie4 = \"../Dataset/SBAnational_part_part4.csv\"\n",
    "\n",
    "# Utilisez la fonction charger_csv pour obtenir un DataFrame avec toutes les données réassemblées\n",
    "df = charger_csv(partie1, partie2, partie3, partie4)"
   ]
  },
  {
   "cell_type": "code",
   "execution_count": 549,
   "metadata": {},
   "outputs": [
    {
     "data": {
      "text/plain": [
       "(899164, 27)"
      ]
     },
     "execution_count": 549,
     "metadata": {},
     "output_type": "execute_result"
    }
   ],
   "source": [
    "df.shape"
   ]
  },
  {
   "cell_type": "code",
   "execution_count": 550,
   "metadata": {},
   "outputs": [
    {
     "data": {
      "text/html": [
       "<div>\n",
       "<style scoped>\n",
       "    .dataframe tbody tr th:only-of-type {\n",
       "        vertical-align: middle;\n",
       "    }\n",
       "\n",
       "    .dataframe tbody tr th {\n",
       "        vertical-align: top;\n",
       "    }\n",
       "\n",
       "    .dataframe thead th {\n",
       "        text-align: right;\n",
       "    }\n",
       "</style>\n",
       "<table border=\"1\" class=\"dataframe\">\n",
       "  <thead>\n",
       "    <tr style=\"text-align: right;\">\n",
       "      <th></th>\n",
       "      <th>feature</th>\n",
       "      <th>data_type</th>\n",
       "      <th>null</th>\n",
       "      <th>nulPct</th>\n",
       "      <th>unique</th>\n",
       "      <th>uniqueSample</th>\n",
       "    </tr>\n",
       "  </thead>\n",
       "  <tbody>\n",
       "    <tr>\n",
       "      <th>0</th>\n",
       "      <td>LoanNr_ChkDgt</td>\n",
       "      <td>int64</td>\n",
       "      <td>0</td>\n",
       "      <td>0.00</td>\n",
       "      <td>899164</td>\n",
       "      <td>[4255513010, 2613256005, 2905465004, 838522300...</td>\n",
       "    </tr>\n",
       "    <tr>\n",
       "      <th>1</th>\n",
       "      <td>Name</td>\n",
       "      <td>object</td>\n",
       "      <td>14</td>\n",
       "      <td>0.00</td>\n",
       "      <td>779583</td>\n",
       "      <td>[M&amp;M MECHANICAL, COPE'S SOUTH MARKET MINI DELI...</td>\n",
       "    </tr>\n",
       "    <tr>\n",
       "      <th>2</th>\n",
       "      <td>City</td>\n",
       "      <td>object</td>\n",
       "      <td>30</td>\n",
       "      <td>0.00</td>\n",
       "      <td>32581</td>\n",
       "      <td>[BROOKLYN, FERNANDINA BEACH, Riverside, Novice...</td>\n",
       "    </tr>\n",
       "    <tr>\n",
       "      <th>3</th>\n",
       "      <td>State</td>\n",
       "      <td>object</td>\n",
       "      <td>14</td>\n",
       "      <td>0.00</td>\n",
       "      <td>51</td>\n",
       "      <td>[SD, TX, MD, WA, UT]</td>\n",
       "    </tr>\n",
       "    <tr>\n",
       "      <th>4</th>\n",
       "      <td>Zip</td>\n",
       "      <td>int64</td>\n",
       "      <td>0</td>\n",
       "      <td>0.00</td>\n",
       "      <td>33611</td>\n",
       "      <td>[89030, 3867, 79424, 67801, 48073]</td>\n",
       "    </tr>\n",
       "    <tr>\n",
       "      <th>5</th>\n",
       "      <td>Bank</td>\n",
       "      <td>object</td>\n",
       "      <td>1559</td>\n",
       "      <td>0.17</td>\n",
       "      <td>5802</td>\n",
       "      <td>[FDIC/CLARKS FOLK NATIONAL BANK, BBCN BANK, AM...</td>\n",
       "    </tr>\n",
       "    <tr>\n",
       "      <th>6</th>\n",
       "      <td>BankState</td>\n",
       "      <td>object</td>\n",
       "      <td>1566</td>\n",
       "      <td>0.17</td>\n",
       "      <td>56</td>\n",
       "      <td>[NC, TN, NV, SC, OH]</td>\n",
       "    </tr>\n",
       "    <tr>\n",
       "      <th>7</th>\n",
       "      <td>NAICS</td>\n",
       "      <td>int64</td>\n",
       "      <td>0</td>\n",
       "      <td>0.00</td>\n",
       "      <td>1312</td>\n",
       "      <td>[541921, 512110, 0, 812112, 811490]</td>\n",
       "    </tr>\n",
       "    <tr>\n",
       "      <th>8</th>\n",
       "      <td>ApprovalDate</td>\n",
       "      <td>object</td>\n",
       "      <td>0</td>\n",
       "      <td>0.00</td>\n",
       "      <td>9859</td>\n",
       "      <td>[10-Dec-93, 5-Aug-97, 4-Aug-06, 30-Aug-06, 20-...</td>\n",
       "    </tr>\n",
       "    <tr>\n",
       "      <th>9</th>\n",
       "      <td>ApprovalFY</td>\n",
       "      <td>object</td>\n",
       "      <td>0</td>\n",
       "      <td>0.00</td>\n",
       "      <td>71</td>\n",
       "      <td>[2004, 2000, 1995, 2003, 2005]</td>\n",
       "    </tr>\n",
       "    <tr>\n",
       "      <th>10</th>\n",
       "      <td>Term</td>\n",
       "      <td>int64</td>\n",
       "      <td>0</td>\n",
       "      <td>0.00</td>\n",
       "      <td>412</td>\n",
       "      <td>[120, 84, 99, 156, 60]</td>\n",
       "    </tr>\n",
       "    <tr>\n",
       "      <th>11</th>\n",
       "      <td>NoEmp</td>\n",
       "      <td>int64</td>\n",
       "      <td>0</td>\n",
       "      <td>0.00</td>\n",
       "      <td>599</td>\n",
       "      <td>[75, 1, 3, 4]</td>\n",
       "    </tr>\n",
       "    <tr>\n",
       "      <th>12</th>\n",
       "      <td>NewExist</td>\n",
       "      <td>float64</td>\n",
       "      <td>136</td>\n",
       "      <td>0.02</td>\n",
       "      <td>3</td>\n",
       "      <td>[2.0, 1.0]</td>\n",
       "    </tr>\n",
       "    <tr>\n",
       "      <th>13</th>\n",
       "      <td>CreateJob</td>\n",
       "      <td>int64</td>\n",
       "      <td>0</td>\n",
       "      <td>0.00</td>\n",
       "      <td>246</td>\n",
       "      <td>[8, 0]</td>\n",
       "    </tr>\n",
       "    <tr>\n",
       "      <th>14</th>\n",
       "      <td>RetainedJob</td>\n",
       "      <td>int64</td>\n",
       "      <td>0</td>\n",
       "      <td>0.00</td>\n",
       "      <td>358</td>\n",
       "      <td>[1, 2, 4, 0]</td>\n",
       "    </tr>\n",
       "    <tr>\n",
       "      <th>15</th>\n",
       "      <td>FranchiseCode</td>\n",
       "      <td>int64</td>\n",
       "      <td>0</td>\n",
       "      <td>0.00</td>\n",
       "      <td>2768</td>\n",
       "      <td>[0, 1]</td>\n",
       "    </tr>\n",
       "    <tr>\n",
       "      <th>16</th>\n",
       "      <td>UrbanRural</td>\n",
       "      <td>int64</td>\n",
       "      <td>0</td>\n",
       "      <td>0.00</td>\n",
       "      <td>3</td>\n",
       "      <td>[1, 0]</td>\n",
       "    </tr>\n",
       "    <tr>\n",
       "      <th>17</th>\n",
       "      <td>RevLineCr</td>\n",
       "      <td>object</td>\n",
       "      <td>4528</td>\n",
       "      <td>0.50</td>\n",
       "      <td>18</td>\n",
       "      <td>[Y, N]</td>\n",
       "    </tr>\n",
       "    <tr>\n",
       "      <th>18</th>\n",
       "      <td>LowDoc</td>\n",
       "      <td>object</td>\n",
       "      <td>2582</td>\n",
       "      <td>0.29</td>\n",
       "      <td>8</td>\n",
       "      <td>[N, Y]</td>\n",
       "    </tr>\n",
       "    <tr>\n",
       "      <th>19</th>\n",
       "      <td>ChgOffDate</td>\n",
       "      <td>object</td>\n",
       "      <td>736465</td>\n",
       "      <td>81.91</td>\n",
       "      <td>6448</td>\n",
       "      <td>[4-May-11, nan]</td>\n",
       "    </tr>\n",
       "    <tr>\n",
       "      <th>20</th>\n",
       "      <td>DisbursementDate</td>\n",
       "      <td>object</td>\n",
       "      <td>2368</td>\n",
       "      <td>0.26</td>\n",
       "      <td>8472</td>\n",
       "      <td>[31-Jan-93, 30-Jun-01, 30-Jun-99, 22-Sep-94, 3...</td>\n",
       "    </tr>\n",
       "    <tr>\n",
       "      <th>21</th>\n",
       "      <td>DisbursementGross</td>\n",
       "      <td>object</td>\n",
       "      <td>0</td>\n",
       "      <td>0.00</td>\n",
       "      <td>118859</td>\n",
       "      <td>[$748,000.00 , $65,600.00 , $153,675.00 , $35,...</td>\n",
       "    </tr>\n",
       "    <tr>\n",
       "      <th>22</th>\n",
       "      <td>BalanceGross</td>\n",
       "      <td>object</td>\n",
       "      <td>0</td>\n",
       "      <td>0.00</td>\n",
       "      <td>15</td>\n",
       "      <td>[$0.00 ]</td>\n",
       "    </tr>\n",
       "    <tr>\n",
       "      <th>23</th>\n",
       "      <td>MIS_Status</td>\n",
       "      <td>object</td>\n",
       "      <td>1997</td>\n",
       "      <td>0.22</td>\n",
       "      <td>2</td>\n",
       "      <td>[P I F, CHGOFF]</td>\n",
       "    </tr>\n",
       "    <tr>\n",
       "      <th>24</th>\n",
       "      <td>ChgOffPrinGr</td>\n",
       "      <td>object</td>\n",
       "      <td>0</td>\n",
       "      <td>0.00</td>\n",
       "      <td>83165</td>\n",
       "      <td>[$28,719.00 , $0.00 ]</td>\n",
       "    </tr>\n",
       "    <tr>\n",
       "      <th>25</th>\n",
       "      <td>GrAppv</td>\n",
       "      <td>object</td>\n",
       "      <td>0</td>\n",
       "      <td>0.00</td>\n",
       "      <td>22128</td>\n",
       "      <td>[$25,000.00 , $100,000.00 , $350,800.00 , $185...</td>\n",
       "    </tr>\n",
       "    <tr>\n",
       "      <th>26</th>\n",
       "      <td>SBA_Appv</td>\n",
       "      <td>object</td>\n",
       "      <td>0</td>\n",
       "      <td>0.00</td>\n",
       "      <td>38326</td>\n",
       "      <td>[$748,000.00 , $62,000.00 , $5,000.00 , $49,50...</td>\n",
       "    </tr>\n",
       "  </tbody>\n",
       "</table>\n",
       "</div>"
      ],
      "text/plain": [
       "              feature data_type    null  nulPct  unique  \\\n",
       "0       LoanNr_ChkDgt     int64       0    0.00  899164   \n",
       "1                Name    object      14    0.00  779583   \n",
       "2                City    object      30    0.00   32581   \n",
       "3               State    object      14    0.00      51   \n",
       "4                 Zip     int64       0    0.00   33611   \n",
       "5                Bank    object    1559    0.17    5802   \n",
       "6           BankState    object    1566    0.17      56   \n",
       "7               NAICS     int64       0    0.00    1312   \n",
       "8        ApprovalDate    object       0    0.00    9859   \n",
       "9          ApprovalFY    object       0    0.00      71   \n",
       "10               Term     int64       0    0.00     412   \n",
       "11              NoEmp     int64       0    0.00     599   \n",
       "12           NewExist   float64     136    0.02       3   \n",
       "13          CreateJob     int64       0    0.00     246   \n",
       "14        RetainedJob     int64       0    0.00     358   \n",
       "15      FranchiseCode     int64       0    0.00    2768   \n",
       "16         UrbanRural     int64       0    0.00       3   \n",
       "17          RevLineCr    object    4528    0.50      18   \n",
       "18             LowDoc    object    2582    0.29       8   \n",
       "19         ChgOffDate    object  736465   81.91    6448   \n",
       "20   DisbursementDate    object    2368    0.26    8472   \n",
       "21  DisbursementGross    object       0    0.00  118859   \n",
       "22       BalanceGross    object       0    0.00      15   \n",
       "23         MIS_Status    object    1997    0.22       2   \n",
       "24       ChgOffPrinGr    object       0    0.00   83165   \n",
       "25             GrAppv    object       0    0.00   22128   \n",
       "26           SBA_Appv    object       0    0.00   38326   \n",
       "\n",
       "                                         uniqueSample  \n",
       "0   [4255513010, 2613256005, 2905465004, 838522300...  \n",
       "1   [M&M MECHANICAL, COPE'S SOUTH MARKET MINI DELI...  \n",
       "2   [BROOKLYN, FERNANDINA BEACH, Riverside, Novice...  \n",
       "3                                [SD, TX, MD, WA, UT]  \n",
       "4                  [89030, 3867, 79424, 67801, 48073]  \n",
       "5   [FDIC/CLARKS FOLK NATIONAL BANK, BBCN BANK, AM...  \n",
       "6                                [NC, TN, NV, SC, OH]  \n",
       "7                 [541921, 512110, 0, 812112, 811490]  \n",
       "8   [10-Dec-93, 5-Aug-97, 4-Aug-06, 30-Aug-06, 20-...  \n",
       "9                      [2004, 2000, 1995, 2003, 2005]  \n",
       "10                             [120, 84, 99, 156, 60]  \n",
       "11                                      [75, 1, 3, 4]  \n",
       "12                                         [2.0, 1.0]  \n",
       "13                                             [8, 0]  \n",
       "14                                       [1, 2, 4, 0]  \n",
       "15                                             [0, 1]  \n",
       "16                                             [1, 0]  \n",
       "17                                             [Y, N]  \n",
       "18                                             [N, Y]  \n",
       "19                                    [4-May-11, nan]  \n",
       "20  [31-Jan-93, 30-Jun-01, 30-Jun-99, 22-Sep-94, 3...  \n",
       "21  [$748,000.00 , $65,600.00 , $153,675.00 , $35,...  \n",
       "22                                           [$0.00 ]  \n",
       "23                                    [P I F, CHGOFF]  \n",
       "24                              [$28,719.00 , $0.00 ]  \n",
       "25  [$25,000.00 , $100,000.00 , $350,800.00 , $185...  \n",
       "26  [$748,000.00 , $62,000.00 , $5,000.00 , $49,50...  "
      ]
     },
     "execution_count": 550,
     "metadata": {},
     "output_type": "execute_result"
    }
   ],
   "source": [
    "# Utiliser la fonction pour générer la description de votre DataFrame\n",
    "generate_description(df)\n"
   ]
  },
  {
   "cell_type": "code",
   "execution_count": 551,
   "metadata": {},
   "outputs": [
    {
     "data": {
      "text/plain": [
       "(697216, 27)"
      ]
     },
     "execution_count": 551,
     "metadata": {},
     "output_type": "execute_result"
    }
   ],
   "source": [
    "df = df[df.NAICS != 0]\n",
    "df.shape"
   ]
  },
  {
   "cell_type": "code",
   "execution_count": 552,
   "metadata": {},
   "outputs": [
    {
     "name": "stdout",
     "output_type": "stream",
     "text": [
      "       MIS_Status ChgOffDate ChgOffPrinGr\n",
      "833           NaN        NaN       $0.00 \n",
      "897           NaN        NaN       $0.00 \n",
      "1051          NaN        NaN       $0.00 \n",
      "1115          NaN        NaN       $0.00 \n",
      "3005          NaN        NaN       $0.00 \n",
      "...           ...        ...          ...\n",
      "875154        NaN        NaN       $0.00 \n",
      "875227        NaN        NaN       $0.00 \n",
      "875441        NaN        NaN       $0.00 \n",
      "885904        NaN        NaN       $0.00 \n",
      "898182        NaN        NaN       $0.00 \n",
      "\n",
      "[1716 rows x 3 columns]\n"
     ]
    }
   ],
   "source": [
    "# Filter rows based on conditions\n",
    "missing_mis_status = df[(df['MIS_Status'].isna() & df['ChgOffDate'].notna()) | df['MIS_Status'].isna() & ((df['ChgOffPrinGr'].notna()) & df['ChgOffPrinGr'] > 0.0)]\n",
    "\n",
    "# Print relevant columns\n",
    "print(missing_mis_status[['MIS_Status', 'ChgOffDate', 'ChgOffPrinGr']])\n",
    "\n",
    "# Update 'MIS_Status' for filtered rows\n",
    "df.loc[missing_mis_status.index, 'MIS_Status'] = 'CHGOFF'"
   ]
  },
  {
   "cell_type": "code",
   "execution_count": 553,
   "metadata": {},
   "outputs": [
    {
     "name": "stdout",
     "output_type": "stream",
     "text": [
      "833       CHGOFF\n",
      "897       CHGOFF\n",
      "1051      CHGOFF\n",
      "1115      CHGOFF\n",
      "3005      CHGOFF\n",
      "           ...  \n",
      "875154    CHGOFF\n",
      "875227    CHGOFF\n",
      "875441    CHGOFF\n",
      "885904    CHGOFF\n",
      "898182    CHGOFF\n",
      "Name: MIS_Status, Length: 1716, dtype: object\n"
     ]
    }
   ],
   "source": [
    "print(df.loc[missing_mis_status.index, 'MIS_Status'])"
   ]
  },
  {
   "cell_type": "code",
   "execution_count": 554,
   "metadata": {},
   "outputs": [
    {
     "name": "stdout",
     "output_type": "stream",
     "text": [
      "       BankState Bank            City State MIS_Status\n",
      "16108        NaN  NaN          DALLAS    TX      P I F\n",
      "33663        NaN  NaN   RAQUETTE LAKE    NY      P I F\n",
      "34582        NaN  NaN    OLMSTEDVILLE    NY      P I F\n",
      "39732        NaN  NaN    OLMSTEDVILLE    NY      P I F\n",
      "44475        NaN  NaN     WEST COVINA    CA      P I F\n",
      "...          ...  ...             ...   ...        ...\n",
      "866442       NaN  NaN          LOXLEY    AL      P I F\n",
      "866444       NaN  NaN      FORT WORTH    TX      P I F\n",
      "876947       NaN  NaN   MECHANICSBURG    PA      P I F\n",
      "877019       NaN  NaN  MARINA DEL REY    CA      P I F\n",
      "897474       NaN  NaN      FORT WAYNE    IN      P I F\n",
      "\n",
      "[622 rows x 5 columns]\n"
     ]
    }
   ],
   "source": [
    "missing_bank_s = df[(df['BankState'].isna() & df['Bank'].isna())]\n",
    "\n",
    "print(missing_bank_s[['BankState', 'Bank', 'City', 'State', 'MIS_Status']])"
   ]
  },
  {
   "cell_type": "code",
   "execution_count": 555,
   "metadata": {},
   "outputs": [
    {
     "name": "stdout",
     "output_type": "stream",
     "text": [
      "P I F     614\n",
      "CHGOFF      8\n",
      "Name: MIS_Status, dtype: int64\n"
     ]
    }
   ],
   "source": [
    "# Compter les occurrences de chaque catégorie dans la colonne 'MIS_Status'\n",
    "mis_status_counts = missing_bank_s['MIS_Status'].value_counts()\n",
    "print(mis_status_counts)\n"
   ]
  },
  {
   "cell_type": "code",
   "execution_count": 556,
   "metadata": {},
   "outputs": [
    {
     "data": {
      "text/plain": [
       "(696594, 27)"
      ]
     },
     "execution_count": 556,
     "metadata": {},
     "output_type": "execute_result"
    }
   ],
   "source": [
    "df = df.drop(missing_bank_s.index, axis=0)\n",
    "df.shape"
   ]
  },
  {
   "cell_type": "code",
   "execution_count": 557,
   "metadata": {},
   "outputs": [
    {
     "name": "stdout",
     "output_type": "stream",
     "text": [
      "Nombre de lignes après le traitement des valeurs manquantes dans 'City' et 'State': 696586\n"
     ]
    }
   ],
   "source": [
    "# Remplacer les valeurs manquantes dans 'City' par la valeur la plus fréquente pour cet État\n",
    "df['City'] = df.groupby('State')['City'].transform(lambda x: x.fillna(x.mode()[0]))\n",
    "\n",
    "# Remplacer les valeurs manquantes dans 'State' par la valeur la plus fréquente pour cette ville\n",
    "df['State'] = df.groupby('City')['State'].transform(lambda x: x.fillna(x.mode()[0]))\n",
    "\n",
    "# Supprimer les lignes avec des valeurs manquantes dans 'City' et 'State'\n",
    "df.dropna(subset=['City', 'State'], inplace=True)\n",
    "\n",
    "# Afficher les dimensions du DataFrame après le traitement\n",
    "print(\"Nombre de lignes après le traitement des valeurs manquantes dans 'City' et 'State':\", len(df))"
   ]
  },
  {
   "cell_type": "code",
   "execution_count": 558,
   "metadata": {},
   "outputs": [
    {
     "name": "stdout",
     "output_type": "stream",
     "text": [
      "       BankState                            Bank\n",
      "145106       NaN             KOREA EXCHANGE BANK\n",
      "424311       NaN  STANDARD CHARTERED BK KOREA LT\n",
      "859233       NaN  THE BANK OF EAST ASIA, LIMITED\n"
     ]
    }
   ],
   "source": [
    "# Sélectionner les observations avec BankState manquant et Bank non manquant\n",
    "missing_Bank_State = df[(df['BankState'].isna() & df['Bank'].notna())]\n",
    "\n",
    "# Afficher les valeurs de BankState et Bank pour les observations concernées\n",
    "print(missing_Bank_State[['BankState', 'Bank']])\n",
    "\n",
    "# Modifier les valeurs de la colonne BankState à 'HS'\n",
    "df.loc[missing_Bank_State.index, 'BankState'] = 'HS'"
   ]
  },
  {
   "cell_type": "code",
   "execution_count": 559,
   "metadata": {},
   "outputs": [
    {
     "name": "stdout",
     "output_type": "stream",
     "text": [
      "       BankState                            Bank\n",
      "145106        HS             KOREA EXCHANGE BANK\n",
      "424311        HS  STANDARD CHARTERED BK KOREA LT\n",
      "859233        HS  THE BANK OF EAST ASIA, LIMITED\n"
     ]
    }
   ],
   "source": [
    "# Afficher les valeurs de BankState et Bank pour les observations concernées après la modification\n",
    "print(df.loc[missing_Bank_State.index, ['BankState', 'Bank']])"
   ]
  },
  {
   "cell_type": "code",
   "execution_count": 560,
   "metadata": {},
   "outputs": [
    {
     "data": {
      "text/plain": [
       "1.0    502343\n",
       "2.0    193378\n",
       "Name: NewExist, dtype: int64"
      ]
     },
     "execution_count": 560,
     "metadata": {},
     "output_type": "execute_result"
    }
   ],
   "source": [
    "df = df[(df.NewExist == 1.0) | (df.NewExist == 2.0)]\n",
    "df.NewExist.value_counts()"
   ]
  },
  {
   "cell_type": "code",
   "execution_count": 561,
   "metadata": {},
   "outputs": [
    {
     "data": {
      "text/plain": [
       "N    269401\n",
       "0    214171\n",
       "Y    195125\n",
       "T     14648\n",
       "1        14\n",
       "R        14\n",
       "`         5\n",
       "2         5\n",
       "C         2\n",
       ",         1\n",
       "7         1\n",
       "A         1\n",
       "-         1\n",
       "Q         1\n",
       "Name: RevLineCr, dtype: int64"
      ]
     },
     "execution_count": 561,
     "metadata": {},
     "output_type": "execute_result"
    }
   ],
   "source": [
    "df['RevLineCr'].value_counts()"
   ]
  },
  {
   "cell_type": "code",
   "execution_count": 562,
   "metadata": {},
   "outputs": [
    {
     "name": "stdout",
     "output_type": "stream",
     "text": [
      "N    483572\n",
      "Y    195139\n",
      "Name: RevLineCr, dtype: int64\n"
     ]
    }
   ],
   "source": [
    "mapping = {'0': 'N', '1': 'Y'}\n",
    "\n",
    "# Remplacer les valeurs selon le mapping défini\n",
    "df['RevLineCr'] = df['RevLineCr'].replace(mapping)\n",
    "\n",
    "# Supprimer les valeurs qui ne sont pas 'N', 'Y', ou 'T'\n",
    "valid_values = ['N', 'Y']\n",
    "df = df[df['RevLineCr'].isin(valid_values)]\n",
    "\n",
    "# Afficher les nouvelles valeurs uniques pour vérification\n",
    "print(df['RevLineCr'].value_counts())"
   ]
  },
  {
   "cell_type": "code",
   "execution_count": 563,
   "metadata": {},
   "outputs": [
    {
     "data": {
      "text/plain": [
       "N    607685\n",
       "Y     66165\n",
       "C       614\n",
       "S       599\n",
       "0       552\n",
       "A       493\n",
       "R        74\n",
       "1         1\n",
       "Name: LowDoc, dtype: int64"
      ]
     },
     "execution_count": 563,
     "metadata": {},
     "output_type": "execute_result"
    }
   ],
   "source": [
    "df['LowDoc'].value_counts()"
   ]
  },
  {
   "cell_type": "code",
   "execution_count": 564,
   "metadata": {},
   "outputs": [
    {
     "name": "stdout",
     "output_type": "stream",
     "text": [
      "N    608237\n",
      "Y     66166\n",
      "Name: LowDoc, dtype: int64\n"
     ]
    }
   ],
   "source": [
    "mapping = {'0': 'N', '1': 'Y'}\n",
    "# Remplacer les valeurs selon le mapping défini\n",
    "df['LowDoc'] = df['LowDoc'].replace(mapping)\n",
    "\n",
    "# Supprimer les valeurs qui ne sont pas 'N', 'Y'\n",
    "valid_values = ['N', 'Y']\n",
    "df = df[df['LowDoc'].isin(valid_values)]\n",
    "\n",
    "# Afficher les nouvelles valeurs uniques pour vérification\n",
    "print(df['LowDoc'].value_counts())"
   ]
  },
  {
   "cell_type": "code",
   "execution_count": 565,
   "metadata": {},
   "outputs": [],
   "source": [
    "# Appliquer la fonction currency_cleaning aux colonnes 'GrAppv' et 'SBA_Appv'\n",
    "df['GrAppv'] = df['GrAppv'].apply(currency_cleaning).astype(float).astype(int)\n",
    "df['SBA_Appv'] = df['SBA_Appv'].apply(currency_cleaning).astype(float).astype(int)"
   ]
  },
  {
   "cell_type": "code",
   "execution_count": 566,
   "metadata": {},
   "outputs": [],
   "source": [
    "# Filtrer les lignes où NAICS est égal à 0\n",
    "df = df[df['NAICS'] != 0]\n",
    "\n",
    "# Appliquer la fonction de reclassification des NAICS\n",
    "df['NAICS'] = df['NAICS'].apply(naicsEngineering)"
   ]
  },
  {
   "cell_type": "code",
   "execution_count": 567,
   "metadata": {},
   "outputs": [],
   "source": [
    "NAICS = pd.get_dummies(df['NAICS'], prefix='NAICS', drop_first=False)\n",
    "RevLineCr = pd.get_dummies(df['RevLineCr'], drop_first=True)\n",
    "LowDoc = pd.get_dummies(df['LowDoc'], drop_first=True)"
   ]
  },
  {
   "cell_type": "code",
   "execution_count": 568,
   "metadata": {},
   "outputs": [],
   "source": [
    "df.drop(['NAICS', 'RevLineCr', 'LowDoc'], axis=1, inplace=True)\n",
    "df['RevLineCr'] = RevLineCr['Y']\n",
    "df['LowDoc'] = LowDoc['Y']\n",
    "df = pd.concat([df,NAICS], axis=1)"
   ]
  },
  {
   "cell_type": "code",
   "execution_count": 569,
   "metadata": {},
   "outputs": [],
   "source": [
    "MIS_Status = pd.get_dummies(df['MIS_Status'], drop_first=True)\n",
    "df.drop(['MIS_Status'], axis=1, inplace=True)\n",
    "df = pd.concat([df,MIS_Status], axis=1)\n",
    "df = df.rename(columns={'P I F':'Approve'})"
   ]
  },
  {
   "cell_type": "code",
   "execution_count": 570,
   "metadata": {},
   "outputs": [
    {
     "data": {
      "text/html": [
       "<div>\n",
       "<style scoped>\n",
       "    .dataframe tbody tr th:only-of-type {\n",
       "        vertical-align: middle;\n",
       "    }\n",
       "\n",
       "    .dataframe tbody tr th {\n",
       "        vertical-align: top;\n",
       "    }\n",
       "\n",
       "    .dataframe thead th {\n",
       "        text-align: right;\n",
       "    }\n",
       "</style>\n",
       "<table border=\"1\" class=\"dataframe\">\n",
       "  <thead>\n",
       "    <tr style=\"text-align: right;\">\n",
       "      <th></th>\n",
       "      <th>LoanNr_ChkDgt</th>\n",
       "      <th>Name</th>\n",
       "      <th>City</th>\n",
       "      <th>State</th>\n",
       "      <th>Zip</th>\n",
       "      <th>Bank</th>\n",
       "      <th>BankState</th>\n",
       "      <th>ApprovalDate</th>\n",
       "      <th>ApprovalFY</th>\n",
       "      <th>Term</th>\n",
       "      <th>...</th>\n",
       "      <th>NAICS_54</th>\n",
       "      <th>NAICS_55</th>\n",
       "      <th>NAICS_56</th>\n",
       "      <th>NAICS_61</th>\n",
       "      <th>NAICS_62</th>\n",
       "      <th>NAICS_71</th>\n",
       "      <th>NAICS_72</th>\n",
       "      <th>NAICS_81</th>\n",
       "      <th>NAICS_92</th>\n",
       "      <th>Approve</th>\n",
       "    </tr>\n",
       "  </thead>\n",
       "  <tbody>\n",
       "    <tr>\n",
       "      <th>0</th>\n",
       "      <td>1000014003</td>\n",
       "      <td>ABC HOBBYCRAFT</td>\n",
       "      <td>EVANSVILLE</td>\n",
       "      <td>IN</td>\n",
       "      <td>47711</td>\n",
       "      <td>FIFTH THIRD BANK</td>\n",
       "      <td>OH</td>\n",
       "      <td>28-Feb-97</td>\n",
       "      <td>1997</td>\n",
       "      <td>84</td>\n",
       "      <td>...</td>\n",
       "      <td>0</td>\n",
       "      <td>0</td>\n",
       "      <td>0</td>\n",
       "      <td>0</td>\n",
       "      <td>0</td>\n",
       "      <td>0</td>\n",
       "      <td>0</td>\n",
       "      <td>0</td>\n",
       "      <td>0</td>\n",
       "      <td>1</td>\n",
       "    </tr>\n",
       "    <tr>\n",
       "      <th>1</th>\n",
       "      <td>1000024006</td>\n",
       "      <td>LANDMARK BAR &amp; GRILLE (THE)</td>\n",
       "      <td>NEW PARIS</td>\n",
       "      <td>IN</td>\n",
       "      <td>46526</td>\n",
       "      <td>1ST SOURCE BANK</td>\n",
       "      <td>IN</td>\n",
       "      <td>28-Feb-97</td>\n",
       "      <td>1997</td>\n",
       "      <td>60</td>\n",
       "      <td>...</td>\n",
       "      <td>0</td>\n",
       "      <td>0</td>\n",
       "      <td>0</td>\n",
       "      <td>0</td>\n",
       "      <td>0</td>\n",
       "      <td>0</td>\n",
       "      <td>1</td>\n",
       "      <td>0</td>\n",
       "      <td>0</td>\n",
       "      <td>1</td>\n",
       "    </tr>\n",
       "    <tr>\n",
       "      <th>2</th>\n",
       "      <td>1000034009</td>\n",
       "      <td>WHITLOCK DDS, TODD M.</td>\n",
       "      <td>BLOOMINGTON</td>\n",
       "      <td>IN</td>\n",
       "      <td>47401</td>\n",
       "      <td>GRANT COUNTY STATE BANK</td>\n",
       "      <td>IN</td>\n",
       "      <td>28-Feb-97</td>\n",
       "      <td>1997</td>\n",
       "      <td>180</td>\n",
       "      <td>...</td>\n",
       "      <td>0</td>\n",
       "      <td>0</td>\n",
       "      <td>0</td>\n",
       "      <td>0</td>\n",
       "      <td>1</td>\n",
       "      <td>0</td>\n",
       "      <td>0</td>\n",
       "      <td>0</td>\n",
       "      <td>0</td>\n",
       "      <td>1</td>\n",
       "    </tr>\n",
       "    <tr>\n",
       "      <th>5</th>\n",
       "      <td>1000084002</td>\n",
       "      <td>B&amp;T SCREW MACHINE COMPANY, INC</td>\n",
       "      <td>PLAINVILLE</td>\n",
       "      <td>CT</td>\n",
       "      <td>6062</td>\n",
       "      <td>TD BANK, NATIONAL ASSOCIATION</td>\n",
       "      <td>DE</td>\n",
       "      <td>28-Feb-97</td>\n",
       "      <td>1997</td>\n",
       "      <td>120</td>\n",
       "      <td>...</td>\n",
       "      <td>0</td>\n",
       "      <td>0</td>\n",
       "      <td>0</td>\n",
       "      <td>0</td>\n",
       "      <td>0</td>\n",
       "      <td>0</td>\n",
       "      <td>0</td>\n",
       "      <td>0</td>\n",
       "      <td>0</td>\n",
       "      <td>1</td>\n",
       "    </tr>\n",
       "    <tr>\n",
       "      <th>7</th>\n",
       "      <td>1000094005</td>\n",
       "      <td>WEAVER PRODUCTS</td>\n",
       "      <td>SUMMERFIELD</td>\n",
       "      <td>FL</td>\n",
       "      <td>34491</td>\n",
       "      <td>REGIONS BANK</td>\n",
       "      <td>AL</td>\n",
       "      <td>28-Feb-97</td>\n",
       "      <td>1997</td>\n",
       "      <td>84</td>\n",
       "      <td>...</td>\n",
       "      <td>0</td>\n",
       "      <td>0</td>\n",
       "      <td>0</td>\n",
       "      <td>0</td>\n",
       "      <td>0</td>\n",
       "      <td>0</td>\n",
       "      <td>0</td>\n",
       "      <td>1</td>\n",
       "      <td>0</td>\n",
       "      <td>1</td>\n",
       "    </tr>\n",
       "    <tr>\n",
       "      <th>...</th>\n",
       "      <td>...</td>\n",
       "      <td>...</td>\n",
       "      <td>...</td>\n",
       "      <td>...</td>\n",
       "      <td>...</td>\n",
       "      <td>...</td>\n",
       "      <td>...</td>\n",
       "      <td>...</td>\n",
       "      <td>...</td>\n",
       "      <td>...</td>\n",
       "      <td>...</td>\n",
       "      <td>...</td>\n",
       "      <td>...</td>\n",
       "      <td>...</td>\n",
       "      <td>...</td>\n",
       "      <td>...</td>\n",
       "      <td>...</td>\n",
       "      <td>...</td>\n",
       "      <td>...</td>\n",
       "      <td>...</td>\n",
       "      <td>...</td>\n",
       "    </tr>\n",
       "    <tr>\n",
       "      <th>899156</th>\n",
       "      <td>9995473009</td>\n",
       "      <td>FABRICATORS STEEL, INC.</td>\n",
       "      <td>BALTIMORE</td>\n",
       "      <td>MD</td>\n",
       "      <td>21224</td>\n",
       "      <td>BANK OF AMERICA NATL ASSOC</td>\n",
       "      <td>MD</td>\n",
       "      <td>27-Feb-97</td>\n",
       "      <td>1997</td>\n",
       "      <td>60</td>\n",
       "      <td>...</td>\n",
       "      <td>0</td>\n",
       "      <td>0</td>\n",
       "      <td>0</td>\n",
       "      <td>0</td>\n",
       "      <td>0</td>\n",
       "      <td>0</td>\n",
       "      <td>0</td>\n",
       "      <td>0</td>\n",
       "      <td>0</td>\n",
       "      <td>1</td>\n",
       "    </tr>\n",
       "    <tr>\n",
       "      <th>899157</th>\n",
       "      <td>9995493004</td>\n",
       "      <td>PULLTARPS MFG.</td>\n",
       "      <td>EL CAJON</td>\n",
       "      <td>CA</td>\n",
       "      <td>92020</td>\n",
       "      <td>U.S. BANK NATIONAL ASSOCIATION</td>\n",
       "      <td>CA</td>\n",
       "      <td>27-Feb-97</td>\n",
       "      <td>1997</td>\n",
       "      <td>36</td>\n",
       "      <td>...</td>\n",
       "      <td>0</td>\n",
       "      <td>0</td>\n",
       "      <td>0</td>\n",
       "      <td>0</td>\n",
       "      <td>0</td>\n",
       "      <td>0</td>\n",
       "      <td>0</td>\n",
       "      <td>0</td>\n",
       "      <td>0</td>\n",
       "      <td>1</td>\n",
       "    </tr>\n",
       "    <tr>\n",
       "      <th>899159</th>\n",
       "      <td>9995573004</td>\n",
       "      <td>FABRIC FARMS</td>\n",
       "      <td>UPPER ARLINGTON</td>\n",
       "      <td>OH</td>\n",
       "      <td>43221</td>\n",
       "      <td>JPMORGAN CHASE BANK NATL ASSOC</td>\n",
       "      <td>IL</td>\n",
       "      <td>27-Feb-97</td>\n",
       "      <td>1997</td>\n",
       "      <td>60</td>\n",
       "      <td>...</td>\n",
       "      <td>0</td>\n",
       "      <td>0</td>\n",
       "      <td>0</td>\n",
       "      <td>0</td>\n",
       "      <td>0</td>\n",
       "      <td>0</td>\n",
       "      <td>0</td>\n",
       "      <td>0</td>\n",
       "      <td>0</td>\n",
       "      <td>1</td>\n",
       "    </tr>\n",
       "    <tr>\n",
       "      <th>899160</th>\n",
       "      <td>9995603000</td>\n",
       "      <td>FABRIC FARMS</td>\n",
       "      <td>COLUMBUS</td>\n",
       "      <td>OH</td>\n",
       "      <td>43221</td>\n",
       "      <td>JPMORGAN CHASE BANK NATL ASSOC</td>\n",
       "      <td>IL</td>\n",
       "      <td>27-Feb-97</td>\n",
       "      <td>1997</td>\n",
       "      <td>60</td>\n",
       "      <td>...</td>\n",
       "      <td>0</td>\n",
       "      <td>0</td>\n",
       "      <td>0</td>\n",
       "      <td>0</td>\n",
       "      <td>0</td>\n",
       "      <td>0</td>\n",
       "      <td>0</td>\n",
       "      <td>0</td>\n",
       "      <td>0</td>\n",
       "      <td>1</td>\n",
       "    </tr>\n",
       "    <tr>\n",
       "      <th>899161</th>\n",
       "      <td>9995613003</td>\n",
       "      <td>RADCO MANUFACTURING CO.,INC.</td>\n",
       "      <td>SANTA MARIA</td>\n",
       "      <td>CA</td>\n",
       "      <td>93455</td>\n",
       "      <td>RABOBANK, NATIONAL ASSOCIATION</td>\n",
       "      <td>CA</td>\n",
       "      <td>27-Feb-97</td>\n",
       "      <td>1997</td>\n",
       "      <td>108</td>\n",
       "      <td>...</td>\n",
       "      <td>0</td>\n",
       "      <td>0</td>\n",
       "      <td>0</td>\n",
       "      <td>0</td>\n",
       "      <td>0</td>\n",
       "      <td>0</td>\n",
       "      <td>0</td>\n",
       "      <td>0</td>\n",
       "      <td>0</td>\n",
       "      <td>1</td>\n",
       "    </tr>\n",
       "  </tbody>\n",
       "</table>\n",
       "<p>674403 rows × 46 columns</p>\n",
       "</div>"
      ],
      "text/plain": [
       "        LoanNr_ChkDgt                            Name             City State  \\\n",
       "0          1000014003                  ABC HOBBYCRAFT       EVANSVILLE    IN   \n",
       "1          1000024006     LANDMARK BAR & GRILLE (THE)        NEW PARIS    IN   \n",
       "2          1000034009           WHITLOCK DDS, TODD M.      BLOOMINGTON    IN   \n",
       "5          1000084002  B&T SCREW MACHINE COMPANY, INC       PLAINVILLE    CT   \n",
       "7          1000094005                 WEAVER PRODUCTS      SUMMERFIELD    FL   \n",
       "...               ...                             ...              ...   ...   \n",
       "899156     9995473009         FABRICATORS STEEL, INC.        BALTIMORE    MD   \n",
       "899157     9995493004                  PULLTARPS MFG.         EL CAJON    CA   \n",
       "899159     9995573004                    FABRIC FARMS  UPPER ARLINGTON    OH   \n",
       "899160     9995603000                    FABRIC FARMS         COLUMBUS    OH   \n",
       "899161     9995613003    RADCO MANUFACTURING CO.,INC.      SANTA MARIA    CA   \n",
       "\n",
       "          Zip                            Bank BankState ApprovalDate  \\\n",
       "0       47711                FIFTH THIRD BANK        OH    28-Feb-97   \n",
       "1       46526                 1ST SOURCE BANK        IN    28-Feb-97   \n",
       "2       47401         GRANT COUNTY STATE BANK        IN    28-Feb-97   \n",
       "5        6062   TD BANK, NATIONAL ASSOCIATION        DE    28-Feb-97   \n",
       "7       34491                    REGIONS BANK        AL    28-Feb-97   \n",
       "...       ...                             ...       ...          ...   \n",
       "899156  21224      BANK OF AMERICA NATL ASSOC        MD    27-Feb-97   \n",
       "899157  92020  U.S. BANK NATIONAL ASSOCIATION        CA    27-Feb-97   \n",
       "899159  43221  JPMORGAN CHASE BANK NATL ASSOC        IL    27-Feb-97   \n",
       "899160  43221  JPMORGAN CHASE BANK NATL ASSOC        IL    27-Feb-97   \n",
       "899161  93455  RABOBANK, NATIONAL ASSOCIATION        CA    27-Feb-97   \n",
       "\n",
       "       ApprovalFY  Term  ...  NAICS_54  NAICS_55  NAICS_56  NAICS_61  \\\n",
       "0            1997    84  ...         0         0         0         0   \n",
       "1            1997    60  ...         0         0         0         0   \n",
       "2            1997   180  ...         0         0         0         0   \n",
       "5            1997   120  ...         0         0         0         0   \n",
       "7            1997    84  ...         0         0         0         0   \n",
       "...           ...   ...  ...       ...       ...       ...       ...   \n",
       "899156       1997    60  ...         0         0         0         0   \n",
       "899157       1997    36  ...         0         0         0         0   \n",
       "899159       1997    60  ...         0         0         0         0   \n",
       "899160       1997    60  ...         0         0         0         0   \n",
       "899161       1997   108  ...         0         0         0         0   \n",
       "\n",
       "        NAICS_62  NAICS_71 NAICS_72 NAICS_81 NAICS_92 Approve  \n",
       "0              0         0        0        0        0       1  \n",
       "1              0         0        1        0        0       1  \n",
       "2              1         0        0        0        0       1  \n",
       "5              0         0        0        0        0       1  \n",
       "7              0         0        0        1        0       1  \n",
       "...          ...       ...      ...      ...      ...     ...  \n",
       "899156         0         0        0        0        0       1  \n",
       "899157         0         0        0        0        0       1  \n",
       "899159         0         0        0        0        0       1  \n",
       "899160         0         0        0        0        0       1  \n",
       "899161         0         0        0        0        0       1  \n",
       "\n",
       "[674403 rows x 46 columns]"
      ]
     },
     "execution_count": 570,
     "metadata": {},
     "output_type": "execute_result"
    }
   ],
   "source": [
    "df"
   ]
  },
  {
   "cell_type": "code",
   "execution_count": 571,
   "metadata": {},
   "outputs": [
    {
     "name": "stdout",
     "output_type": "stream",
     "text": [
      "Empty DataFrame\n",
      "Columns: [LoanNr_ChkDgt, Name, City, State, Zip, Bank, BankState, ApprovalDate, ApprovalFY, Term, NoEmp, NewExist, CreateJob, RetainedJob, FranchiseCode, UrbanRural, ChgOffDate, DisbursementDate, DisbursementGross, BalanceGross, ChgOffPrinGr, GrAppv, SBA_Appv, RevLineCr, LowDoc, NAICS_11, NAICS_21, NAICS_22, NAICS_23, NAICS_31-33, NAICS_42, NAICS_44-45, NAICS_48-49, NAICS_51, NAICS_52, NAICS_53, NAICS_54, NAICS_55, NAICS_56, NAICS_61, NAICS_62, NAICS_71, NAICS_72, NAICS_81, NAICS_92, Approve]\n",
      "Index: []\n",
      "\n",
      "[0 rows x 46 columns]\n"
     ]
    }
   ],
   "source": [
    "duplicates = df[df.duplicated()]\n",
    "print(duplicates)"
   ]
  },
  {
   "cell_type": "code",
   "execution_count": 572,
   "metadata": {},
   "outputs": [
    {
     "data": {
      "text/plain": [
       "LoanNr_ChkDgt             0\n",
       "Name                     10\n",
       "City                      0\n",
       "State                     0\n",
       "Zip                       0\n",
       "Bank                      0\n",
       "BankState                 0\n",
       "ApprovalDate              0\n",
       "ApprovalFY                0\n",
       "Term                      0\n",
       "NoEmp                     0\n",
       "NewExist                  0\n",
       "CreateJob                 0\n",
       "RetainedJob               0\n",
       "FranchiseCode             0\n",
       "UrbanRural                0\n",
       "ChgOffDate           537529\n",
       "DisbursementDate       1841\n",
       "DisbursementGross         0\n",
       "BalanceGross              0\n",
       "ChgOffPrinGr              0\n",
       "GrAppv                    0\n",
       "SBA_Appv                  0\n",
       "RevLineCr                 0\n",
       "LowDoc                    0\n",
       "NAICS_11                  0\n",
       "NAICS_21                  0\n",
       "NAICS_22                  0\n",
       "NAICS_23                  0\n",
       "NAICS_31-33               0\n",
       "NAICS_42                  0\n",
       "NAICS_44-45               0\n",
       "NAICS_48-49               0\n",
       "NAICS_51                  0\n",
       "NAICS_52                  0\n",
       "NAICS_53                  0\n",
       "NAICS_54                  0\n",
       "NAICS_55                  0\n",
       "NAICS_56                  0\n",
       "NAICS_61                  0\n",
       "NAICS_62                  0\n",
       "NAICS_71                  0\n",
       "NAICS_72                  0\n",
       "NAICS_81                  0\n",
       "NAICS_92                  0\n",
       "Approve                   0\n",
       "dtype: int64"
      ]
     },
     "execution_count": 572,
     "metadata": {},
     "output_type": "execute_result"
    }
   ],
   "source": [
    "df.isna().sum()"
   ]
  },
  {
   "cell_type": "code",
   "execution_count": 573,
   "metadata": {},
   "outputs": [
    {
     "data": {
      "text/plain": [
       "(674403, 39)"
      ]
     },
     "execution_count": 573,
     "metadata": {},
     "output_type": "execute_result"
    }
   ],
   "source": [
    "leaking_feature = ['ChgOffPrinGr', 'BalanceGross', 'DisbursementGross', 'DisbursementDate', 'ChgOffDate']\n",
    "useless_feature = ['Name', 'Zip']\n",
    "df = df.drop(leaking_feature, axis=1)\n",
    "df = df.drop(useless_feature, axis=1)\n",
    "df.shape"
   ]
  },
  {
   "cell_type": "code",
   "execution_count": 574,
   "metadata": {},
   "outputs": [
    {
     "name": "stdout",
     "output_type": "stream",
     "text": [
      "Le DataFrame a été converti avec succès en fichier CSV : ../Dataset/SBA_Cleaned_maybe.csv\n"
     ]
    }
   ],
   "source": [
    "folder_path = '../Dataset'\n",
    "\n",
    "# Convertir le DataFrame en fichier CSV\n",
    "df_to_csv(df, folder_path, 'SBA_Cleaned_maybe.csv')"
   ]
  },
  {
   "cell_type": "code",
   "execution_count": 575,
   "metadata": {},
   "outputs": [
    {
     "data": {
      "text/plain": [
       "(674403, 35)"
      ]
     },
     "execution_count": 575,
     "metadata": {},
     "output_type": "execute_result"
    }
   ],
   "source": [
    "maybe_leaking_feature = ['SBA_Appv', 'GrAppv', 'RetainedJob', 'CreateJob']\n",
    "df = df.drop(maybe_leaking_feature, axis=1)\n",
    "df.shape"
   ]
  },
  {
   "cell_type": "code",
   "execution_count": 576,
   "metadata": {},
   "outputs": [
    {
     "name": "stdout",
     "output_type": "stream",
     "text": [
      "Le DataFrame a été converti avec succès en fichier CSV : Dataset/SBA_Cleaned.csv\n"
     ]
    }
   ],
   "source": [
    "folder_path = 'Dataset'\n",
    "\n",
    "# Convertir le DataFrame en fichier CSV\n",
    "df_to_csv(df, folder_path, 'SBA_Cleaned.csv')"
   ]
  },
  {
   "cell_type": "code",
   "execution_count": 577,
   "metadata": {},
   "outputs": [],
   "source": [
    "y = df['Approve']\n",
    "X = df.drop('Approve', axis=1)"
   ]
  },
  {
   "cell_type": "code",
   "execution_count": 578,
   "metadata": {},
   "outputs": [
    {
     "data": {
      "text/plain": [
       "(674403, 35)"
      ]
     },
     "execution_count": 578,
     "metadata": {},
     "output_type": "execute_result"
    }
   ],
   "source": [
    "df.shape"
   ]
  }
 ],
 "metadata": {
  "kernelspec": {
   "display_name": "Python 3",
   "language": "python",
   "name": "python3"
  },
  "language_info": {
   "codemirror_mode": {
    "name": "ipython",
    "version": 3
   },
   "file_extension": ".py",
   "mimetype": "text/x-python",
   "name": "python",
   "nbconvert_exporter": "python",
   "pygments_lexer": "ipython3",
   "version": "3.10.12"
  }
 },
 "nbformat": 4,
 "nbformat_minor": 2
}
