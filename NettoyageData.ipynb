{
 "cells": [
  {
   "cell_type": "markdown",
   "metadata": {},
   "source": [
    "## Import des librairies"
   ]
  },
  {
   "cell_type": "code",
   "execution_count": 165,
   "metadata": {},
   "outputs": [],
   "source": [
    "import pandas as pd\n",
    "import numpy as np\n",
    "import gdown\n",
    "import os\n",
    "import shutil\n",
    "\n",
    "import seaborn as sns\n",
    "import matplotlib.pyplot as plt\n",
    "\n"
   ]
  },
  {
   "cell_type": "markdown",
   "metadata": {},
   "source": [
    "## Ajout du csv depuis le drive"
   ]
  },
  {
   "cell_type": "code",
   "execution_count": 166,
   "metadata": {},
   "outputs": [
    {
     "name": "stderr",
     "output_type": "stream",
     "text": [
      "/var/folders/f8/_srl45g93hb_f9bb62qtf1t80000gn/T/ipykernel_82685/3976298782.py:9: DtypeWarning: Columns (9) have mixed types. Specify dtype option on import or set low_memory=False.\n",
      "  df = pd.read_csv('DuplicateSBAnational.csv')\n"
     ]
    }
   ],
   "source": [
    "output = 'SBAnational.csv'\n",
    "\n",
    "if not os.path.isfile(output):\n",
    "    drive_url = 'https://drive.google.com/uc?id=1vdNaWcJgMzUnlaDVA4FuZRFYinO8UsPQ'\n",
    "    gdown.download(drive_url, output, quiet=False)\n",
    "\n",
    "shutil.copy(output, 'DuplicateSBAnational.csv')\n",
    "\n",
    "df = pd.read_csv('DuplicateSBAnational.csv')\n",
    "\n",
    "pd.set_option('display.max_rows', 100)"
   ]
  },
  {
   "cell_type": "code",
   "execution_count": 167,
   "metadata": {},
   "outputs": [
    {
     "data": {
      "text/html": [
       "<div>\n",
       "<style scoped>\n",
       "    .dataframe tbody tr th:only-of-type {\n",
       "        vertical-align: middle;\n",
       "    }\n",
       "\n",
       "    .dataframe tbody tr th {\n",
       "        vertical-align: top;\n",
       "    }\n",
       "\n",
       "    .dataframe thead th {\n",
       "        text-align: right;\n",
       "    }\n",
       "</style>\n",
       "<table border=\"1\" class=\"dataframe\">\n",
       "  <thead>\n",
       "    <tr style=\"text-align: right;\">\n",
       "      <th></th>\n",
       "      <th>LoanNr_ChkDgt</th>\n",
       "      <th>Name</th>\n",
       "      <th>City</th>\n",
       "      <th>State</th>\n",
       "      <th>Zip</th>\n",
       "      <th>Bank</th>\n",
       "      <th>BankState</th>\n",
       "      <th>NAICS</th>\n",
       "      <th>ApprovalDate</th>\n",
       "      <th>ApprovalFY</th>\n",
       "      <th>...</th>\n",
       "      <th>RevLineCr</th>\n",
       "      <th>LowDoc</th>\n",
       "      <th>ChgOffDate</th>\n",
       "      <th>DisbursementDate</th>\n",
       "      <th>DisbursementGross</th>\n",
       "      <th>BalanceGross</th>\n",
       "      <th>MIS_Status</th>\n",
       "      <th>ChgOffPrinGr</th>\n",
       "      <th>GrAppv</th>\n",
       "      <th>SBA_Appv</th>\n",
       "    </tr>\n",
       "  </thead>\n",
       "  <tbody>\n",
       "    <tr>\n",
       "      <th>0</th>\n",
       "      <td>1000014003</td>\n",
       "      <td>ABC HOBBYCRAFT</td>\n",
       "      <td>EVANSVILLE</td>\n",
       "      <td>IN</td>\n",
       "      <td>47711</td>\n",
       "      <td>FIFTH THIRD BANK</td>\n",
       "      <td>OH</td>\n",
       "      <td>451120</td>\n",
       "      <td>28-Feb-97</td>\n",
       "      <td>1997</td>\n",
       "      <td>...</td>\n",
       "      <td>N</td>\n",
       "      <td>Y</td>\n",
       "      <td>NaN</td>\n",
       "      <td>28-Feb-99</td>\n",
       "      <td>$60,000.00</td>\n",
       "      <td>$0.00</td>\n",
       "      <td>P I F</td>\n",
       "      <td>$0.00</td>\n",
       "      <td>$60,000.00</td>\n",
       "      <td>$48,000.00</td>\n",
       "    </tr>\n",
       "    <tr>\n",
       "      <th>1</th>\n",
       "      <td>1000024006</td>\n",
       "      <td>LANDMARK BAR &amp; GRILLE (THE)</td>\n",
       "      <td>NEW PARIS</td>\n",
       "      <td>IN</td>\n",
       "      <td>46526</td>\n",
       "      <td>1ST SOURCE BANK</td>\n",
       "      <td>IN</td>\n",
       "      <td>722410</td>\n",
       "      <td>28-Feb-97</td>\n",
       "      <td>1997</td>\n",
       "      <td>...</td>\n",
       "      <td>N</td>\n",
       "      <td>Y</td>\n",
       "      <td>NaN</td>\n",
       "      <td>31-May-97</td>\n",
       "      <td>$40,000.00</td>\n",
       "      <td>$0.00</td>\n",
       "      <td>P I F</td>\n",
       "      <td>$0.00</td>\n",
       "      <td>$40,000.00</td>\n",
       "      <td>$32,000.00</td>\n",
       "    </tr>\n",
       "    <tr>\n",
       "      <th>2</th>\n",
       "      <td>1000034009</td>\n",
       "      <td>WHITLOCK DDS, TODD M.</td>\n",
       "      <td>BLOOMINGTON</td>\n",
       "      <td>IN</td>\n",
       "      <td>47401</td>\n",
       "      <td>GRANT COUNTY STATE BANK</td>\n",
       "      <td>IN</td>\n",
       "      <td>621210</td>\n",
       "      <td>28-Feb-97</td>\n",
       "      <td>1997</td>\n",
       "      <td>...</td>\n",
       "      <td>N</td>\n",
       "      <td>N</td>\n",
       "      <td>NaN</td>\n",
       "      <td>31-Dec-97</td>\n",
       "      <td>$287,000.00</td>\n",
       "      <td>$0.00</td>\n",
       "      <td>P I F</td>\n",
       "      <td>$0.00</td>\n",
       "      <td>$287,000.00</td>\n",
       "      <td>$215,250.00</td>\n",
       "    </tr>\n",
       "    <tr>\n",
       "      <th>3</th>\n",
       "      <td>1000044001</td>\n",
       "      <td>BIG BUCKS PAWN &amp; JEWELRY, LLC</td>\n",
       "      <td>BROKEN ARROW</td>\n",
       "      <td>OK</td>\n",
       "      <td>74012</td>\n",
       "      <td>1ST NATL BK &amp; TR CO OF BROKEN</td>\n",
       "      <td>OK</td>\n",
       "      <td>0</td>\n",
       "      <td>28-Feb-97</td>\n",
       "      <td>1997</td>\n",
       "      <td>...</td>\n",
       "      <td>N</td>\n",
       "      <td>Y</td>\n",
       "      <td>NaN</td>\n",
       "      <td>30-Jun-97</td>\n",
       "      <td>$35,000.00</td>\n",
       "      <td>$0.00</td>\n",
       "      <td>P I F</td>\n",
       "      <td>$0.00</td>\n",
       "      <td>$35,000.00</td>\n",
       "      <td>$28,000.00</td>\n",
       "    </tr>\n",
       "    <tr>\n",
       "      <th>4</th>\n",
       "      <td>1000054004</td>\n",
       "      <td>ANASTASIA CONFECTIONS, INC.</td>\n",
       "      <td>ORLANDO</td>\n",
       "      <td>FL</td>\n",
       "      <td>32801</td>\n",
       "      <td>FLORIDA BUS. DEVEL CORP</td>\n",
       "      <td>FL</td>\n",
       "      <td>0</td>\n",
       "      <td>28-Feb-97</td>\n",
       "      <td>1997</td>\n",
       "      <td>...</td>\n",
       "      <td>N</td>\n",
       "      <td>N</td>\n",
       "      <td>NaN</td>\n",
       "      <td>14-May-97</td>\n",
       "      <td>$229,000.00</td>\n",
       "      <td>$0.00</td>\n",
       "      <td>P I F</td>\n",
       "      <td>$0.00</td>\n",
       "      <td>$229,000.00</td>\n",
       "      <td>$229,000.00</td>\n",
       "    </tr>\n",
       "  </tbody>\n",
       "</table>\n",
       "<p>5 rows × 27 columns</p>\n",
       "</div>"
      ],
      "text/plain": [
       "   LoanNr_ChkDgt                           Name          City State    Zip  \\\n",
       "0     1000014003                 ABC HOBBYCRAFT    EVANSVILLE    IN  47711   \n",
       "1     1000024006    LANDMARK BAR & GRILLE (THE)     NEW PARIS    IN  46526   \n",
       "2     1000034009          WHITLOCK DDS, TODD M.   BLOOMINGTON    IN  47401   \n",
       "3     1000044001  BIG BUCKS PAWN & JEWELRY, LLC  BROKEN ARROW    OK  74012   \n",
       "4     1000054004    ANASTASIA CONFECTIONS, INC.       ORLANDO    FL  32801   \n",
       "\n",
       "                            Bank BankState   NAICS ApprovalDate ApprovalFY  \\\n",
       "0               FIFTH THIRD BANK        OH  451120    28-Feb-97       1997   \n",
       "1                1ST SOURCE BANK        IN  722410    28-Feb-97       1997   \n",
       "2        GRANT COUNTY STATE BANK        IN  621210    28-Feb-97       1997   \n",
       "3  1ST NATL BK & TR CO OF BROKEN        OK       0    28-Feb-97       1997   \n",
       "4        FLORIDA BUS. DEVEL CORP        FL       0    28-Feb-97       1997   \n",
       "\n",
       "   ...  RevLineCr  LowDoc  ChgOffDate  DisbursementDate  DisbursementGross  \\\n",
       "0  ...          N       Y         NaN         28-Feb-99        $60,000.00    \n",
       "1  ...          N       Y         NaN         31-May-97        $40,000.00    \n",
       "2  ...          N       N         NaN         31-Dec-97       $287,000.00    \n",
       "3  ...          N       Y         NaN         30-Jun-97        $35,000.00    \n",
       "4  ...          N       N         NaN         14-May-97       $229,000.00    \n",
       "\n",
       "   BalanceGross  MIS_Status ChgOffPrinGr        GrAppv      SBA_Appv  \n",
       "0        $0.00        P I F       $0.00    $60,000.00    $48,000.00   \n",
       "1        $0.00        P I F       $0.00    $40,000.00    $32,000.00   \n",
       "2        $0.00        P I F       $0.00   $287,000.00   $215,250.00   \n",
       "3        $0.00        P I F       $0.00    $35,000.00    $28,000.00   \n",
       "4        $0.00        P I F       $0.00   $229,000.00   $229,000.00   \n",
       "\n",
       "[5 rows x 27 columns]"
      ]
     },
     "execution_count": 167,
     "metadata": {},
     "output_type": "execute_result"
    }
   ],
   "source": [
    "df.head()"
   ]
  },
  {
   "cell_type": "code",
   "execution_count": 168,
   "metadata": {},
   "outputs": [
    {
     "data": {
      "text/plain": [
       "LoanNr_ChkDgt          int64\n",
       "Name                  object\n",
       "City                  object\n",
       "State                 object\n",
       "Zip                    int64\n",
       "Bank                  object\n",
       "BankState             object\n",
       "NAICS                  int64\n",
       "ApprovalDate          object\n",
       "ApprovalFY            object\n",
       "Term                   int64\n",
       "NoEmp                  int64\n",
       "NewExist             float64\n",
       "CreateJob              int64\n",
       "RetainedJob            int64\n",
       "FranchiseCode          int64\n",
       "UrbanRural             int64\n",
       "RevLineCr             object\n",
       "LowDoc                object\n",
       "ChgOffDate            object\n",
       "DisbursementDate      object\n",
       "DisbursementGross     object\n",
       "BalanceGross          object\n",
       "MIS_Status            object\n",
       "ChgOffPrinGr          object\n",
       "GrAppv                object\n",
       "SBA_Appv              object\n",
       "dtype: object"
      ]
     },
     "execution_count": 168,
     "metadata": {},
     "output_type": "execute_result"
    }
   ],
   "source": [
    "df.dtypes"
   ]
  },
  {
   "cell_type": "markdown",
   "metadata": {},
   "source": [
    "## Regarder combien de valeurs sont manquantes"
   ]
  },
  {
   "cell_type": "code",
   "execution_count": 169,
   "metadata": {},
   "outputs": [
    {
     "data": {
      "text/plain": [
       "LoanNr_ChkDgt             0\n",
       "Name                     14\n",
       "City                     30\n",
       "State                    14\n",
       "Zip                       0\n",
       "Bank                   1559\n",
       "BankState              1566\n",
       "NAICS                     0\n",
       "ApprovalDate              0\n",
       "ApprovalFY                0\n",
       "Term                      0\n",
       "NoEmp                     0\n",
       "NewExist                136\n",
       "CreateJob                 0\n",
       "RetainedJob               0\n",
       "FranchiseCode             0\n",
       "UrbanRural                0\n",
       "RevLineCr              4528\n",
       "LowDoc                 2582\n",
       "ChgOffDate           736465\n",
       "DisbursementDate       2368\n",
       "DisbursementGross         0\n",
       "BalanceGross              0\n",
       "MIS_Status             1997\n",
       "ChgOffPrinGr              0\n",
       "GrAppv                    0\n",
       "SBA_Appv                  0\n",
       "dtype: int64"
      ]
     },
     "execution_count": 169,
     "metadata": {},
     "output_type": "execute_result"
    }
   ],
   "source": [
    "df.isnull().sum()"
   ]
  },
  {
   "cell_type": "code",
   "execution_count": 170,
   "metadata": {},
   "outputs": [],
   "source": [
    "df.dropna(subset=['Name','State','BankState','NewExist','RevLineCr','LowDoc','DisbursementDate'], inplace=True)"
   ]
  },
  {
   "cell_type": "markdown",
   "metadata": {},
   "source": [
    "## Vérifier les doublons identiques"
   ]
  },
  {
   "cell_type": "code",
   "execution_count": 171,
   "metadata": {},
   "outputs": [
    {
     "data": {
      "text/plain": [
       "0"
      ]
     },
     "execution_count": 171,
     "metadata": {},
     "output_type": "execute_result"
    }
   ],
   "source": [
    "df.duplicated().sum()"
   ]
  },
  {
   "cell_type": "markdown",
   "metadata": {},
   "source": [
    "## Vérifier si la variable RevLine a un rapport avec LowDoc"
   ]
  },
  {
   "cell_type": "code",
   "execution_count": 172,
   "metadata": {},
   "outputs": [
    {
     "data": {
      "text/html": [
       "<div>\n",
       "<style scoped>\n",
       "    .dataframe tbody tr th:only-of-type {\n",
       "        vertical-align: middle;\n",
       "    }\n",
       "\n",
       "    .dataframe tbody tr th {\n",
       "        vertical-align: top;\n",
       "    }\n",
       "\n",
       "    .dataframe thead th {\n",
       "        text-align: right;\n",
       "    }\n",
       "</style>\n",
       "<table border=\"1\" class=\"dataframe\">\n",
       "  <thead>\n",
       "    <tr style=\"text-align: right;\">\n",
       "      <th></th>\n",
       "      <th>LoanNr_ChkDgt</th>\n",
       "      <th>Name</th>\n",
       "      <th>City</th>\n",
       "      <th>State</th>\n",
       "      <th>Zip</th>\n",
       "      <th>Bank</th>\n",
       "      <th>BankState</th>\n",
       "      <th>NAICS</th>\n",
       "      <th>ApprovalDate</th>\n",
       "      <th>ApprovalFY</th>\n",
       "      <th>...</th>\n",
       "      <th>RevLineCr</th>\n",
       "      <th>LowDoc</th>\n",
       "      <th>ChgOffDate</th>\n",
       "      <th>DisbursementDate</th>\n",
       "      <th>DisbursementGross</th>\n",
       "      <th>BalanceGross</th>\n",
       "      <th>MIS_Status</th>\n",
       "      <th>ChgOffPrinGr</th>\n",
       "      <th>GrAppv</th>\n",
       "      <th>SBA_Appv</th>\n",
       "    </tr>\n",
       "  </thead>\n",
       "  <tbody>\n",
       "    <tr>\n",
       "      <th>325</th>\n",
       "      <td>1002464002</td>\n",
       "      <td>LIFE RAFT AND SURVIVAL EQUIPME</td>\n",
       "      <td>PORTSMOUTH</td>\n",
       "      <td>RI</td>\n",
       "      <td>2871</td>\n",
       "      <td>CITIZENS BANK NATL ASSOC</td>\n",
       "      <td>RI</td>\n",
       "      <td>0</td>\n",
       "      <td>28-Feb-97</td>\n",
       "      <td>1997</td>\n",
       "      <td>...</td>\n",
       "      <td>T</td>\n",
       "      <td>N</td>\n",
       "      <td>NaN</td>\n",
       "      <td>30-Jun-97</td>\n",
       "      <td>$50,000.00</td>\n",
       "      <td>$0.00</td>\n",
       "      <td>P I F</td>\n",
       "      <td>$0.00</td>\n",
       "      <td>$50,000.00</td>\n",
       "      <td>$25,000.00</td>\n",
       "    </tr>\n",
       "    <tr>\n",
       "      <th>362</th>\n",
       "      <td>1002745010</td>\n",
       "      <td>Osmun Music, Inc.</td>\n",
       "      <td>Arlington (Town of)</td>\n",
       "      <td>MA</td>\n",
       "      <td>2174</td>\n",
       "      <td>BANK OF AMERICA NATL ASSOC</td>\n",
       "      <td>NC</td>\n",
       "      <td>451140</td>\n",
       "      <td>2-Jun-98</td>\n",
       "      <td>1998</td>\n",
       "      <td>...</td>\n",
       "      <td>T</td>\n",
       "      <td>N</td>\n",
       "      <td>NaN</td>\n",
       "      <td>31-Jul-98</td>\n",
       "      <td>$50,000.00</td>\n",
       "      <td>$0.00</td>\n",
       "      <td>P I F</td>\n",
       "      <td>$0.00</td>\n",
       "      <td>$25,000.00</td>\n",
       "      <td>$12,500.00</td>\n",
       "    </tr>\n",
       "    <tr>\n",
       "      <th>402</th>\n",
       "      <td>1003076008</td>\n",
       "      <td>MORI ENTERPRISES INC</td>\n",
       "      <td>CLEVELAND</td>\n",
       "      <td>MO</td>\n",
       "      <td>64734</td>\n",
       "      <td>COMMERCE BANK</td>\n",
       "      <td>MO</td>\n",
       "      <td>238990</td>\n",
       "      <td>7-Feb-06</td>\n",
       "      <td>2006</td>\n",
       "      <td>...</td>\n",
       "      <td>T</td>\n",
       "      <td>N</td>\n",
       "      <td>NaN</td>\n",
       "      <td>30-Jun-08</td>\n",
       "      <td>$40,254.00</td>\n",
       "      <td>$0.00</td>\n",
       "      <td>P I F</td>\n",
       "      <td>$0.00</td>\n",
       "      <td>$25,000.00</td>\n",
       "      <td>$12,500.00</td>\n",
       "    </tr>\n",
       "    <tr>\n",
       "      <th>427</th>\n",
       "      <td>1003256003</td>\n",
       "      <td>DIMENSIONS</td>\n",
       "      <td>OCEAN CITY</td>\n",
       "      <td>MD</td>\n",
       "      <td>21842</td>\n",
       "      <td>PNC BANK, NATIONAL ASSOCIATION</td>\n",
       "      <td>DE</td>\n",
       "      <td>451110</td>\n",
       "      <td>7-Feb-06</td>\n",
       "      <td>2006</td>\n",
       "      <td>...</td>\n",
       "      <td>T</td>\n",
       "      <td>N</td>\n",
       "      <td>25-Jun-08</td>\n",
       "      <td>28-Feb-06</td>\n",
       "      <td>$20,000.00</td>\n",
       "      <td>$0.00</td>\n",
       "      <td>CHGOFF</td>\n",
       "      <td>$20,000.00</td>\n",
       "      <td>$20,000.00</td>\n",
       "      <td>$10,000.00</td>\n",
       "    </tr>\n",
       "    <tr>\n",
       "      <th>738</th>\n",
       "      <td>1005264007</td>\n",
       "      <td>AMERICAN CERTIFIED HOME INSPEC</td>\n",
       "      <td>BOISE</td>\n",
       "      <td>ID</td>\n",
       "      <td>83703</td>\n",
       "      <td>WELLS FARGO BANK NATL ASSOC</td>\n",
       "      <td>SD</td>\n",
       "      <td>0</td>\n",
       "      <td>3-Mar-97</td>\n",
       "      <td>1997</td>\n",
       "      <td>...</td>\n",
       "      <td>T</td>\n",
       "      <td>N</td>\n",
       "      <td>NaN</td>\n",
       "      <td>30-Apr-00</td>\n",
       "      <td>$2,585.00</td>\n",
       "      <td>$0.00</td>\n",
       "      <td>NaN</td>\n",
       "      <td>$0.00</td>\n",
       "      <td>$10,000.00</td>\n",
       "      <td>$5,000.00</td>\n",
       "    </tr>\n",
       "    <tr>\n",
       "      <th>...</th>\n",
       "      <td>...</td>\n",
       "      <td>...</td>\n",
       "      <td>...</td>\n",
       "      <td>...</td>\n",
       "      <td>...</td>\n",
       "      <td>...</td>\n",
       "      <td>...</td>\n",
       "      <td>...</td>\n",
       "      <td>...</td>\n",
       "      <td>...</td>\n",
       "      <td>...</td>\n",
       "      <td>...</td>\n",
       "      <td>...</td>\n",
       "      <td>...</td>\n",
       "      <td>...</td>\n",
       "      <td>...</td>\n",
       "      <td>...</td>\n",
       "      <td>...</td>\n",
       "      <td>...</td>\n",
       "      <td>...</td>\n",
       "      <td>...</td>\n",
       "    </tr>\n",
       "    <tr>\n",
       "      <th>899073</th>\n",
       "      <td>9993953007</td>\n",
       "      <td>VAN EATON GALLERIES</td>\n",
       "      <td>SHERMAN OAKS</td>\n",
       "      <td>CA</td>\n",
       "      <td>91423</td>\n",
       "      <td>WELLS FARGO BANK NATL ASSOC</td>\n",
       "      <td>SD</td>\n",
       "      <td>0</td>\n",
       "      <td>27-Feb-97</td>\n",
       "      <td>1997</td>\n",
       "      <td>...</td>\n",
       "      <td>T</td>\n",
       "      <td>N</td>\n",
       "      <td>NaN</td>\n",
       "      <td>30-Jun-97</td>\n",
       "      <td>$25,000.00</td>\n",
       "      <td>$0.00</td>\n",
       "      <td>P I F</td>\n",
       "      <td>$0.00</td>\n",
       "      <td>$25,000.00</td>\n",
       "      <td>$12,500.00</td>\n",
       "    </tr>\n",
       "    <tr>\n",
       "      <th>899126</th>\n",
       "      <td>9994983007</td>\n",
       "      <td>SPIRES CARPET OUTLET, INC.</td>\n",
       "      <td>WAYCROSS</td>\n",
       "      <td>GA</td>\n",
       "      <td>31503</td>\n",
       "      <td>WELLS FARGO BANK NATL ASSOC</td>\n",
       "      <td>SD</td>\n",
       "      <td>442210</td>\n",
       "      <td>27-Feb-97</td>\n",
       "      <td>1997</td>\n",
       "      <td>...</td>\n",
       "      <td>T</td>\n",
       "      <td>N</td>\n",
       "      <td>NaN</td>\n",
       "      <td>31-Mar-97</td>\n",
       "      <td>$25,000.00</td>\n",
       "      <td>$0.00</td>\n",
       "      <td>P I F</td>\n",
       "      <td>$0.00</td>\n",
       "      <td>$25,000.00</td>\n",
       "      <td>$12,500.00</td>\n",
       "    </tr>\n",
       "    <tr>\n",
       "      <th>899129</th>\n",
       "      <td>9995013000</td>\n",
       "      <td>SOUTHERN COMMUNICATION CORP</td>\n",
       "      <td>BEAVER</td>\n",
       "      <td>WV</td>\n",
       "      <td>25813</td>\n",
       "      <td>WELLS FARGO BANK NATL ASSOC</td>\n",
       "      <td>SD</td>\n",
       "      <td>0</td>\n",
       "      <td>27-Feb-97</td>\n",
       "      <td>1997</td>\n",
       "      <td>...</td>\n",
       "      <td>T</td>\n",
       "      <td>N</td>\n",
       "      <td>NaN</td>\n",
       "      <td>31-Mar-97</td>\n",
       "      <td>$25,000.00</td>\n",
       "      <td>$0.00</td>\n",
       "      <td>P I F</td>\n",
       "      <td>$0.00</td>\n",
       "      <td>$25,000.00</td>\n",
       "      <td>$12,500.00</td>\n",
       "    </tr>\n",
       "    <tr>\n",
       "      <th>899134</th>\n",
       "      <td>9995083010</td>\n",
       "      <td>RUSHING'S GROCERY</td>\n",
       "      <td>LAURINBURG</td>\n",
       "      <td>NC</td>\n",
       "      <td>28352</td>\n",
       "      <td>WELLS FARGO BANK NATL ASSOC</td>\n",
       "      <td>SD</td>\n",
       "      <td>0</td>\n",
       "      <td>27-Feb-97</td>\n",
       "      <td>1997</td>\n",
       "      <td>...</td>\n",
       "      <td>T</td>\n",
       "      <td>N</td>\n",
       "      <td>NaN</td>\n",
       "      <td>31-Mar-97</td>\n",
       "      <td>$25,455.00</td>\n",
       "      <td>$0.00</td>\n",
       "      <td>P I F</td>\n",
       "      <td>$0.00</td>\n",
       "      <td>$20,000.00</td>\n",
       "      <td>$10,000.00</td>\n",
       "    </tr>\n",
       "    <tr>\n",
       "      <th>899144</th>\n",
       "      <td>9995223004</td>\n",
       "      <td>THE CHESAPEAKE GROUP, INC.</td>\n",
       "      <td>BALTIMORE</td>\n",
       "      <td>MD</td>\n",
       "      <td>21244</td>\n",
       "      <td>WELLS FARGO BANK NATL ASSOC</td>\n",
       "      <td>SD</td>\n",
       "      <td>0</td>\n",
       "      <td>27-Feb-97</td>\n",
       "      <td>1997</td>\n",
       "      <td>...</td>\n",
       "      <td>T</td>\n",
       "      <td>N</td>\n",
       "      <td>NaN</td>\n",
       "      <td>31-Mar-97</td>\n",
       "      <td>$25,000.00</td>\n",
       "      <td>$0.00</td>\n",
       "      <td>P I F</td>\n",
       "      <td>$0.00</td>\n",
       "      <td>$25,000.00</td>\n",
       "      <td>$12,500.00</td>\n",
       "    </tr>\n",
       "  </tbody>\n",
       "</table>\n",
       "<p>15148 rows × 27 columns</p>\n",
       "</div>"
      ],
      "text/plain": [
       "        LoanNr_ChkDgt                            Name                 City  \\\n",
       "325        1002464002  LIFE RAFT AND SURVIVAL EQUIPME           PORTSMOUTH   \n",
       "362        1002745010               Osmun Music, Inc.  Arlington (Town of)   \n",
       "402        1003076008            MORI ENTERPRISES INC            CLEVELAND   \n",
       "427        1003256003                      DIMENSIONS           OCEAN CITY   \n",
       "738        1005264007  AMERICAN CERTIFIED HOME INSPEC                BOISE   \n",
       "...               ...                             ...                  ...   \n",
       "899073     9993953007             VAN EATON GALLERIES         SHERMAN OAKS   \n",
       "899126     9994983007      SPIRES CARPET OUTLET, INC.             WAYCROSS   \n",
       "899129     9995013000     SOUTHERN COMMUNICATION CORP               BEAVER   \n",
       "899134     9995083010               RUSHING'S GROCERY           LAURINBURG   \n",
       "899144     9995223004      THE CHESAPEAKE GROUP, INC.            BALTIMORE   \n",
       "\n",
       "       State    Zip                            Bank BankState   NAICS  \\\n",
       "325       RI   2871        CITIZENS BANK NATL ASSOC        RI       0   \n",
       "362       MA   2174      BANK OF AMERICA NATL ASSOC        NC  451140   \n",
       "402       MO  64734                   COMMERCE BANK        MO  238990   \n",
       "427       MD  21842  PNC BANK, NATIONAL ASSOCIATION        DE  451110   \n",
       "738       ID  83703     WELLS FARGO BANK NATL ASSOC        SD       0   \n",
       "...      ...    ...                             ...       ...     ...   \n",
       "899073    CA  91423     WELLS FARGO BANK NATL ASSOC        SD       0   \n",
       "899126    GA  31503     WELLS FARGO BANK NATL ASSOC        SD  442210   \n",
       "899129    WV  25813     WELLS FARGO BANK NATL ASSOC        SD       0   \n",
       "899134    NC  28352     WELLS FARGO BANK NATL ASSOC        SD       0   \n",
       "899144    MD  21244     WELLS FARGO BANK NATL ASSOC        SD       0   \n",
       "\n",
       "       ApprovalDate ApprovalFY  ...  RevLineCr  LowDoc  ChgOffDate  \\\n",
       "325       28-Feb-97       1997  ...          T       N         NaN   \n",
       "362        2-Jun-98       1998  ...          T       N         NaN   \n",
       "402        7-Feb-06       2006  ...          T       N         NaN   \n",
       "427        7-Feb-06       2006  ...          T       N   25-Jun-08   \n",
       "738        3-Mar-97       1997  ...          T       N         NaN   \n",
       "...             ...        ...  ...        ...     ...         ...   \n",
       "899073    27-Feb-97       1997  ...          T       N         NaN   \n",
       "899126    27-Feb-97       1997  ...          T       N         NaN   \n",
       "899129    27-Feb-97       1997  ...          T       N         NaN   \n",
       "899134    27-Feb-97       1997  ...          T       N         NaN   \n",
       "899144    27-Feb-97       1997  ...          T       N         NaN   \n",
       "\n",
       "        DisbursementDate  DisbursementGross  BalanceGross  MIS_Status  \\\n",
       "325            30-Jun-97        $50,000.00         $0.00        P I F   \n",
       "362            31-Jul-98        $50,000.00         $0.00        P I F   \n",
       "402            30-Jun-08        $40,254.00         $0.00        P I F   \n",
       "427            28-Feb-06        $20,000.00         $0.00       CHGOFF   \n",
       "738            30-Apr-00         $2,585.00         $0.00          NaN   \n",
       "...                  ...                ...           ...         ...   \n",
       "899073         30-Jun-97        $25,000.00         $0.00        P I F   \n",
       "899126         31-Mar-97        $25,000.00         $0.00        P I F   \n",
       "899129         31-Mar-97        $25,000.00         $0.00        P I F   \n",
       "899134         31-Mar-97        $25,455.00         $0.00        P I F   \n",
       "899144         31-Mar-97        $25,000.00         $0.00        P I F   \n",
       "\n",
       "       ChgOffPrinGr       GrAppv     SBA_Appv  \n",
       "325          $0.00   $50,000.00   $25,000.00   \n",
       "362          $0.00   $25,000.00   $12,500.00   \n",
       "402          $0.00   $25,000.00   $12,500.00   \n",
       "427     $20,000.00   $20,000.00   $10,000.00   \n",
       "738          $0.00   $10,000.00    $5,000.00   \n",
       "...             ...          ...          ...  \n",
       "899073       $0.00   $25,000.00   $12,500.00   \n",
       "899126       $0.00   $25,000.00   $12,500.00   \n",
       "899129       $0.00   $25,000.00   $12,500.00   \n",
       "899134       $0.00   $20,000.00   $10,000.00   \n",
       "899144       $0.00   $25,000.00   $12,500.00   \n",
       "\n",
       "[15148 rows x 27 columns]"
      ]
     },
     "metadata": {},
     "output_type": "display_data"
    },
    {
     "data": {
      "text/html": [
       "<div>\n",
       "<style scoped>\n",
       "    .dataframe tbody tr th:only-of-type {\n",
       "        vertical-align: middle;\n",
       "    }\n",
       "\n",
       "    .dataframe tbody tr th {\n",
       "        vertical-align: top;\n",
       "    }\n",
       "\n",
       "    .dataframe thead th {\n",
       "        text-align: right;\n",
       "    }\n",
       "</style>\n",
       "<table border=\"1\" class=\"dataframe\">\n",
       "  <thead>\n",
       "    <tr style=\"text-align: right;\">\n",
       "      <th></th>\n",
       "      <th>LoanNr_ChkDgt</th>\n",
       "      <th>Name</th>\n",
       "      <th>City</th>\n",
       "      <th>State</th>\n",
       "      <th>Zip</th>\n",
       "      <th>Bank</th>\n",
       "      <th>BankState</th>\n",
       "      <th>NAICS</th>\n",
       "      <th>ApprovalDate</th>\n",
       "      <th>ApprovalFY</th>\n",
       "      <th>...</th>\n",
       "      <th>RevLineCr</th>\n",
       "      <th>LowDoc</th>\n",
       "      <th>ChgOffDate</th>\n",
       "      <th>DisbursementDate</th>\n",
       "      <th>DisbursementGross</th>\n",
       "      <th>BalanceGross</th>\n",
       "      <th>MIS_Status</th>\n",
       "      <th>ChgOffPrinGr</th>\n",
       "      <th>GrAppv</th>\n",
       "      <th>SBA_Appv</th>\n",
       "    </tr>\n",
       "  </thead>\n",
       "  <tbody>\n",
       "    <tr>\n",
       "      <th>28</th>\n",
       "      <td>1000506000</td>\n",
       "      <td>WEYLAND CORPORATION</td>\n",
       "      <td>CAMARILLO</td>\n",
       "      <td>CA</td>\n",
       "      <td>93010</td>\n",
       "      <td>WELLS FARGO BANK NATL ASSOC</td>\n",
       "      <td>SD</td>\n",
       "      <td>611110</td>\n",
       "      <td>7-Feb-06</td>\n",
       "      <td>2006</td>\n",
       "      <td>...</td>\n",
       "      <td>Y</td>\n",
       "      <td>N</td>\n",
       "      <td>NaN</td>\n",
       "      <td>28-Feb-06</td>\n",
       "      <td>$438,541.00</td>\n",
       "      <td>$0.00</td>\n",
       "      <td>P I F</td>\n",
       "      <td>$0.00</td>\n",
       "      <td>$100,000.00</td>\n",
       "      <td>$50,000.00</td>\n",
       "    </tr>\n",
       "    <tr>\n",
       "      <th>30</th>\n",
       "      <td>1000516003</td>\n",
       "      <td>CHICAGO BRICK UNLIMITED INC</td>\n",
       "      <td>MIAMI</td>\n",
       "      <td>FL</td>\n",
       "      <td>33186</td>\n",
       "      <td>CITIBANK, N.A.</td>\n",
       "      <td>FL</td>\n",
       "      <td>238140</td>\n",
       "      <td>7-Feb-06</td>\n",
       "      <td>2006</td>\n",
       "      <td>...</td>\n",
       "      <td>Y</td>\n",
       "      <td>N</td>\n",
       "      <td>NaN</td>\n",
       "      <td>28-Feb-06</td>\n",
       "      <td>$51,440.00</td>\n",
       "      <td>$0.00</td>\n",
       "      <td>P I F</td>\n",
       "      <td>$0.00</td>\n",
       "      <td>$35,000.00</td>\n",
       "      <td>$17,500.00</td>\n",
       "    </tr>\n",
       "    <tr>\n",
       "      <th>34</th>\n",
       "      <td>1000536009</td>\n",
       "      <td>HUTMACHER HOLDINGS INC</td>\n",
       "      <td>LEANDER</td>\n",
       "      <td>TX</td>\n",
       "      <td>78641</td>\n",
       "      <td>WELLS FARGO BANK NATL ASSOC</td>\n",
       "      <td>SD</td>\n",
       "      <td>541611</td>\n",
       "      <td>7-Feb-06</td>\n",
       "      <td>2006</td>\n",
       "      <td>...</td>\n",
       "      <td>Y</td>\n",
       "      <td>N</td>\n",
       "      <td>NaN</td>\n",
       "      <td>31-May-06</td>\n",
       "      <td>$63,076.00</td>\n",
       "      <td>$0.00</td>\n",
       "      <td>P I F</td>\n",
       "      <td>$0.00</td>\n",
       "      <td>$25,000.00</td>\n",
       "      <td>$12,500.00</td>\n",
       "    </tr>\n",
       "    <tr>\n",
       "      <th>43</th>\n",
       "      <td>1000653000</td>\n",
       "      <td>LARRY SCHOETTMER FORD INC</td>\n",
       "      <td>EDINBURGH</td>\n",
       "      <td>IN</td>\n",
       "      <td>46124</td>\n",
       "      <td>JPMORGAN CHASE BANK NATL ASSOC</td>\n",
       "      <td>IN</td>\n",
       "      <td>0</td>\n",
       "      <td>11-Jun-80</td>\n",
       "      <td>1980</td>\n",
       "      <td>...</td>\n",
       "      <td>Y</td>\n",
       "      <td>N</td>\n",
       "      <td>4-Oct-89</td>\n",
       "      <td>31-Jul-80</td>\n",
       "      <td>$197,485.00</td>\n",
       "      <td>$0.00</td>\n",
       "      <td>CHGOFF</td>\n",
       "      <td>$44,374.00</td>\n",
       "      <td>$200,000.00</td>\n",
       "      <td>$150,000.00</td>\n",
       "    </tr>\n",
       "    <tr>\n",
       "      <th>48</th>\n",
       "      <td>1000685001</td>\n",
       "      <td>ANYWHERE SPORTS PRODUCTIONS</td>\n",
       "      <td>Marina del Ray</td>\n",
       "      <td>CA</td>\n",
       "      <td>90292</td>\n",
       "      <td>WELLS FARGO BANK NATL ASSOC</td>\n",
       "      <td>SD</td>\n",
       "      <td>0</td>\n",
       "      <td>25-Mar-97</td>\n",
       "      <td>1997</td>\n",
       "      <td>...</td>\n",
       "      <td>Y</td>\n",
       "      <td>N</td>\n",
       "      <td>NaN</td>\n",
       "      <td>31-Oct-97</td>\n",
       "      <td>$30,570.00</td>\n",
       "      <td>$0.00</td>\n",
       "      <td>P I F</td>\n",
       "      <td>$0.00</td>\n",
       "      <td>$25,000.00</td>\n",
       "      <td>$12,500.00</td>\n",
       "    </tr>\n",
       "    <tr>\n",
       "      <th>...</th>\n",
       "      <td>...</td>\n",
       "      <td>...</td>\n",
       "      <td>...</td>\n",
       "      <td>...</td>\n",
       "      <td>...</td>\n",
       "      <td>...</td>\n",
       "      <td>...</td>\n",
       "      <td>...</td>\n",
       "      <td>...</td>\n",
       "      <td>...</td>\n",
       "      <td>...</td>\n",
       "      <td>...</td>\n",
       "      <td>...</td>\n",
       "      <td>...</td>\n",
       "      <td>...</td>\n",
       "      <td>...</td>\n",
       "      <td>...</td>\n",
       "      <td>...</td>\n",
       "      <td>...</td>\n",
       "      <td>...</td>\n",
       "      <td>...</td>\n",
       "    </tr>\n",
       "    <tr>\n",
       "      <th>899076</th>\n",
       "      <td>9994003006</td>\n",
       "      <td>FIVE STAR ELECTRIC, INC.</td>\n",
       "      <td>PHILADELPHIA</td>\n",
       "      <td>PA</td>\n",
       "      <td>19145</td>\n",
       "      <td>WELLS FARGO BANK NATL ASSOC</td>\n",
       "      <td>PA</td>\n",
       "      <td>235310</td>\n",
       "      <td>27-Feb-97</td>\n",
       "      <td>1997</td>\n",
       "      <td>...</td>\n",
       "      <td>Y</td>\n",
       "      <td>N</td>\n",
       "      <td>NaN</td>\n",
       "      <td>30-Apr-01</td>\n",
       "      <td>$30,000.00</td>\n",
       "      <td>$0.00</td>\n",
       "      <td>P I F</td>\n",
       "      <td>$0.00</td>\n",
       "      <td>$30,000.00</td>\n",
       "      <td>$15,000.00</td>\n",
       "    </tr>\n",
       "    <tr>\n",
       "      <th>899101</th>\n",
       "      <td>9994503003</td>\n",
       "      <td>WARPED &amp; REAL PROUD, INC.</td>\n",
       "      <td>SEATTLE</td>\n",
       "      <td>WA</td>\n",
       "      <td>98109</td>\n",
       "      <td>BANK OF AMERICA NATL ASSOC</td>\n",
       "      <td>WA</td>\n",
       "      <td>314912</td>\n",
       "      <td>27-Feb-97</td>\n",
       "      <td>1997</td>\n",
       "      <td>...</td>\n",
       "      <td>Y</td>\n",
       "      <td>N</td>\n",
       "      <td>NaN</td>\n",
       "      <td>31-Dec-97</td>\n",
       "      <td>$75,000.00</td>\n",
       "      <td>$0.00</td>\n",
       "      <td>P I F</td>\n",
       "      <td>$0.00</td>\n",
       "      <td>$75,000.00</td>\n",
       "      <td>$37,500.00</td>\n",
       "    </tr>\n",
       "    <tr>\n",
       "      <th>899145</th>\n",
       "      <td>9995233007</td>\n",
       "      <td>M L B CONSTRUCTION, INC.</td>\n",
       "      <td>ELLICOTT</td>\n",
       "      <td>MD</td>\n",
       "      <td>21043</td>\n",
       "      <td>WELLS FARGO BANK NATL ASSOC</td>\n",
       "      <td>CA</td>\n",
       "      <td>233210</td>\n",
       "      <td>27-Feb-97</td>\n",
       "      <td>1997</td>\n",
       "      <td>...</td>\n",
       "      <td>Y</td>\n",
       "      <td>N</td>\n",
       "      <td>NaN</td>\n",
       "      <td>31-Mar-97</td>\n",
       "      <td>$25,000.00</td>\n",
       "      <td>$0.00</td>\n",
       "      <td>P I F</td>\n",
       "      <td>$0.00</td>\n",
       "      <td>$25,000.00</td>\n",
       "      <td>$12,500.00</td>\n",
       "    </tr>\n",
       "    <tr>\n",
       "      <th>899151</th>\n",
       "      <td>9995393009</td>\n",
       "      <td>FUTURE CONTRACTING SERVICES, I</td>\n",
       "      <td>DALLAS</td>\n",
       "      <td>PA</td>\n",
       "      <td>18612</td>\n",
       "      <td>PNC BANK, NATIONAL ASSOCIATION</td>\n",
       "      <td>PA</td>\n",
       "      <td>0</td>\n",
       "      <td>27-Feb-97</td>\n",
       "      <td>1997</td>\n",
       "      <td>...</td>\n",
       "      <td>Y</td>\n",
       "      <td>N</td>\n",
       "      <td>NaN</td>\n",
       "      <td>31-Oct-00</td>\n",
       "      <td>$80,000.00</td>\n",
       "      <td>$0.00</td>\n",
       "      <td>P I F</td>\n",
       "      <td>$0.00</td>\n",
       "      <td>$80,000.00</td>\n",
       "      <td>$40,000.00</td>\n",
       "    </tr>\n",
       "    <tr>\n",
       "      <th>899160</th>\n",
       "      <td>9995603000</td>\n",
       "      <td>FABRIC FARMS</td>\n",
       "      <td>COLUMBUS</td>\n",
       "      <td>OH</td>\n",
       "      <td>43221</td>\n",
       "      <td>JPMORGAN CHASE BANK NATL ASSOC</td>\n",
       "      <td>IL</td>\n",
       "      <td>451130</td>\n",
       "      <td>27-Feb-97</td>\n",
       "      <td>1997</td>\n",
       "      <td>...</td>\n",
       "      <td>Y</td>\n",
       "      <td>N</td>\n",
       "      <td>NaN</td>\n",
       "      <td>31-Oct-97</td>\n",
       "      <td>$85,000.00</td>\n",
       "      <td>$0.00</td>\n",
       "      <td>P I F</td>\n",
       "      <td>$0.00</td>\n",
       "      <td>$85,000.00</td>\n",
       "      <td>$42,500.00</td>\n",
       "    </tr>\n",
       "  </tbody>\n",
       "</table>\n",
       "<p>198962 rows × 27 columns</p>\n",
       "</div>"
      ],
      "text/plain": [
       "        LoanNr_ChkDgt                            Name            City State  \\\n",
       "28         1000506000             WEYLAND CORPORATION       CAMARILLO    CA   \n",
       "30         1000516003     CHICAGO BRICK UNLIMITED INC           MIAMI    FL   \n",
       "34         1000536009          HUTMACHER HOLDINGS INC         LEANDER    TX   \n",
       "43         1000653000       LARRY SCHOETTMER FORD INC       EDINBURGH    IN   \n",
       "48         1000685001     ANYWHERE SPORTS PRODUCTIONS  Marina del Ray    CA   \n",
       "...               ...                             ...             ...   ...   \n",
       "899076     9994003006        FIVE STAR ELECTRIC, INC.    PHILADELPHIA    PA   \n",
       "899101     9994503003       WARPED & REAL PROUD, INC.         SEATTLE    WA   \n",
       "899145     9995233007        M L B CONSTRUCTION, INC.        ELLICOTT    MD   \n",
       "899151     9995393009  FUTURE CONTRACTING SERVICES, I          DALLAS    PA   \n",
       "899160     9995603000                    FABRIC FARMS        COLUMBUS    OH   \n",
       "\n",
       "          Zip                            Bank BankState   NAICS ApprovalDate  \\\n",
       "28      93010     WELLS FARGO BANK NATL ASSOC        SD  611110     7-Feb-06   \n",
       "30      33186                  CITIBANK, N.A.        FL  238140     7-Feb-06   \n",
       "34      78641     WELLS FARGO BANK NATL ASSOC        SD  541611     7-Feb-06   \n",
       "43      46124  JPMORGAN CHASE BANK NATL ASSOC        IN       0    11-Jun-80   \n",
       "48      90292     WELLS FARGO BANK NATL ASSOC        SD       0    25-Mar-97   \n",
       "...       ...                             ...       ...     ...          ...   \n",
       "899076  19145     WELLS FARGO BANK NATL ASSOC        PA  235310    27-Feb-97   \n",
       "899101  98109      BANK OF AMERICA NATL ASSOC        WA  314912    27-Feb-97   \n",
       "899145  21043     WELLS FARGO BANK NATL ASSOC        CA  233210    27-Feb-97   \n",
       "899151  18612  PNC BANK, NATIONAL ASSOCIATION        PA       0    27-Feb-97   \n",
       "899160  43221  JPMORGAN CHASE BANK NATL ASSOC        IL  451130    27-Feb-97   \n",
       "\n",
       "       ApprovalFY  ...  RevLineCr  LowDoc  ChgOffDate  DisbursementDate  \\\n",
       "28           2006  ...          Y       N         NaN         28-Feb-06   \n",
       "30           2006  ...          Y       N         NaN         28-Feb-06   \n",
       "34           2006  ...          Y       N         NaN         31-May-06   \n",
       "43           1980  ...          Y       N    4-Oct-89         31-Jul-80   \n",
       "48           1997  ...          Y       N         NaN         31-Oct-97   \n",
       "...           ...  ...        ...     ...         ...               ...   \n",
       "899076       1997  ...          Y       N         NaN         30-Apr-01   \n",
       "899101       1997  ...          Y       N         NaN         31-Dec-97   \n",
       "899145       1997  ...          Y       N         NaN         31-Mar-97   \n",
       "899151       1997  ...          Y       N         NaN         31-Oct-00   \n",
       "899160       1997  ...          Y       N         NaN         31-Oct-97   \n",
       "\n",
       "        DisbursementGross  BalanceGross  MIS_Status ChgOffPrinGr  \\\n",
       "28           $438,541.00         $0.00        P I F       $0.00    \n",
       "30            $51,440.00         $0.00        P I F       $0.00    \n",
       "34            $63,076.00         $0.00        P I F       $0.00    \n",
       "43           $197,485.00         $0.00       CHGOFF  $44,374.00    \n",
       "48            $30,570.00         $0.00        P I F       $0.00    \n",
       "...                   ...           ...         ...          ...   \n",
       "899076        $30,000.00         $0.00        P I F       $0.00    \n",
       "899101        $75,000.00         $0.00        P I F       $0.00    \n",
       "899145        $25,000.00         $0.00        P I F       $0.00    \n",
       "899151        $80,000.00         $0.00        P I F       $0.00    \n",
       "899160        $85,000.00         $0.00        P I F       $0.00    \n",
       "\n",
       "              GrAppv      SBA_Appv  \n",
       "28      $100,000.00    $50,000.00   \n",
       "30       $35,000.00    $17,500.00   \n",
       "34       $25,000.00    $12,500.00   \n",
       "43      $200,000.00   $150,000.00   \n",
       "48       $25,000.00    $12,500.00   \n",
       "...              ...           ...  \n",
       "899076   $30,000.00    $15,000.00   \n",
       "899101   $75,000.00    $37,500.00   \n",
       "899145   $25,000.00    $12,500.00   \n",
       "899151   $80,000.00    $40,000.00   \n",
       "899160   $85,000.00    $42,500.00   \n",
       "\n",
       "[198962 rows x 27 columns]"
      ]
     },
     "metadata": {},
     "output_type": "display_data"
    }
   ],
   "source": [
    "lignes_T = df[df['RevLineCr'] == 'T']\n",
    "\n",
    "lignes_Y = df[df['RevLineCr'] == 'Y']\n",
    "\n",
    "display(lignes_T)\n",
    "display(lignes_Y)"
   ]
  },
  {
   "cell_type": "code",
   "execution_count": 173,
   "metadata": {},
   "outputs": [
    {
     "data": {
      "image/png": "[encoded data removed]",
      "text/plain": [
       "<Figure size 1000x600 with 1 Axes>"
      ]
     },
     "metadata": {},
     "output_type": "display_data"
    }
   ],
   "source": [
    "plt.figure(figsize=(10, 6))\n",
    "sns.barplot(x=df['RevLineCr'], y=df['LowDoc'], data=df)\n",
    "plt.show()"
   ]
  },
  {
   "cell_type": "markdown",
   "metadata": {},
   "source": [
    "## Définir les statuts manquants dans MIS en Charge-Off"
   ]
  },
  {
   "cell_type": "code",
   "execution_count": 174,
   "metadata": {},
   "outputs": [
    {
     "name": "stdout",
     "output_type": "stream",
     "text": [
      "       MIS_Status ChgOffDate ChgOffPrinGr\n",
      "343           NaN        NaN       $0.00 \n",
      "738           NaN        NaN       $0.00 \n",
      "833           NaN        NaN       $0.00 \n",
      "897           NaN        NaN       $0.00 \n",
      "1051          NaN        NaN       $0.00 \n",
      "...           ...        ...          ...\n",
      "892077        NaN        NaN       $0.00 \n",
      "893791        NaN        NaN       $0.00 \n",
      "894290        NaN        NaN       $0.00 \n",
      "896318        NaN        NaN       $0.00 \n",
      "898182        NaN        NaN       $0.00 \n",
      "\n",
      "[1792 rows x 3 columns]\n"
     ]
    }
   ],
   "source": [
    "missing_mis_status_with_chgoffdate = df[(df['MIS_Status'].isna() & df['ChgOffDate'].notna()) | df['MIS_Status'].isna() & (df['ChgOffPrinGr'] != 0.0)]\n",
    "\n",
    "print(missing_mis_status_with_chgoffdate[['MIS_Status', 'ChgOffDate', 'ChgOffPrinGr']])\n",
    "\n",
    "df.loc[missing_mis_status_with_chgoffdate.index, 'MIS_Status'] = 'CHGOFF'"
   ]
  },
  {
   "cell_type": "code",
   "execution_count": 175,
   "metadata": {},
   "outputs": [
    {
     "name": "stdout",
     "output_type": "stream",
     "text": [
      "['CHGOFF']\n"
     ]
    }
   ],
   "source": [
    "print(df.loc[missing_mis_status_with_chgoffdate.index, 'MIS_Status'].unique())"
   ]
  },
  {
   "cell_type": "code",
   "execution_count": 176,
   "metadata": {},
   "outputs": [
    {
     "data": {
      "image/png": "[encoded data removed]",
      "text/plain": [
       "<Figure size 640x480 with 1 Axes>"
      ]
     },
     "metadata": {},
     "output_type": "display_data"
    }
   ],
   "source": [
    "sns.histplot(df['RevLineCr'])\n",
    "plt.show()"
   ]
  },
  {
   "cell_type": "code",
   "execution_count": 177,
   "metadata": {},
   "outputs": [
    {
     "data": {
      "image/png": "[encoded data removed]",
      "text/plain": [
       "<Figure size 640x480 with 1 Axes>"
      ]
     },
     "metadata": {},
     "output_type": "display_data"
    }
   ],
   "source": [
    "sns.histplot(df['LowDoc'])\n",
    "plt.show()"
   ]
  },
  {
   "cell_type": "code",
   "execution_count": 178,
   "metadata": {},
   "outputs": [
    {
     "data": {
      "text/plain": [
       "array([451120, 722410, 621210, ..., 315280, 922140, 221121])"
      ]
     },
     "metadata": {},
     "output_type": "display_data"
    }
   ],
   "source": [
    "\n",
    "display(df['NAICS'].unique())"
   ]
  },
  {
   "cell_type": "markdown",
   "metadata": {},
   "source": [
    "## Enlever les dollars et les virgules des colonnes Disbursement, Balance, ChgOffPrin, GrAppv et SBA_Appv\n",
    "\n",
    "Les dollars rendent le type de ces variables en objets au lieu de les avoir en entier."
   ]
  },
  {
   "cell_type": "code",
   "execution_count": 179,
   "metadata": {},
   "outputs": [],
   "source": [
    "df[['DisbursementGross', 'BalanceGross', 'ChgOffPrinGr', 'GrAppv', 'SBA_Appv']] = \\\n",
    "df[['DisbursementGross', 'BalanceGross', 'ChgOffPrinGr', 'GrAppv', 'SBA_Appv']].map(lambda x: x.strip().replace('$', '').replace(',', ''))"
   ]
  },
  {
   "cell_type": "markdown",
   "metadata": {},
   "source": [
    "On peut désormais convertir ces colonnes de type objet en int ou float"
   ]
  },
  {
   "cell_type": "code",
   "execution_count": 180,
   "metadata": {},
   "outputs": [],
   "source": [
    "df = df.astype({'DisbursementGross':'float', 'BalanceGross':'float','ChgOffPrinGr':'float', 'GrAppv':'float', 'SBA_Appv':'float'})"
   ]
  },
  {
   "cell_type": "markdown",
   "metadata": {},
   "source": [
    "On a désormais ces 5 colonnes de type float.\n",
    "\n",
    "## Nettoyage de la variable ApprovalFY\n",
    "\n",
    "On s'intéresse désormais à la variable ApprovalFY qui devrait être un int"
   ]
  },
  {
   "cell_type": "code",
   "execution_count": 181,
   "metadata": {},
   "outputs": [
    {
     "data": {
      "text/plain": [
       "array([1997, 1980, 2006, 1998, 1999, 2000, 2001, 1972, 2003, 2004, 1978,\n",
       "       1979, 1981, 2005, 1982, 1983, 1973, 1984, 2007, 1985, 1986, 1987,\n",
       "       2008, 1988, 2009, 1989, 1991, 1990, 1974, 2010, 2011, 1992, 1993,\n",
       "       2002, 2012, 2013, 1994, 2014, 1975, 1977, 1976, '2004', '1994',\n",
       "       '1979', '1976', '1975', '1974', '1977', '1981', '1982', '1983',\n",
       "       '1984', '1978', '1980', '1968', '1976A', '1969', '1995', '1970',\n",
       "       '2005', '1996', '1971', 1996, 1971], dtype=object)"
      ]
     },
     "execution_count": 181,
     "metadata": {},
     "output_type": "execute_result"
    }
   ],
   "source": [
    "df.ApprovalFY.unique()"
   ]
  },
  {
   "cell_type": "markdown",
   "metadata": {},
   "source": [
    "On remarque une valeur A derrière l'année 1976 parfois, on va donc le retirer pour ne garder que des instances d'entiers"
   ]
  },
  {
   "cell_type": "code",
   "execution_count": 182,
   "metadata": {},
   "outputs": [],
   "source": [
    "def retire_A(i):\n",
    "    if isinstance(i, str):\n",
    "        return i.replace('A', '')\n",
    "    return i\n",
    "\n",
    "df.ApprovalFY = df.ApprovalFY.apply(retire_A).astype('int64')"
   ]
  },
  {
   "cell_type": "markdown",
   "metadata": {},
   "source": [
    "On vérifie que les instances restantes sont bien des int"
   ]
  },
  {
   "cell_type": "code",
   "execution_count": 183,
   "metadata": {},
   "outputs": [
    {
     "data": {
      "text/plain": [
       "ApprovalFY\n",
       "<class 'int'>    888060\n",
       "Name: count, dtype: int64"
      ]
     },
     "execution_count": 183,
     "metadata": {},
     "output_type": "execute_result"
    }
   ],
   "source": [
    "df['ApprovalFY'].apply(type).value_counts()"
   ]
  },
  {
   "cell_type": "markdown",
   "metadata": {},
   "source": [
    "## Le cas du code NAICS"
   ]
  },
  {
   "cell_type": "markdown",
   "metadata": {},
   "source": [
    "Les entreprises sont classées selon un code NAICS qui définit leur secteur d'activité. On va garder simplement les 2 premiers numéros du code qui correspondent au secteur."
   ]
  },
  {
   "cell_type": "code",
   "execution_count": 184,
   "metadata": {},
   "outputs": [
    {
     "data": {
      "text/plain": [
       "0         451120\n",
       "1         722410\n",
       "2         621210\n",
       "3              0\n",
       "4              0\n",
       "           ...  \n",
       "899159    451120\n",
       "899160    451130\n",
       "899161    332321\n",
       "899162         0\n",
       "899163         0\n",
       "Name: NAICS, Length: 888060, dtype: int64"
      ]
     },
     "metadata": {},
     "output_type": "display_data"
    }
   ],
   "source": [
    "display(df['NAICS'])"
   ]
  },
  {
   "cell_type": "code",
   "execution_count": 185,
   "metadata": {},
   "outputs": [],
   "source": [
    "tmp = []\n",
    "\n",
    "for i in df['NAICS']:\n",
    "    if i == 0:\n",
    "        tmp.append(0)\n",
    "    else:\n",
    "        first_digit = list(str(i))[:2] # récupère les deux premiers caractères et les passe en string\n",
    "        concat = ''.join(first_digit) # concatène en un seul string\n",
    "        tmp.append(concat) # On ajoute les nouvelles valeurs à la liste temporaire\n",
    "\n",
    "df['NAICS'] = tmp # On remplace les valeurs de la colonne NAICS par nos nouvelles valeurs"
   ]
  },
  {
   "cell_type": "markdown",
   "metadata": {},
   "source": [
    "On va maintenant se débarrasser des itérations où le code NAICS est à 0"
   ]
  },
  {
   "cell_type": "code",
   "execution_count": 186,
   "metadata": {},
   "outputs": [],
   "source": [
    "naics_null = []\n",
    "\n",
    "for i in list(df[df['NAICS'] == 0].index):\n",
    "    naics_null.append(i)\n",
    "\n",
    "df.drop(naics_null, inplace=True)"
   ]
  },
  {
   "cell_type": "markdown",
   "metadata": {},
   "source": [
    "Définissons un mappage de nos nouvelles valeurs NAICS selon les index fournis par la SBA"
   ]
  },
  {
   "cell_type": "code",
   "execution_count": 187,
   "metadata": {},
   "outputs": [],
   "source": [
    "df['NAICS'] = df['NAICS'].map({\n",
    "    '11':'Agriculture,Forestry,Fishing,Hunting',\n",
    "    '21':'Mining,Quarrying,Oil and Gas Extraction',\n",
    "    '22':'Utilities',\n",
    "    '23':'Construction',\n",
    "    '31':'Manufacturing',\n",
    "    '32':'Manufacturing',\n",
    "    '33':'Manufacturing',\n",
    "    '42':'Wholesale trade',\n",
    "    '44':'Retail trade',\n",
    "    '45':'Retail trade',\n",
    "    '48':'Transportation,Warehousing',\n",
    "    '49':'Transportation,Warehousing',\n",
    "    '51':'Information',\n",
    "    '52':'Finance,Insurance',\n",
    "    '53':'Real Estate,Rental,Leasing',\n",
    "    '54':'Proffesional,Scientific,Tech Service',\n",
    "    '55':'Management of Companies and Enterprises',\n",
    "    '56':'Administrative and Support,Waste Management,Remediation Services',\n",
    "    '61':'Educational',\n",
    "    '62':'Health Care,Social Assistance',\n",
    "    '71':'Arts,Entertainment,Recreation',\n",
    "    '72':'Accomodation,Food Services',\n",
    "    '81':'Other Services',\n",
    "    '92':'Public Administration'\n",
    "})"
   ]
  },
  {
   "cell_type": "markdown",
   "metadata": {},
   "source": [
    "## Convertir New Exist en variable binaire"
   ]
  },
  {
   "cell_type": "code",
   "execution_count": 188,
   "metadata": {},
   "outputs": [
    {
     "data": {
      "text/plain": [
       "array([2., 1., 0.])"
      ]
     },
     "execution_count": 188,
     "metadata": {},
     "output_type": "execute_result"
    }
   ],
   "source": [
    "df.NewExist.unique()"
   ]
  },
  {
   "cell_type": "code",
   "execution_count": 189,
   "metadata": {},
   "outputs": [
    {
     "data": {
      "text/plain": [
       "NewExist\n",
       "1.0    497845\n",
       "2.0    191031\n",
       "0.0       727\n",
       "Name: count, dtype: int64"
      ]
     },
     "execution_count": 189,
     "metadata": {},
     "output_type": "execute_result"
    }
   ],
   "source": [
    "df['NewExist'].value_counts()"
   ]
  },
  {
   "cell_type": "markdown",
   "metadata": {},
   "source": [
    "On considère que les valeurs à 0 sont minimes (1 représente normalement la valeur NON), on va donc ne pas les considérer"
   ]
  },
  {
   "cell_type": "code",
   "execution_count": 190,
   "metadata": {},
   "outputs": [],
   "source": [
    "df = df[(df['NewExist']==1) | (df['NewExist']==2)]\n",
    "\n",
    "df.loc[(df['NewExist']==1), 'NewExist'] = 0\n",
    "df.loc[(df['NewExist']==2), 'NewExist'] = 1"
   ]
  },
  {
   "cell_type": "code",
   "execution_count": 191,
   "metadata": {},
   "outputs": [
    {
     "data": {
      "text/plain": [
       "array([1., 0.])"
      ]
     },
     "execution_count": 191,
     "metadata": {},
     "output_type": "execute_result"
    }
   ],
   "source": [
    "df.NewExist.unique()"
   ]
  },
  {
   "cell_type": "markdown",
   "metadata": {},
   "source": [
    "## LowDoc et RevLineCr"
   ]
  },
  {
   "cell_type": "code",
   "execution_count": 192,
   "metadata": {},
   "outputs": [
    {
     "name": "stdout",
     "output_type": "stream",
     "text": [
      "['Y' 'N' 'C' '1' 'S' 'R' 'A' '0']\n",
      "['N' 'Y' '0' 'T' '`' ',' '1' 'C' '2' 'R' '7' 'A' '-' 'Q']\n"
     ]
    }
   ],
   "source": [
    "print(df.LowDoc.unique())\n",
    "print(df.RevLineCr.unique())"
   ]
  },
  {
   "cell_type": "markdown",
   "metadata": {},
   "source": [
    "On ne garde que les valeurs à Y et N pour Yes et No que l'on va convertir en binaire"
   ]
  },
  {
   "cell_type": "code",
   "execution_count": 193,
   "metadata": {},
   "outputs": [],
   "source": [
    "df = df[(df.LowDoc == 'Y')|(df.LowDoc == 'N')]\n",
    "df = df[(df.RevLineCr == 'Y')|(df.RevLineCr == 'N')]\n",
    "\n",
    "df['LowDoc'] = np.where(df['LowDoc'] == 'Y', 1, 0)\n",
    "df['RevLineCr'] = np.where(df['RevLineCr'] == 'Y', 1, 0)"
   ]
  },
  {
   "cell_type": "code",
   "execution_count": 194,
   "metadata": {},
   "outputs": [
    {
     "name": "stdout",
     "output_type": "stream",
     "text": [
      "[1 0]\n",
      "[0 1]\n"
     ]
    }
   ],
   "source": [
    "print(df.LowDoc.unique())\n",
    "print(df.RevLineCr.unique())"
   ]
  },
  {
   "cell_type": "code",
   "execution_count": 195,
   "metadata": {},
   "outputs": [
    {
     "data": {
      "text/plain": [
       "UrbanRural\n",
       "1    286741\n",
       "0    108436\n",
       "2     63222\n",
       "Name: count, dtype: int64"
      ]
     },
     "execution_count": 195,
     "metadata": {},
     "output_type": "execute_result"
    }
   ],
   "source": [
    "df.UrbanRural.value_counts()"
   ]
  },
  {
   "cell_type": "markdown",
   "metadata": {},
   "source": [
    "On considère dans un premier temps de laisser les colonnes UrbanRural undefined qui constituent une bonne portion de valeurs"
   ]
  },
  {
   "cell_type": "markdown",
   "metadata": {},
   "source": [
    "## Definir MIS_STATUS en binaire"
   ]
  },
  {
   "cell_type": "code",
   "execution_count": 196,
   "metadata": {},
   "outputs": [
    {
     "data": {
      "text/plain": [
       "MIS_Status\n",
       "0    358558\n",
       "1     99841\n",
       "Name: count, dtype: int64"
      ]
     },
     "execution_count": 196,
     "metadata": {},
     "output_type": "execute_result"
    }
   ],
   "source": [
    "df['MIS_Status'] = np.where(df['MIS_Status']=='CHGOFF', 1, 0)\n",
    "df['MIS_Status'].value_counts()"
   ]
  },
  {
   "cell_type": "markdown",
   "metadata": {},
   "source": [
    "## Convertir les dates au bon format"
   ]
  },
  {
   "cell_type": "markdown",
   "metadata": {},
   "source": [
    "On cherche maintenant à récupérer les dates au même format. On va donc appliquer une conversion à toutes les dates ApprovalDate et DisbursementDate"
   ]
  },
  {
   "cell_type": "code",
   "execution_count": 197,
   "metadata": {},
   "outputs": [
    {
     "name": "stderr",
     "output_type": "stream",
     "text": [
      "/var/folders/f8/_srl45g93hb_f9bb62qtf1t80000gn/T/ipykernel_82685/3669985856.py:1: UserWarning: Could not infer format, so each element will be parsed individually, falling back to `dateutil`. To ensure parsing is consistent and as-expected, please specify a format.\n",
      "  df[['ApprovalDate','DisbursementDate']] = df[['ApprovalDate','DisbursementDate']].apply(pd.to_datetime)\n",
      "/var/folders/f8/_srl45g93hb_f9bb62qtf1t80000gn/T/ipykernel_82685/3669985856.py:1: UserWarning: Could not infer format, so each element will be parsed individually, falling back to `dateutil`. To ensure parsing is consistent and as-expected, please specify a format.\n",
      "  df[['ApprovalDate','DisbursementDate']] = df[['ApprovalDate','DisbursementDate']].apply(pd.to_datetime)\n"
     ]
    }
   ],
   "source": [
    "df[['ApprovalDate','DisbursementDate']] = df[['ApprovalDate','DisbursementDate']].apply(pd.to_datetime)"
   ]
  },
  {
   "cell_type": "markdown",
   "metadata": {},
   "source": [
    "## Le code de la franchise\n",
    "\n",
    "On doit passer le code de la franchise en binaire, afin de savoir si le business est franchisé ou non"
   ]
  },
  {
   "cell_type": "code",
   "execution_count": 198,
   "metadata": {},
   "outputs": [
    {
     "data": {
      "text/plain": [
       "array([    1, 15100, 10656, ..., 16452, 75985, 42533])"
      ]
     },
     "execution_count": 198,
     "metadata": {},
     "output_type": "execute_result"
    }
   ],
   "source": [
    "df.FranchiseCode.unique()"
   ]
  },
  {
   "cell_type": "markdown",
   "metadata": {},
   "source": [
    "On remarque que nous avons beaucoup de valeurs qui indiquent si les business sont une franchise, les codes 00000 et 00001 indiquent que ce n'est pas le cas. Nous allons donc les séparer en 2 instances, 1 et 0 dans une colonne Franchise."
   ]
  },
  {
   "cell_type": "code",
   "execution_count": 199,
   "metadata": {},
   "outputs": [],
   "source": [
    "df.loc[(df['FranchiseCode']<=1), 'Franchise'] = 0\n",
    "df.loc[(df['FranchiseCode']>1), 'Franchise'] = 1"
   ]
  },
  {
   "cell_type": "code",
   "execution_count": 200,
   "metadata": {},
   "outputs": [
    {
     "data": {
      "text/plain": [
       "0         0.0\n",
       "1         0.0\n",
       "2         0.0\n",
       "5         0.0\n",
       "7         0.0\n",
       "         ... \n",
       "899145    0.0\n",
       "899146    0.0\n",
       "899157    0.0\n",
       "899160    0.0\n",
       "899161    0.0\n",
       "Name: Franchise, Length: 458399, dtype: float64"
      ]
     },
     "execution_count": 200,
     "metadata": {},
     "output_type": "execute_result"
    }
   ],
   "source": [
    "df.Franchise"
   ]
  },
  {
   "cell_type": "markdown",
   "metadata": {},
   "source": [
    "## MIS STATUS "
   ]
  },
  {
   "cell_type": "code",
   "execution_count": 201,
   "metadata": {},
   "outputs": [
    {
     "name": "stderr",
     "output_type": "stream",
     "text": [
      "/Users/sims/anaconda3/lib/python3.11/site-packages/seaborn/_base.py:949: FutureWarning: When grouping with a length-1 list-like, you will need to pass a length-1 tuple to get_group in a future version of pandas. Pass `(name,)` instead of `name` to silence this warning.\n",
      "  data_subset = grouped_data.get_group(pd_key)\n",
      "/Users/sims/anaconda3/lib/python3.11/site-packages/seaborn/_base.py:949: FutureWarning: When grouping with a length-1 list-like, you will need to pass a length-1 tuple to get_group in a future version of pandas. Pass `(name,)` instead of `name` to silence this warning.\n",
      "  data_subset = grouped_data.get_group(pd_key)\n"
     ]
    },
    {
     "data": {
      "image/png": "[encoded data removed]",
      "text/plain": [
       "<Figure size 2000x800 with 1 Axes>"
      ]
     },
     "metadata": {},
     "output_type": "display_data"
    }
   ],
   "source": [
    "plt.figure(figsize=(20,8))\n",
    "sns.countplot(data=df[df['ApprovalFY'] >= 2000], x='ApprovalFY', hue='MIS_Status')\n",
    "plt.legend(title='MIS Status', labels=['P I F','CHGOFF'])\n",
    "plt.show()"
   ]
  },
  {
   "cell_type": "markdown",
   "metadata": {},
   "source": [
    "On remarque une hausse anormale du nombre de ChargeOff comparé au PIF, à partir de 2007 notamment, ce qui peut s'expliquer par le contexte économique de cette période et du crack boursier de 2008, marquant la période de la Grande Récession. On peut donc se demander s'il est plus pertinent de sauter les années entre 2007 et 2009 pour éviter les données biaisées par ce facteur extra."
   ]
  },
  {
   "cell_type": "code",
   "execution_count": 202,
   "metadata": {},
   "outputs": [],
   "source": [
    "dfCrack = df[(df['ApprovalFY'] == 2007) | (df['ApprovalFY'] == 2008) | (df['ApprovalFY'] == 2009)]  # On garde les valeurs entre 2007 et 2009 pour l'EDA\n",
    "\n",
    "dfNeutre = df[~df['ApprovalFY'].isin([2007, 2008, 2009])]\n"
   ]
  },
  {
   "cell_type": "markdown",
   "metadata": {},
   "source": [
    "## Le nombre d'employés"
   ]
  },
  {
   "cell_type": "code",
   "execution_count": 203,
   "metadata": {},
   "outputs": [
    {
     "data": {
      "text/plain": [
       "NoEmp\n",
       "1       61900\n",
       "2       55802\n",
       "3       36406\n",
       "4       29293\n",
       "5       24105\n",
       "        ...  \n",
       "8000        1\n",
       "576         1\n",
       "178         1\n",
       "604         1\n",
       "273         1\n",
       "Name: count, Length: 421, dtype: int64"
      ]
     },
     "execution_count": 203,
     "metadata": {},
     "output_type": "execute_result"
    }
   ],
   "source": [
    "dfNeutre['NoEmp'].value_counts()"
   ]
  },
  {
   "cell_type": "markdown",
   "metadata": {},
   "source": [
    "D'après les conditions d'éligibilité au SBA, les entreprises de plus de 1500 employés ne sont pas acceptées. On va donc garder les entreprises dont le nombre d'employés ne dépasse pas ce palier."
   ]
  },
  {
   "cell_type": "code",
   "execution_count": 204,
   "metadata": {},
   "outputs": [],
   "source": [
    "dfNeutre = dfNeutre[dfNeutre['NoEmp']<=1500]"
   ]
  },
  {
   "cell_type": "code",
   "execution_count": 205,
   "metadata": {},
   "outputs": [
    {
     "data": {
      "text/plain": [
       "NoEmp\n",
       "1       61900\n",
       "2       55802\n",
       "3       36406\n",
       "4       29293\n",
       "5       24105\n",
       "        ...  \n",
       "178         1\n",
       "289         1\n",
       "900         1\n",
       "1250        1\n",
       "273         1\n",
       "Name: count, Length: 374, dtype: int64"
      ]
     },
     "execution_count": 205,
     "metadata": {},
     "output_type": "execute_result"
    }
   ],
   "source": [
    "dfNeutre['NoEmp'].value_counts()"
   ]
  },
  {
   "cell_type": "markdown",
   "metadata": {},
   "source": [
    "## Le terme du prêt"
   ]
  },
  {
   "cell_type": "code",
   "execution_count": 206,
   "metadata": {},
   "outputs": [
    {
     "data": {
      "text/plain": [
       "array([ 84,  60, 180, 120, 297, 162,  12,  87, 126,  83, 240, 102,  80,\n",
       "        42,  26,  36,  54,  66,  96,  93,  27,  82,  32, 112,  73, 255,\n",
       "        55,  35,   5,  62,  72,   6,  46,  70,  52,  48,  65,  47,  58,\n",
       "         1,  74,  16,   7,   4,  63,  56,  10,  22,   0,  40,   3,  23,\n",
       "       300,  11,  17,  21,  43,  91,  89,   2,  34,  14,   9,  78,  18,\n",
       "       129,  97,   8,  29,  30,  39,  24,  13,  15, 228,  57,  59, 208,\n",
       "        44,  81,  38,  85,  77,  69,  51, 144,  64, 111,  90,  75, 306,\n",
       "       183,  71,  28,  49, 119, 116,  76, 113, 191,  19,  45,  99,  25,\n",
       "        98, 118, 166, 114,  94, 231,  33, 108, 157, 165,  41, 309, 106,\n",
       "        20,  50, 229, 204,  31, 276, 115,  53, 174,  37,  95,  61,  79,\n",
       "       131, 133, 123,  67, 122,  68, 268, 294, 238, 246, 124, 186,  86,\n",
       "       192, 128, 147, 280, 318, 264, 121, 216, 100, 278, 107,  88, 283,\n",
       "       101, 104, 117, 187, 103, 136, 288, 175, 139, 241, 156, 303, 177,\n",
       "       273, 132, 189, 222, 164, 301, 196, 155, 243, 252, 135, 185, 168,\n",
       "       149, 261, 181,  92, 146, 150, 109, 349, 206, 145, 152, 207, 176,\n",
       "       285, 169, 137, 195, 127, 125, 304, 210, 143, 160, 217, 110, 236,\n",
       "       282, 167, 159, 153, 237, 312, 199, 182, 154, 230, 203, 219, 184,\n",
       "       263, 248, 188, 258, 130, 225, 215, 202, 194, 279, 270, 161, 105,\n",
       "       151, 142, 250, 179, 295, 242, 274, 224, 266, 140, 239, 173, 212,\n",
       "       302, 256, 201, 148, 265, 172, 134, 234, 205, 311, 249, 299, 178,\n",
       "       190, 245, 138, 223, 213, 244, 290, 197, 334, 171, 200, 291, 340,\n",
       "       218, 275, 226, 269, 198, 284, 281, 247, 220, 227, 163, 209, 262,\n",
       "       232, 260, 253, 360, 141, 233, 214, 257, 221, 271, 272, 259, 305,\n",
       "       170, 254, 235, 320, 298, 251, 277, 158, 267, 289, 292, 296, 330,\n",
       "       211, 307, 365, 286, 324, 336, 329, 293, 287, 319, 350, 335, 369,\n",
       "       357, 355, 362, 322, 359, 358, 310, 321, 341, 323, 193, 315, 308,\n",
       "       326, 333, 372, 348, 356, 396, 314, 382, 385, 367, 374, 354, 353,\n",
       "       527, 370, 327, 366, 325, 339, 317, 428, 388, 386, 409, 445, 316,\n",
       "       449, 389, 434, 328, 423, 440, 347, 391])"
      ]
     },
     "execution_count": 206,
     "metadata": {},
     "output_type": "execute_result"
    }
   ],
   "source": [
    "dfNeutre['Term'].unique()"
   ]
  },
  {
   "cell_type": "markdown",
   "metadata": {},
   "source": [
    "On trouve la valeur zéro, qui n'est pas cohérente "
   ]
  },
  {
   "cell_type": "code",
   "execution_count": 207,
   "metadata": {},
   "outputs": [
    {
     "data": {
      "text/plain": [
       "MIS_Status\n",
       "1    372\n",
       "0     28\n",
       "Name: count, dtype: int64"
      ]
     },
     "execution_count": 207,
     "metadata": {},
     "output_type": "execute_result"
    }
   ],
   "source": [
    "dfNeutre[dfNeutre['Term'] == 0]['MIS_Status'].value_counts()"
   ]
  },
  {
   "cell_type": "markdown",
   "metadata": {},
   "source": [
    "On ne va donc pas garder les colonnes où le terme du prêt est fixé à 0"
   ]
  },
  {
   "cell_type": "code",
   "execution_count": 208,
   "metadata": {},
   "outputs": [],
   "source": [
    "dfNeutre = dfNeutre[dfNeutre['Term']!= 0]"
   ]
  },
  {
   "cell_type": "markdown",
   "metadata": {},
   "source": [
    "## Drop des colonnes inutiles dans la modélisation"
   ]
  },
  {
   "cell_type": "code",
   "execution_count": 209,
   "metadata": {},
   "outputs": [],
   "source": [
    "dfNeutre.drop(columns=['Name','City','Zip','Bank','BankState','ApprovalDate','CreateJob','RetainedJob','FranchiseCode','ChgOffDate','DisbursementDate','DisbursementGross','BalanceGross','ChgOffPrinGr'], inplace=True)"
   ]
  },
  {
   "cell_type": "markdown",
   "metadata": {},
   "source": [
    "## Dataframe nettoyé"
   ]
  },
  {
   "cell_type": "code",
   "execution_count": 210,
   "metadata": {},
   "outputs": [
    {
     "data": {
      "text/plain": [
       "(354706, 14)"
      ]
     },
     "execution_count": 210,
     "metadata": {},
     "output_type": "execute_result"
    }
   ],
   "source": [
    "dfNeutre.shape"
   ]
  },
  {
   "cell_type": "code",
   "execution_count": 211,
   "metadata": {},
   "outputs": [
    {
     "data": {
      "text/html": [
       "<div>\n",
       "<style scoped>\n",
       "    .dataframe tbody tr th:only-of-type {\n",
       "        vertical-align: middle;\n",
       "    }\n",
       "\n",
       "    .dataframe tbody tr th {\n",
       "        vertical-align: top;\n",
       "    }\n",
       "\n",
       "    .dataframe thead th {\n",
       "        text-align: right;\n",
       "    }\n",
       "</style>\n",
       "<table border=\"1\" class=\"dataframe\">\n",
       "  <thead>\n",
       "    <tr style=\"text-align: right;\">\n",
       "      <th></th>\n",
       "      <th>LoanNr_ChkDgt</th>\n",
       "      <th>State</th>\n",
       "      <th>NAICS</th>\n",
       "      <th>ApprovalFY</th>\n",
       "      <th>Term</th>\n",
       "      <th>NoEmp</th>\n",
       "      <th>NewExist</th>\n",
       "      <th>UrbanRural</th>\n",
       "      <th>RevLineCr</th>\n",
       "      <th>LowDoc</th>\n",
       "      <th>MIS_Status</th>\n",
       "      <th>GrAppv</th>\n",
       "      <th>SBA_Appv</th>\n",
       "      <th>Franchise</th>\n",
       "    </tr>\n",
       "  </thead>\n",
       "  <tbody>\n",
       "    <tr>\n",
       "      <th>0</th>\n",
       "      <td>1000014003</td>\n",
       "      <td>IN</td>\n",
       "      <td>Retail trade</td>\n",
       "      <td>1997</td>\n",
       "      <td>84</td>\n",
       "      <td>4</td>\n",
       "      <td>1.0</td>\n",
       "      <td>0</td>\n",
       "      <td>0</td>\n",
       "      <td>1</td>\n",
       "      <td>0</td>\n",
       "      <td>60000.0</td>\n",
       "      <td>48000.0</td>\n",
       "      <td>0.0</td>\n",
       "    </tr>\n",
       "    <tr>\n",
       "      <th>1</th>\n",
       "      <td>1000024006</td>\n",
       "      <td>IN</td>\n",
       "      <td>Accomodation,Food Services</td>\n",
       "      <td>1997</td>\n",
       "      <td>60</td>\n",
       "      <td>2</td>\n",
       "      <td>1.0</td>\n",
       "      <td>0</td>\n",
       "      <td>0</td>\n",
       "      <td>1</td>\n",
       "      <td>0</td>\n",
       "      <td>40000.0</td>\n",
       "      <td>32000.0</td>\n",
       "      <td>0.0</td>\n",
       "    </tr>\n",
       "    <tr>\n",
       "      <th>2</th>\n",
       "      <td>1000034009</td>\n",
       "      <td>IN</td>\n",
       "      <td>Health Care,Social Assistance</td>\n",
       "      <td>1997</td>\n",
       "      <td>180</td>\n",
       "      <td>7</td>\n",
       "      <td>0.0</td>\n",
       "      <td>0</td>\n",
       "      <td>0</td>\n",
       "      <td>0</td>\n",
       "      <td>0</td>\n",
       "      <td>287000.0</td>\n",
       "      <td>215250.0</td>\n",
       "      <td>0.0</td>\n",
       "    </tr>\n",
       "    <tr>\n",
       "      <th>5</th>\n",
       "      <td>1000084002</td>\n",
       "      <td>CT</td>\n",
       "      <td>Manufacturing</td>\n",
       "      <td>1997</td>\n",
       "      <td>120</td>\n",
       "      <td>19</td>\n",
       "      <td>0.0</td>\n",
       "      <td>0</td>\n",
       "      <td>0</td>\n",
       "      <td>0</td>\n",
       "      <td>0</td>\n",
       "      <td>517000.0</td>\n",
       "      <td>387750.0</td>\n",
       "      <td>0.0</td>\n",
       "    </tr>\n",
       "    <tr>\n",
       "      <th>7</th>\n",
       "      <td>1000094005</td>\n",
       "      <td>FL</td>\n",
       "      <td>Other Services</td>\n",
       "      <td>1997</td>\n",
       "      <td>84</td>\n",
       "      <td>1</td>\n",
       "      <td>1.0</td>\n",
       "      <td>0</td>\n",
       "      <td>0</td>\n",
       "      <td>1</td>\n",
       "      <td>0</td>\n",
       "      <td>45000.0</td>\n",
       "      <td>36000.0</td>\n",
       "      <td>0.0</td>\n",
       "    </tr>\n",
       "  </tbody>\n",
       "</table>\n",
       "</div>"
      ],
      "text/plain": [
       "   LoanNr_ChkDgt State                          NAICS  ApprovalFY  Term  \\\n",
       "0     1000014003    IN                   Retail trade        1997    84   \n",
       "1     1000024006    IN     Accomodation,Food Services        1997    60   \n",
       "2     1000034009    IN  Health Care,Social Assistance        1997   180   \n",
       "5     1000084002    CT                  Manufacturing        1997   120   \n",
       "7     1000094005    FL                 Other Services        1997    84   \n",
       "\n",
       "   NoEmp  NewExist  UrbanRural  RevLineCr  LowDoc  MIS_Status    GrAppv  \\\n",
       "0      4       1.0           0          0       1           0   60000.0   \n",
       "1      2       1.0           0          0       1           0   40000.0   \n",
       "2      7       0.0           0          0       0           0  287000.0   \n",
       "5     19       0.0           0          0       0           0  517000.0   \n",
       "7      1       1.0           0          0       1           0   45000.0   \n",
       "\n",
       "   SBA_Appv  Franchise  \n",
       "0   48000.0        0.0  \n",
       "1   32000.0        0.0  \n",
       "2  215250.0        0.0  \n",
       "5  387750.0        0.0  \n",
       "7   36000.0        0.0  "
      ]
     },
     "execution_count": 211,
     "metadata": {},
     "output_type": "execute_result"
    }
   ],
   "source": [
    "dfNeutre.head()"
   ]
  }
 ],
 "metadata": {
  "kernelspec": {
   "display_name": "base",
   "language": "python",
   "name": "python3"
  },
  "language_info": {
   "codemirror_mode": {
    "name": "ipython",
    "version": 3
   },
   "file_extension": ".py",
   "mimetype": "text/x-python",
   "name": "python",
   "nbconvert_exporter": "python",
   "pygments_lexer": "ipython3",
   "version": "3.11.5"
  }
 },
 "nbformat": 4,
 "nbformat_minor": 2
}
