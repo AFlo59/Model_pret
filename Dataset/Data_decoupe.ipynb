{
 "cells": [
  {
   "cell_type": "code",
   "execution_count": 12,
   "metadata": {},
   "outputs": [
    {
     "name": "stderr",
     "output_type": "stream",
     "text": [
      "c:\\Users\\33679\\OneDrive\\Bureau\\brief predict pret\\Model_pret\\Dataset\\../Module\\Division_csv.py:13: DtypeWarning: Columns (9) have mixed types. Specify dtype option on import or set low_memory=False.\n",
      "  data = pd.read_csv(input_file)\n"
     ]
    }
   ],
   "source": [
    "import sys\n",
    "sys.path.append('../Module')\n",
    "\n",
    "from Division_csv import diviser_csv\n",
    "\n",
    "# Appeler la fonction diviser_csv avec les arguments appropriés\n",
    "input_file = \"../Dataset/SBAnational.csv\"\n",
    "output_prefix = \"../Dataset/SBAnational_part\"\n",
    "num_parts = 4\n",
    "diviser_csv(input_file, output_prefix, num_parts)\n"
   ]
  }
 ],
 "metadata": {
  "kernelspec": {
   "display_name": "Python 3",
   "language": "python",
   "name": "python3"
  },
  "language_info": {
   "codemirror_mode": {
    "name": "ipython",
    "version": 3
   },
   "file_extension": ".py",
   "mimetype": "text/x-python",
   "name": "python",
   "nbconvert_exporter": "python",
   "pygments_lexer": "ipython3",
   "version": "3.11.3"
  }
 },
 "nbformat": 4,
 "nbformat_minor": 2
}
