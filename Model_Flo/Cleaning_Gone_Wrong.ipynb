{
 "cells": [
  {
   "cell_type": "code",
   "execution_count": 3,
   "metadata": {},
   "outputs": [
    {
     "name": "stderr",
     "output_type": "stream",
     "text": [
      "Downloading...\n",
      "From (original): https://drive.google.com/uc?id=1vdNaWcJgMzUnlaDVA4FuZRFYinO8UsPQ\n",
      "From (redirected): https://drive.google.com/uc?id=1vdNaWcJgMzUnlaDVA4FuZRFYinO8UsPQ&confirm=t&uuid=5ce078fc-4d40-4414-b5ec-e98681f0dc7a\n",
      "To: /home/utilisateur/projet/Brief_Prêt/Model_pret/Dataset/SBAnational.csv\n",
      "100%|██████████| 179M/179M [00:16<00:00, 10.6MB/s] \n",
      "/tmp/ipykernel_98942/1182082997.py:31: DtypeWarning: Columns (9) have mixed types. Specify dtype option on import or set low_memory=False.\n",
      "  df = pd.read_csv(imported_csv_path)\n"
     ]
    }
   ],
   "source": [
    "import os\n",
    "import sys\n",
    "import shutil\n",
    "sys.path.append('../Module')\n",
    "folder_path = '../Dataset'\n",
    "\n",
    "import numpy as np\n",
    "import pandas as pd\n",
    "import matplotlib.pyplot as plt\n",
    "import seaborn as sns\n",
    "\n",
    "from sklearn.preprocessing import OneHotEncoder\n",
    "from sklearn.compose import ColumnTransformer\n",
    "from sklearn.preprocessing import StandardScaler, OneHotEncoder\n",
    "from sklearn.ensemble import RandomForestClassifier, BaggingClassifier\n",
    "\n",
    "from sklearn.pipeline import Pipeline\n",
    "from sklearn.model_selection import train_test_split, GridSearchCV\n",
    "from sklearn.metrics import accuracy_score, f1_score\n",
    "from sklearn import set_config\n",
    "\n",
    "from loader_csv import charger_csv\n",
    "from data_to_csv import df_to_csv\n",
    "from utils import generate_description\n",
    "from currency import currency_cleaning\n",
    "from naics_engineering import naicsEngineering\n",
    "\n",
    "from Import_csv import import_csv\n",
    "imported_csv_path = import_csv()\n",
    "\n",
    "df = pd.read_csv(imported_csv_path)"
   ]
  },
  {
   "cell_type": "code",
   "execution_count": 4,
   "metadata": {},
   "outputs": [
    {
     "data": {
      "text/html": [
       "<div>\n",
       "<style scoped>\n",
       "    .dataframe tbody tr th:only-of-type {\n",
       "        vertical-align: middle;\n",
       "    }\n",
       "\n",
       "    .dataframe tbody tr th {\n",
       "        vertical-align: top;\n",
       "    }\n",
       "\n",
       "    .dataframe thead th {\n",
       "        text-align: right;\n",
       "    }\n",
       "</style>\n",
       "<table border=\"1\" class=\"dataframe\">\n",
       "  <thead>\n",
       "    <tr style=\"text-align: right;\">\n",
       "      <th></th>\n",
       "      <th>feature</th>\n",
       "      <th>data_type</th>\n",
       "      <th>null</th>\n",
       "      <th>nulPct</th>\n",
       "      <th>unique</th>\n",
       "      <th>uniqueSample</th>\n",
       "    </tr>\n",
       "  </thead>\n",
       "  <tbody>\n",
       "    <tr>\n",
       "      <th>0</th>\n",
       "      <td>LoanNr_ChkDgt</td>\n",
       "      <td>int64</td>\n",
       "      <td>0</td>\n",
       "      <td>0.00</td>\n",
       "      <td>899164</td>\n",
       "      <td>[4071055001, 2881894002, 4862203002, 367444500...</td>\n",
       "    </tr>\n",
       "    <tr>\n",
       "      <th>1</th>\n",
       "      <td>Name</td>\n",
       "      <td>object</td>\n",
       "      <td>14</td>\n",
       "      <td>0.00</td>\n",
       "      <td>779583</td>\n",
       "      <td>[COMPUTER MANAGEMENT SOFTWARE I, TOLEDO RESTAU...</td>\n",
       "    </tr>\n",
       "    <tr>\n",
       "      <th>2</th>\n",
       "      <td>City</td>\n",
       "      <td>object</td>\n",
       "      <td>30</td>\n",
       "      <td>0.00</td>\n",
       "      <td>32581</td>\n",
       "      <td>[CHARLOTTE, FLOWER MOUND, SHEBOYGAN, BELLEVUE,...</td>\n",
       "    </tr>\n",
       "    <tr>\n",
       "      <th>3</th>\n",
       "      <td>State</td>\n",
       "      <td>object</td>\n",
       "      <td>14</td>\n",
       "      <td>0.00</td>\n",
       "      <td>51</td>\n",
       "      <td>[CA, OR, AK, AL]</td>\n",
       "    </tr>\n",
       "    <tr>\n",
       "      <th>4</th>\n",
       "      <td>Zip</td>\n",
       "      <td>int64</td>\n",
       "      <td>0</td>\n",
       "      <td>0.00</td>\n",
       "      <td>33611</td>\n",
       "      <td>[98032, 89509, 77521, 56571, 19136]</td>\n",
       "    </tr>\n",
       "    <tr>\n",
       "      <th>5</th>\n",
       "      <td>Bank</td>\n",
       "      <td>object</td>\n",
       "      <td>1559</td>\n",
       "      <td>0.17</td>\n",
       "      <td>5802</td>\n",
       "      <td>[SUPERIOR FINANCIAL GROUP, LLC, CITIZENS BANK ...</td>\n",
       "    </tr>\n",
       "    <tr>\n",
       "      <th>6</th>\n",
       "      <td>BankState</td>\n",
       "      <td>object</td>\n",
       "      <td>1566</td>\n",
       "      <td>0.17</td>\n",
       "      <td>56</td>\n",
       "      <td>[NM, UT, TX, NY, DE]</td>\n",
       "    </tr>\n",
       "    <tr>\n",
       "      <th>7</th>\n",
       "      <td>NAICS</td>\n",
       "      <td>int64</td>\n",
       "      <td>0</td>\n",
       "      <td>0.00</td>\n",
       "      <td>1312</td>\n",
       "      <td>[337110, 0, 484110, 541519, 561720]</td>\n",
       "    </tr>\n",
       "    <tr>\n",
       "      <th>8</th>\n",
       "      <td>ApprovalDate</td>\n",
       "      <td>object</td>\n",
       "      <td>0</td>\n",
       "      <td>0.00</td>\n",
       "      <td>9859</td>\n",
       "      <td>[7-Jun-06, 11-Jan-06, 28-Mar-07, 17-Feb-95, 16...</td>\n",
       "    </tr>\n",
       "    <tr>\n",
       "      <th>9</th>\n",
       "      <td>ApprovalFY</td>\n",
       "      <td>object</td>\n",
       "      <td>0</td>\n",
       "      <td>0.00</td>\n",
       "      <td>70</td>\n",
       "      <td>[2003, 2005, 2008, 2006]</td>\n",
       "    </tr>\n",
       "    <tr>\n",
       "      <th>10</th>\n",
       "      <td>Term</td>\n",
       "      <td>int64</td>\n",
       "      <td>0</td>\n",
       "      <td>0.00</td>\n",
       "      <td>412</td>\n",
       "      <td>[84, 120, 92]</td>\n",
       "    </tr>\n",
       "    <tr>\n",
       "      <th>11</th>\n",
       "      <td>NoEmp</td>\n",
       "      <td>int64</td>\n",
       "      <td>0</td>\n",
       "      <td>0.00</td>\n",
       "      <td>599</td>\n",
       "      <td>[25, 55, 0, 12, 27]</td>\n",
       "    </tr>\n",
       "    <tr>\n",
       "      <th>12</th>\n",
       "      <td>NewExist</td>\n",
       "      <td>float64</td>\n",
       "      <td>136</td>\n",
       "      <td>0.02</td>\n",
       "      <td>3</td>\n",
       "      <td>[1.0]</td>\n",
       "    </tr>\n",
       "    <tr>\n",
       "      <th>13</th>\n",
       "      <td>CreateJob</td>\n",
       "      <td>int64</td>\n",
       "      <td>0</td>\n",
       "      <td>0.00</td>\n",
       "      <td>246</td>\n",
       "      <td>[0, 5, 3]</td>\n",
       "    </tr>\n",
       "    <tr>\n",
       "      <th>14</th>\n",
       "      <td>RetainedJob</td>\n",
       "      <td>int64</td>\n",
       "      <td>0</td>\n",
       "      <td>0.00</td>\n",
       "      <td>358</td>\n",
       "      <td>[0, 20, 4, 3]</td>\n",
       "    </tr>\n",
       "    <tr>\n",
       "      <th>15</th>\n",
       "      <td>FranchiseCode</td>\n",
       "      <td>int64</td>\n",
       "      <td>0</td>\n",
       "      <td>0.00</td>\n",
       "      <td>2768</td>\n",
       "      <td>[1, 61901]</td>\n",
       "    </tr>\n",
       "    <tr>\n",
       "      <th>16</th>\n",
       "      <td>UrbanRural</td>\n",
       "      <td>int64</td>\n",
       "      <td>0</td>\n",
       "      <td>0.00</td>\n",
       "      <td>3</td>\n",
       "      <td>[1, 0]</td>\n",
       "    </tr>\n",
       "    <tr>\n",
       "      <th>17</th>\n",
       "      <td>RevLineCr</td>\n",
       "      <td>object</td>\n",
       "      <td>4528</td>\n",
       "      <td>0.50</td>\n",
       "      <td>18</td>\n",
       "      <td>[0, Y, N]</td>\n",
       "    </tr>\n",
       "    <tr>\n",
       "      <th>18</th>\n",
       "      <td>LowDoc</td>\n",
       "      <td>object</td>\n",
       "      <td>2582</td>\n",
       "      <td>0.29</td>\n",
       "      <td>8</td>\n",
       "      <td>[N]</td>\n",
       "    </tr>\n",
       "    <tr>\n",
       "      <th>19</th>\n",
       "      <td>ChgOffDate</td>\n",
       "      <td>object</td>\n",
       "      <td>736465</td>\n",
       "      <td>81.91</td>\n",
       "      <td>6448</td>\n",
       "      <td>[nan, 5-Jun-09]</td>\n",
       "    </tr>\n",
       "    <tr>\n",
       "      <th>20</th>\n",
       "      <td>DisbursementDate</td>\n",
       "      <td>object</td>\n",
       "      <td>2368</td>\n",
       "      <td>0.26</td>\n",
       "      <td>8472</td>\n",
       "      <td>[13-Oct-93, 30-Jun-08, 31-Aug-09, 31-Jan-03, 3...</td>\n",
       "    </tr>\n",
       "    <tr>\n",
       "      <th>21</th>\n",
       "      <td>DisbursementGross</td>\n",
       "      <td>object</td>\n",
       "      <td>0</td>\n",
       "      <td>0.00</td>\n",
       "      <td>118859</td>\n",
       "      <td>[$285,809.00 , $10,179.00 , $70,000.00 , $220,...</td>\n",
       "    </tr>\n",
       "    <tr>\n",
       "      <th>22</th>\n",
       "      <td>BalanceGross</td>\n",
       "      <td>object</td>\n",
       "      <td>0</td>\n",
       "      <td>0.00</td>\n",
       "      <td>15</td>\n",
       "      <td>[$0.00 ]</td>\n",
       "    </tr>\n",
       "    <tr>\n",
       "      <th>23</th>\n",
       "      <td>MIS_Status</td>\n",
       "      <td>object</td>\n",
       "      <td>1997</td>\n",
       "      <td>0.22</td>\n",
       "      <td>2</td>\n",
       "      <td>[CHGOFF, P I F]</td>\n",
       "    </tr>\n",
       "    <tr>\n",
       "      <th>24</th>\n",
       "      <td>ChgOffPrinGr</td>\n",
       "      <td>object</td>\n",
       "      <td>0</td>\n",
       "      <td>0.00</td>\n",
       "      <td>83165</td>\n",
       "      <td>[$0.00 ]</td>\n",
       "    </tr>\n",
       "    <tr>\n",
       "      <th>25</th>\n",
       "      <td>GrAppv</td>\n",
       "      <td>object</td>\n",
       "      <td>0</td>\n",
       "      <td>0.00</td>\n",
       "      <td>22128</td>\n",
       "      <td>[$1,000,000.00 , $35,000.00 , $750,000.00 , $2...</td>\n",
       "    </tr>\n",
       "    <tr>\n",
       "      <th>26</th>\n",
       "      <td>SBA_Appv</td>\n",
       "      <td>object</td>\n",
       "      <td>0</td>\n",
       "      <td>0.00</td>\n",
       "      <td>38326</td>\n",
       "      <td>[$592,500.00 , $31,750.00 , $90,000.00 , $65,5...</td>\n",
       "    </tr>\n",
       "  </tbody>\n",
       "</table>\n",
       "</div>"
      ],
      "text/plain": [
       "              feature data_type    null  nulPct  unique  \\\n",
       "0       LoanNr_ChkDgt     int64       0    0.00  899164   \n",
       "1                Name    object      14    0.00  779583   \n",
       "2                City    object      30    0.00   32581   \n",
       "3               State    object      14    0.00      51   \n",
       "4                 Zip     int64       0    0.00   33611   \n",
       "5                Bank    object    1559    0.17    5802   \n",
       "6           BankState    object    1566    0.17      56   \n",
       "7               NAICS     int64       0    0.00    1312   \n",
       "8        ApprovalDate    object       0    0.00    9859   \n",
       "9          ApprovalFY    object       0    0.00      70   \n",
       "10               Term     int64       0    0.00     412   \n",
       "11              NoEmp     int64       0    0.00     599   \n",
       "12           NewExist   float64     136    0.02       3   \n",
       "13          CreateJob     int64       0    0.00     246   \n",
       "14        RetainedJob     int64       0    0.00     358   \n",
       "15      FranchiseCode     int64       0    0.00    2768   \n",
       "16         UrbanRural     int64       0    0.00       3   \n",
       "17          RevLineCr    object    4528    0.50      18   \n",
       "18             LowDoc    object    2582    0.29       8   \n",
       "19         ChgOffDate    object  736465   81.91    6448   \n",
       "20   DisbursementDate    object    2368    0.26    8472   \n",
       "21  DisbursementGross    object       0    0.00  118859   \n",
       "22       BalanceGross    object       0    0.00      15   \n",
       "23         MIS_Status    object    1997    0.22       2   \n",
       "24       ChgOffPrinGr    object       0    0.00   83165   \n",
       "25             GrAppv    object       0    0.00   22128   \n",
       "26           SBA_Appv    object       0    0.00   38326   \n",
       "\n",
       "                                         uniqueSample  \n",
       "0   [4071055001, 2881894002, 4862203002, 367444500...  \n",
       "1   [COMPUTER MANAGEMENT SOFTWARE I, TOLEDO RESTAU...  \n",
       "2   [CHARLOTTE, FLOWER MOUND, SHEBOYGAN, BELLEVUE,...  \n",
       "3                                    [CA, OR, AK, AL]  \n",
       "4                 [98032, 89509, 77521, 56571, 19136]  \n",
       "5   [SUPERIOR FINANCIAL GROUP, LLC, CITIZENS BANK ...  \n",
       "6                                [NM, UT, TX, NY, DE]  \n",
       "7                 [337110, 0, 484110, 541519, 561720]  \n",
       "8   [7-Jun-06, 11-Jan-06, 28-Mar-07, 17-Feb-95, 16...  \n",
       "9                            [2003, 2005, 2008, 2006]  \n",
       "10                                      [84, 120, 92]  \n",
       "11                                [25, 55, 0, 12, 27]  \n",
       "12                                              [1.0]  \n",
       "13                                          [0, 5, 3]  \n",
       "14                                      [0, 20, 4, 3]  \n",
       "15                                         [1, 61901]  \n",
       "16                                             [1, 0]  \n",
       "17                                          [0, Y, N]  \n",
       "18                                                [N]  \n",
       "19                                    [nan, 5-Jun-09]  \n",
       "20  [13-Oct-93, 30-Jun-08, 31-Aug-09, 31-Jan-03, 3...  \n",
       "21  [$285,809.00 , $10,179.00 , $70,000.00 , $220,...  \n",
       "22                                           [$0.00 ]  \n",
       "23                                    [CHGOFF, P I F]  \n",
       "24                                           [$0.00 ]  \n",
       "25  [$1,000,000.00 , $35,000.00 , $750,000.00 , $2...  \n",
       "26  [$592,500.00 , $31,750.00 , $90,000.00 , $65,5...  "
      ]
     },
     "execution_count": 4,
     "metadata": {},
     "output_type": "execute_result"
    }
   ],
   "source": [
    "generate_description(df)"
   ]
  },
  {
   "cell_type": "code",
   "execution_count": 5,
   "metadata": {},
   "outputs": [],
   "source": [
    "df.drop_duplicates(subset=['LoanNr_ChkDgt'], inplace=True)"
   ]
  },
  {
   "cell_type": "code",
   "execution_count": 6,
   "metadata": {},
   "outputs": [
    {
     "data": {
      "text/plain": [
       "NAICS\n",
       "44-45    127251\n",
       "81        72618\n",
       "54        68170\n",
       "31-33     68029\n",
       "72        67600\n",
       "23        66646\n",
       "62        55366\n",
       "42        48743\n",
       "56        32685\n",
       "48-49     22531\n",
       "71        14640\n",
       "53        13632\n",
       "51        11379\n",
       "52         9496\n",
       "11         9005\n",
       "61         6425\n",
       "21         1851\n",
       "22          663\n",
       "55          257\n",
       "92          229\n",
       "Name: count, dtype: int64"
      ]
     },
     "execution_count": 6,
     "metadata": {},
     "output_type": "execute_result"
    }
   ],
   "source": [
    "df = df[df.NAICS != 0]\n",
    "df['NAICS'] = df['NAICS'].apply(naicsEngineering)\n",
    "df.NAICS.value_counts()"
   ]
  },
  {
   "cell_type": "code",
   "execution_count": 7,
   "metadata": {},
   "outputs": [
    {
     "data": {
      "text/plain": [
       "NewExist\n",
       "1.0    502830\n",
       "2.0    193520\n",
       "Name: count, dtype: int64"
      ]
     },
     "execution_count": 7,
     "metadata": {},
     "output_type": "execute_result"
    }
   ],
   "source": [
    "df = df[(df.NewExist == 1.0) | (df.NewExist == 2.0)]\n",
    "df.NewExist.value_counts()"
   ]
  },
  {
   "cell_type": "code",
   "execution_count": 8,
   "metadata": {},
   "outputs": [],
   "source": [
    "df['GrAppv'] = df['GrAppv'].apply(currency_cleaning).astype(float).astype(int)\n",
    "df['SBA_Appv'] = df['SBA_Appv'].apply(currency_cleaning).astype(float).astype(int)\n",
    "df['DisbursementGross'] = df['DisbursementGross'].apply(currency_cleaning).astype(float).astype(int)\n",
    "df['BalanceGross'] = df['BalanceGross'].apply(currency_cleaning).astype(float).astype(int)\n",
    "df['ChgOffPrinGr'] = df['ChgOffPrinGr'].apply(currency_cleaning).astype(float)"
   ]
  },
  {
   "cell_type": "code",
   "execution_count": 9,
   "metadata": {},
   "outputs": [
    {
     "data": {
      "text/plain": [
       "RevLineCr\n",
       "N    484187\n",
       "Y    195147\n",
       "Name: count, dtype: int64"
      ]
     },
     "execution_count": 9,
     "metadata": {},
     "output_type": "execute_result"
    }
   ],
   "source": [
    "mapping = {'0': 'N', '1': 'Y'}\n",
    "df['RevLineCr'] = df['RevLineCr'].replace(mapping)\n",
    "\n",
    "valid_values = ['N', 'Y']\n",
    "df = df[df['RevLineCr'].isin(valid_values)]\n",
    "\n",
    "df['RevLineCr'].value_counts()"
   ]
  },
  {
   "cell_type": "code",
   "execution_count": 10,
   "metadata": {},
   "outputs": [
    {
     "data": {
      "text/plain": [
       "LowDoc\n",
       "N    608823\n",
       "Y     66203\n",
       "Name: count, dtype: int64"
      ]
     },
     "execution_count": 10,
     "metadata": {},
     "output_type": "execute_result"
    }
   ],
   "source": [
    "mapping = {'0': 'N', '1': 'Y'}\n",
    "df['LowDoc'] = df['LowDoc'].replace(mapping)\n",
    "\n",
    "valid_values = ['N', 'Y']\n",
    "df = df[df['LowDoc'].isin(valid_values)]\n",
    "\n",
    "df['LowDoc'].value_counts()"
   ]
  },
  {
   "cell_type": "code",
   "execution_count": 11,
   "metadata": {},
   "outputs": [],
   "source": [
    "df['FranchiseCode'] = df['FranchiseCode'].apply(lambda x: 1 if x >= 1 else 0)"
   ]
  },
  {
   "cell_type": "code",
   "execution_count": 12,
   "metadata": {},
   "outputs": [],
   "source": [
    "MIS_Status = pd.get_dummies(df['MIS_Status'], drop_first=True)\n",
    "df.drop(['MIS_Status'], axis=1, inplace=True)\n",
    "df = pd.concat([df, MIS_Status], axis=1)\n",
    "df = df.rename(columns={'P I F': 'Approve'})"
   ]
  },
  {
   "cell_type": "code",
   "execution_count": 13,
   "metadata": {},
   "outputs": [],
   "source": [
    "leaking_feature = ['ChgOffPrinGr', 'BalanceGross', 'DisbursementGross', 'DisbursementDate', 'ChgOffDate']\n",
    "useless_feature = ['Name', 'Zip', 'LoanNr_ChkDgt', 'City', 'State', 'Bank', 'BankState', 'ApprovalDate', 'ApprovalFY']\n",
    "df = df.drop(leaking_feature, axis=1)\n",
    "df = df.drop(useless_feature, axis=1)\n",
    "df.dropna(inplace=True)"
   ]
  },
  {
   "cell_type": "code",
   "execution_count": 14,
   "metadata": {},
   "outputs": [
    {
     "data": {
      "text/plain": [
       "(675026, 13)"
      ]
     },
     "execution_count": 14,
     "metadata": {},
     "output_type": "execute_result"
    }
   ],
   "source": [
    "df.shape"
   ]
  },
  {
   "cell_type": "code",
   "execution_count": 15,
   "metadata": {},
   "outputs": [
    {
     "data": {
      "text/html": [
       "<div>\n",
       "<style scoped>\n",
       "    .dataframe tbody tr th:only-of-type {\n",
       "        vertical-align: middle;\n",
       "    }\n",
       "\n",
       "    .dataframe tbody tr th {\n",
       "        vertical-align: top;\n",
       "    }\n",
       "\n",
       "    .dataframe thead th {\n",
       "        text-align: right;\n",
       "    }\n",
       "</style>\n",
       "<table border=\"1\" class=\"dataframe\">\n",
       "  <thead>\n",
       "    <tr style=\"text-align: right;\">\n",
       "      <th></th>\n",
       "      <th>feature</th>\n",
       "      <th>data_type</th>\n",
       "      <th>null</th>\n",
       "      <th>nulPct</th>\n",
       "      <th>unique</th>\n",
       "      <th>uniqueSample</th>\n",
       "    </tr>\n",
       "  </thead>\n",
       "  <tbody>\n",
       "    <tr>\n",
       "      <th>0</th>\n",
       "      <td>NAICS</td>\n",
       "      <td>object</td>\n",
       "      <td>0</td>\n",
       "      <td>0.0</td>\n",
       "      <td>20</td>\n",
       "      <td>[72, 62, 44-45, 48-49]</td>\n",
       "    </tr>\n",
       "    <tr>\n",
       "      <th>1</th>\n",
       "      <td>Term</td>\n",
       "      <td>int64</td>\n",
       "      <td>0</td>\n",
       "      <td>0.0</td>\n",
       "      <td>377</td>\n",
       "      <td>[48, 84, 60, 82]</td>\n",
       "    </tr>\n",
       "    <tr>\n",
       "      <th>2</th>\n",
       "      <td>NoEmp</td>\n",
       "      <td>int64</td>\n",
       "      <td>0</td>\n",
       "      <td>0.0</td>\n",
       "      <td>499</td>\n",
       "      <td>[4, 6, 5, 26, 2]</td>\n",
       "    </tr>\n",
       "    <tr>\n",
       "      <th>3</th>\n",
       "      <td>NewExist</td>\n",
       "      <td>float64</td>\n",
       "      <td>0</td>\n",
       "      <td>0.0</td>\n",
       "      <td>2</td>\n",
       "      <td>[2.0, 1.0]</td>\n",
       "    </tr>\n",
       "    <tr>\n",
       "      <th>4</th>\n",
       "      <td>CreateJob</td>\n",
       "      <td>int64</td>\n",
       "      <td>0</td>\n",
       "      <td>0.0</td>\n",
       "      <td>216</td>\n",
       "      <td>[0]</td>\n",
       "    </tr>\n",
       "    <tr>\n",
       "      <th>5</th>\n",
       "      <td>RetainedJob</td>\n",
       "      <td>int64</td>\n",
       "      <td>0</td>\n",
       "      <td>0.0</td>\n",
       "      <td>323</td>\n",
       "      <td>[3, 0, 2, 8]</td>\n",
       "    </tr>\n",
       "    <tr>\n",
       "      <th>6</th>\n",
       "      <td>FranchiseCode</td>\n",
       "      <td>int64</td>\n",
       "      <td>0</td>\n",
       "      <td>0.0</td>\n",
       "      <td>2</td>\n",
       "      <td>[1]</td>\n",
       "    </tr>\n",
       "    <tr>\n",
       "      <th>7</th>\n",
       "      <td>UrbanRural</td>\n",
       "      <td>int64</td>\n",
       "      <td>0</td>\n",
       "      <td>0.0</td>\n",
       "      <td>3</td>\n",
       "      <td>[1, 2, 0]</td>\n",
       "    </tr>\n",
       "    <tr>\n",
       "      <th>8</th>\n",
       "      <td>RevLineCr</td>\n",
       "      <td>object</td>\n",
       "      <td>0</td>\n",
       "      <td>0.0</td>\n",
       "      <td>2</td>\n",
       "      <td>[N, Y]</td>\n",
       "    </tr>\n",
       "    <tr>\n",
       "      <th>9</th>\n",
       "      <td>LowDoc</td>\n",
       "      <td>object</td>\n",
       "      <td>0</td>\n",
       "      <td>0.0</td>\n",
       "      <td>2</td>\n",
       "      <td>[N, Y]</td>\n",
       "    </tr>\n",
       "    <tr>\n",
       "      <th>10</th>\n",
       "      <td>GrAppv</td>\n",
       "      <td>int64</td>\n",
       "      <td>0</td>\n",
       "      <td>0.0</td>\n",
       "      <td>16880</td>\n",
       "      <td>[292500, 144000, 5000, 89350, 175000]</td>\n",
       "    </tr>\n",
       "    <tr>\n",
       "      <th>11</th>\n",
       "      <td>SBA_Appv</td>\n",
       "      <td>int64</td>\n",
       "      <td>0</td>\n",
       "      <td>0.0</td>\n",
       "      <td>28240</td>\n",
       "      <td>[68000, 5000, 101500, 206250, 85000]</td>\n",
       "    </tr>\n",
       "    <tr>\n",
       "      <th>12</th>\n",
       "      <td>Approve</td>\n",
       "      <td>bool</td>\n",
       "      <td>0</td>\n",
       "      <td>0.0</td>\n",
       "      <td>2</td>\n",
       "      <td>[False, True]</td>\n",
       "    </tr>\n",
       "  </tbody>\n",
       "</table>\n",
       "</div>"
      ],
      "text/plain": [
       "          feature data_type  null  nulPct  unique  \\\n",
       "0           NAICS    object     0     0.0      20   \n",
       "1            Term     int64     0     0.0     377   \n",
       "2           NoEmp     int64     0     0.0     499   \n",
       "3        NewExist   float64     0     0.0       2   \n",
       "4       CreateJob     int64     0     0.0     216   \n",
       "5     RetainedJob     int64     0     0.0     323   \n",
       "6   FranchiseCode     int64     0     0.0       2   \n",
       "7      UrbanRural     int64     0     0.0       3   \n",
       "8       RevLineCr    object     0     0.0       2   \n",
       "9          LowDoc    object     0     0.0       2   \n",
       "10         GrAppv     int64     0     0.0   16880   \n",
       "11       SBA_Appv     int64     0     0.0   28240   \n",
       "12        Approve      bool     0     0.0       2   \n",
       "\n",
       "                             uniqueSample  \n",
       "0                  [72, 62, 44-45, 48-49]  \n",
       "1                        [48, 84, 60, 82]  \n",
       "2                        [4, 6, 5, 26, 2]  \n",
       "3                              [2.0, 1.0]  \n",
       "4                                     [0]  \n",
       "5                            [3, 0, 2, 8]  \n",
       "6                                     [1]  \n",
       "7                               [1, 2, 0]  \n",
       "8                                  [N, Y]  \n",
       "9                                  [N, Y]  \n",
       "10  [292500, 144000, 5000, 89350, 175000]  \n",
       "11   [68000, 5000, 101500, 206250, 85000]  \n",
       "12                          [False, True]  "
      ]
     },
     "execution_count": 15,
     "metadata": {},
     "output_type": "execute_result"
    }
   ],
   "source": [
    "generate_description(df)"
   ]
  },
  {
   "cell_type": "code",
   "execution_count": 16,
   "metadata": {},
   "outputs": [
    {
     "name": "stdout",
     "output_type": "stream",
     "text": [
      "Le DataFrame a été converti avec succès en fichier CSV : ../Dataset/SBA_Cleaned_0.csv\n"
     ]
    }
   ],
   "source": [
    "df_to_csv(df, folder_path, 'SBA_Cleaned_0.csv')"
   ]
  },
  {
   "cell_type": "code",
   "execution_count": 17,
   "metadata": {},
   "outputs": [
    {
     "ename": "NameError",
     "evalue": "name 'partie1' is not defined",
     "output_type": "error",
     "traceback": [
      "\u001b[0;31m---------------------------------------------------------------------------\u001b[0m",
      "\u001b[0;31mNameError\u001b[0m                                 Traceback (most recent call last)",
      "Cell \u001b[0;32mIn[17], line 1\u001b[0m\n\u001b[0;32m----> 1\u001b[0m df \u001b[38;5;241m=\u001b[39m charger_csv(\u001b[43mpartie1\u001b[49m, partie2, partie3, partie4)\n",
      "\u001b[0;31mNameError\u001b[0m: name 'partie1' is not defined"
     ]
    }
   ],
   "source": [
    "df = charger_csv(partie1, partie2, partie3, partie4)"
   ]
  },
  {
   "cell_type": "code",
   "execution_count": null,
   "metadata": {},
   "outputs": [],
   "source": [
    "df.drop_duplicates(subset=['LoanNr_ChkDgt'], inplace=True)"
   ]
  },
  {
   "cell_type": "code",
   "execution_count": null,
   "metadata": {},
   "outputs": [],
   "source": [
    "df = df[df.NAICS != 0]\n",
    "df['NAICS'] = df['NAICS'].apply(naicsEngineering)"
   ]
  },
  {
   "cell_type": "code",
   "execution_count": null,
   "metadata": {},
   "outputs": [],
   "source": [
    "df = df[(df.NewExist == 1.0) | (df.NewExist == 2.0)]"
   ]
  },
  {
   "cell_type": "code",
   "execution_count": null,
   "metadata": {},
   "outputs": [],
   "source": [
    "df['GrAppv'] = df['GrAppv'].apply(currency_cleaning).astype(float).astype(int)\n",
    "df['SBA_Appv'] = df['SBA_Appv'].apply(currency_cleaning).astype(float).astype(int)\n",
    "df['DisbursementGross'] = df['DisbursementGross'].apply(currency_cleaning).astype(float).astype(int)\n",
    "df['BalanceGross'] = df['BalanceGross'].apply(currency_cleaning).astype(float).astype(int)\n",
    "df['ChgOffPrinGr'] = df['ChgOffPrinGr'].apply(currency_cleaning).astype(float)"
   ]
  },
  {
   "cell_type": "code",
   "execution_count": null,
   "metadata": {},
   "outputs": [],
   "source": [
    "valid_values = ['N', 'Y']\n",
    "df = df[df['RevLineCr'].isin(valid_values)]"
   ]
  },
  {
   "cell_type": "code",
   "execution_count": null,
   "metadata": {},
   "outputs": [],
   "source": [
    "valid_values = ['N', 'Y']\n",
    "df = df[df['LowDoc'].isin(valid_values)]"
   ]
  },
  {
   "cell_type": "code",
   "execution_count": null,
   "metadata": {},
   "outputs": [],
   "source": [
    "df['FranchiseCode'] = df['FranchiseCode'].apply(lambda x: 1 if x >= 1 else 0)"
   ]
  },
  {
   "cell_type": "code",
   "execution_count": null,
   "metadata": {},
   "outputs": [],
   "source": [
    "MIS_Status = pd.get_dummies(df['MIS_Status'], drop_first=True)\n",
    "df.drop(['MIS_Status'], axis=1, inplace=True)\n",
    "df = pd.concat([df, MIS_Status], axis=1)\n",
    "df = df.rename(columns={'P I F': 'Approve'})"
   ]
  },
  {
   "cell_type": "code",
   "execution_count": null,
   "metadata": {},
   "outputs": [],
   "source": [
    "leaking_feature = ['ChgOffPrinGr', 'BalanceGross', 'DisbursementGross', 'DisbursementDate', 'ChgOffDate']\n",
    "useless_feature = ['Name', 'Zip', 'LoanNr_ChkDgt', 'City', 'State', 'Bank', 'BankState', 'ApprovalDate', 'ApprovalFY']\n",
    "df = df.drop(leaking_feature, axis=1)\n",
    "df = df.drop(useless_feature, axis=1)\n",
    "df.dropna(inplace=True)"
   ]
  },
  {
   "cell_type": "code",
   "execution_count": null,
   "metadata": {},
   "outputs": [
    {
     "data": {
      "text/plain": [
       "(460816, 13)"
      ]
     },
     "execution_count": 147,
     "metadata": {},
     "output_type": "execute_result"
    }
   ],
   "source": [
    "df.shape"
   ]
  },
  {
   "cell_type": "code",
   "execution_count": null,
   "metadata": {},
   "outputs": [
    {
     "data": {
      "text/html": [
       "<div>\n",
       "<style scoped>\n",
       "    .dataframe tbody tr th:only-of-type {\n",
       "        vertical-align: middle;\n",
       "    }\n",
       "\n",
       "    .dataframe tbody tr th {\n",
       "        vertical-align: top;\n",
       "    }\n",
       "\n",
       "    .dataframe thead th {\n",
       "        text-align: right;\n",
       "    }\n",
       "</style>\n",
       "<table border=\"1\" class=\"dataframe\">\n",
       "  <thead>\n",
       "    <tr style=\"text-align: right;\">\n",
       "      <th></th>\n",
       "      <th>feature</th>\n",
       "      <th>data_type</th>\n",
       "      <th>null</th>\n",
       "      <th>nulPct</th>\n",
       "      <th>unique</th>\n",
       "      <th>uniqueSample</th>\n",
       "    </tr>\n",
       "  </thead>\n",
       "  <tbody>\n",
       "    <tr>\n",
       "      <th>0</th>\n",
       "      <td>NAICS</td>\n",
       "      <td>object</td>\n",
       "      <td>0</td>\n",
       "      <td>0.0</td>\n",
       "      <td>20</td>\n",
       "      <td>[81, 48-49, 62, 44-45, 42]</td>\n",
       "    </tr>\n",
       "    <tr>\n",
       "      <th>1</th>\n",
       "      <td>Term</td>\n",
       "      <td>int64</td>\n",
       "      <td>0</td>\n",
       "      <td>0.0</td>\n",
       "      <td>373</td>\n",
       "      <td>[84, 32, 18]</td>\n",
       "    </tr>\n",
       "    <tr>\n",
       "      <th>2</th>\n",
       "      <td>NoEmp</td>\n",
       "      <td>int64</td>\n",
       "      <td>0</td>\n",
       "      <td>0.0</td>\n",
       "      <td>432</td>\n",
       "      <td>[7, 2, 6, 0, 1]</td>\n",
       "    </tr>\n",
       "    <tr>\n",
       "      <th>3</th>\n",
       "      <td>NewExist</td>\n",
       "      <td>float64</td>\n",
       "      <td>0</td>\n",
       "      <td>0.0</td>\n",
       "      <td>2</td>\n",
       "      <td>[1.0, 2.0]</td>\n",
       "    </tr>\n",
       "    <tr>\n",
       "      <th>4</th>\n",
       "      <td>CreateJob</td>\n",
       "      <td>int64</td>\n",
       "      <td>0</td>\n",
       "      <td>0.0</td>\n",
       "      <td>192</td>\n",
       "      <td>[0]</td>\n",
       "    </tr>\n",
       "    <tr>\n",
       "      <th>5</th>\n",
       "      <td>RetainedJob</td>\n",
       "      <td>int64</td>\n",
       "      <td>0</td>\n",
       "      <td>0.0</td>\n",
       "      <td>276</td>\n",
       "      <td>[8, 0, 1]</td>\n",
       "    </tr>\n",
       "    <tr>\n",
       "      <th>6</th>\n",
       "      <td>FranchiseCode</td>\n",
       "      <td>int64</td>\n",
       "      <td>0</td>\n",
       "      <td>0.0</td>\n",
       "      <td>2</td>\n",
       "      <td>[1, 0]</td>\n",
       "    </tr>\n",
       "    <tr>\n",
       "      <th>7</th>\n",
       "      <td>UrbanRural</td>\n",
       "      <td>int64</td>\n",
       "      <td>0</td>\n",
       "      <td>0.0</td>\n",
       "      <td>3</td>\n",
       "      <td>[1, 0]</td>\n",
       "    </tr>\n",
       "    <tr>\n",
       "      <th>8</th>\n",
       "      <td>RevLineCr</td>\n",
       "      <td>object</td>\n",
       "      <td>0</td>\n",
       "      <td>0.0</td>\n",
       "      <td>2</td>\n",
       "      <td>[N, Y]</td>\n",
       "    </tr>\n",
       "    <tr>\n",
       "      <th>9</th>\n",
       "      <td>LowDoc</td>\n",
       "      <td>object</td>\n",
       "      <td>0</td>\n",
       "      <td>0.0</td>\n",
       "      <td>2</td>\n",
       "      <td>[N]</td>\n",
       "    </tr>\n",
       "    <tr>\n",
       "      <th>10</th>\n",
       "      <td>GrAppv</td>\n",
       "      <td>int64</td>\n",
       "      <td>0</td>\n",
       "      <td>0.0</td>\n",
       "      <td>12824</td>\n",
       "      <td>[50000, 206000, 25000, 525000, 168500]</td>\n",
       "    </tr>\n",
       "    <tr>\n",
       "      <th>11</th>\n",
       "      <td>SBA_Appv</td>\n",
       "      <td>int64</td>\n",
       "      <td>0</td>\n",
       "      <td>0.0</td>\n",
       "      <td>22309</td>\n",
       "      <td>[119700, 9000, 25000, 63000, 93750]</td>\n",
       "    </tr>\n",
       "    <tr>\n",
       "      <th>12</th>\n",
       "      <td>Approve</td>\n",
       "      <td>bool</td>\n",
       "      <td>0</td>\n",
       "      <td>0.0</td>\n",
       "      <td>2</td>\n",
       "      <td>[True, False]</td>\n",
       "    </tr>\n",
       "  </tbody>\n",
       "</table>\n",
       "</div>"
      ],
      "text/plain": [
       "          feature data_type  null  nulPct  unique  \\\n",
       "0           NAICS    object     0     0.0      20   \n",
       "1            Term     int64     0     0.0     373   \n",
       "2           NoEmp     int64     0     0.0     432   \n",
       "3        NewExist   float64     0     0.0       2   \n",
       "4       CreateJob     int64     0     0.0     192   \n",
       "5     RetainedJob     int64     0     0.0     276   \n",
       "6   FranchiseCode     int64     0     0.0       2   \n",
       "7      UrbanRural     int64     0     0.0       3   \n",
       "8       RevLineCr    object     0     0.0       2   \n",
       "9          LowDoc    object     0     0.0       2   \n",
       "10         GrAppv     int64     0     0.0   12824   \n",
       "11       SBA_Appv     int64     0     0.0   22309   \n",
       "12        Approve      bool     0     0.0       2   \n",
       "\n",
       "                              uniqueSample  \n",
       "0               [81, 48-49, 62, 44-45, 42]  \n",
       "1                             [84, 32, 18]  \n",
       "2                          [7, 2, 6, 0, 1]  \n",
       "3                               [1.0, 2.0]  \n",
       "4                                      [0]  \n",
       "5                                [8, 0, 1]  \n",
       "6                                   [1, 0]  \n",
       "7                                   [1, 0]  \n",
       "8                                   [N, Y]  \n",
       "9                                      [N]  \n",
       "10  [50000, 206000, 25000, 525000, 168500]  \n",
       "11     [119700, 9000, 25000, 63000, 93750]  \n",
       "12                           [True, False]  "
      ]
     },
     "execution_count": 148,
     "metadata": {},
     "output_type": "execute_result"
    }
   ],
   "source": [
    "generate_description(df)"
   ]
  },
  {
   "cell_type": "code",
   "execution_count": null,
   "metadata": {},
   "outputs": [
    {
     "name": "stdout",
     "output_type": "stream",
     "text": [
      "Le DataFrame a été converti avec succès en fichier CSV : ../Dataset/SBA_Cleaned_1.csv\n"
     ]
    }
   ],
   "source": [
    "df_to_csv(df, folder_path, 'SBA_Cleaned_1.csv')"
   ]
  },
  {
   "cell_type": "code",
   "execution_count": null,
   "metadata": {},
   "outputs": [
    {
     "name": "stderr",
     "output_type": "stream",
     "text": [
      "/home/utilisateur/projet/Brief_Prêt/Model_pret/Model/../Module/loader_csv.py:9: DtypeWarning: Columns (9) have mixed types. Specify dtype option on import or set low_memory=False.\n",
      "  df_partie4 = pd.read_csv(partie4)\n"
     ]
    }
   ],
   "source": [
    "df = charger_csv(partie1, partie2, partie3, partie4)"
   ]
  },
  {
   "cell_type": "code",
   "execution_count": null,
   "metadata": {},
   "outputs": [],
   "source": [
    "df.drop_duplicates(subset=['LoanNr_ChkDgt'], inplace=True)"
   ]
  },
  {
   "cell_type": "code",
   "execution_count": null,
   "metadata": {},
   "outputs": [],
   "source": [
    "df = df[df.NAICS != 0]\n",
    "df['NAICS'] = df['NAICS'].apply(naicsEngineering)"
   ]
  },
  {
   "cell_type": "code",
   "execution_count": null,
   "metadata": {},
   "outputs": [],
   "source": [
    "df = df[(df.NewExist == 1.0) | (df.NewExist == 2.0)]"
   ]
  },
  {
   "cell_type": "code",
   "execution_count": null,
   "metadata": {},
   "outputs": [],
   "source": [
    "df['GrAppv'] = df['GrAppv'].apply(currency_cleaning).astype(float).astype(int)\n",
    "df['SBA_Appv'] = df['SBA_Appv'].apply(currency_cleaning).astype(float).astype(int)\n",
    "df['DisbursementGross'] = df['DisbursementGross'].apply(currency_cleaning).astype(float).astype(int)\n",
    "df['BalanceGross'] = df['BalanceGross'].apply(currency_cleaning).astype(float).astype(int)\n",
    "df['ChgOffPrinGr'] = df['ChgOffPrinGr'].apply(currency_cleaning).astype(float)"
   ]
  },
  {
   "cell_type": "code",
   "execution_count": null,
   "metadata": {},
   "outputs": [],
   "source": [
    "samples_bad_lol = df[(df['ChgOffDate'].notna())]\n",
    "df.loc[samples_bad_lol.index, 'MIS_Status'] = samples_bad_lol['MIS_Status'].replace(['P I F', np.nan], 'CHGOFF')"
   ]
  },
  {
   "cell_type": "code",
   "execution_count": null,
   "metadata": {},
   "outputs": [],
   "source": [
    "samples_bad = df[(df['ChgOffPrinGr'].notna()) & ((df['ChgOffPrinGr'] != 0.0) | (df['ChgOffPrinGr'] > 0.0))]\n",
    "df.loc[samples_bad.index, 'MIS_Status'] = samples_bad['MIS_Status'].replace(['P I F', np.nan], 'CHGOFF')\n",
    "df['ChgOffPrinGr'] = df['ChgOffPrinGr'].apply(currency_cleaning).fillna(0.0).astype(float).astype(int)"
   ]
  },
  {
   "cell_type": "code",
   "execution_count": null,
   "metadata": {},
   "outputs": [],
   "source": [
    "mapping = {'0': 'N', '1': 'Y'}\n",
    "df['RevLineCr'] = df['RevLineCr'].replace(mapping)\n",
    "\n",
    "valid_values = ['N', 'Y']\n",
    "df = df[df['RevLineCr'].isin(valid_values)]"
   ]
  },
  {
   "cell_type": "code",
   "execution_count": null,
   "metadata": {},
   "outputs": [],
   "source": [
    "mapping = {'0': 'N', '1': 'Y'}\n",
    "df['LowDoc'] = df['LowDoc'].replace(mapping)\n",
    "\n",
    "valid_values = ['N', 'Y']\n",
    "df = df[df['LowDoc'].isin(valid_values)]"
   ]
  },
  {
   "cell_type": "code",
   "execution_count": null,
   "metadata": {},
   "outputs": [],
   "source": [
    "df['FranchiseCode'] = df['FranchiseCode'].apply(lambda x: 1 if x >= 1 else 0)"
   ]
  },
  {
   "cell_type": "code",
   "execution_count": null,
   "metadata": {},
   "outputs": [],
   "source": [
    "MIS_Status = pd.get_dummies(df['MIS_Status'], drop_first=True)\n",
    "df.drop(['MIS_Status'], axis=1, inplace=True)\n",
    "df = pd.concat([df, MIS_Status], axis=1)\n",
    "df = df.rename(columns={'P I F': 'Approve'})"
   ]
  },
  {
   "cell_type": "code",
   "execution_count": null,
   "metadata": {},
   "outputs": [],
   "source": [
    "leaking_feature = ['ChgOffPrinGr', 'BalanceGross', 'DisbursementGross', 'DisbursementDate', 'ChgOffDate']\n",
    "useless_feature = ['Name', 'Zip', 'LoanNr_ChkDgt', 'City', 'State', 'Bank', 'BankState', 'ApprovalDate', 'ApprovalFY']\n",
    "df = df.drop(leaking_feature, axis=1)\n",
    "df = df.drop(useless_feature, axis=1)\n",
    "df.dropna(inplace=True)"
   ]
  },
  {
   "cell_type": "code",
   "execution_count": null,
   "metadata": {},
   "outputs": [
    {
     "data": {
      "text/plain": [
       "(675026, 13)"
      ]
     },
     "execution_count": 162,
     "metadata": {},
     "output_type": "execute_result"
    }
   ],
   "source": [
    "df.shape"
   ]
  },
  {
   "cell_type": "code",
   "execution_count": null,
   "metadata": {},
   "outputs": [
    {
     "data": {
      "text/html": [
       "<div>\n",
       "<style scoped>\n",
       "    .dataframe tbody tr th:only-of-type {\n",
       "        vertical-align: middle;\n",
       "    }\n",
       "\n",
       "    .dataframe tbody tr th {\n",
       "        vertical-align: top;\n",
       "    }\n",
       "\n",
       "    .dataframe thead th {\n",
       "        text-align: right;\n",
       "    }\n",
       "</style>\n",
       "<table border=\"1\" class=\"dataframe\">\n",
       "  <thead>\n",
       "    <tr style=\"text-align: right;\">\n",
       "      <th></th>\n",
       "      <th>feature</th>\n",
       "      <th>data_type</th>\n",
       "      <th>null</th>\n",
       "      <th>nulPct</th>\n",
       "      <th>unique</th>\n",
       "      <th>uniqueSample</th>\n",
       "    </tr>\n",
       "  </thead>\n",
       "  <tbody>\n",
       "    <tr>\n",
       "      <th>0</th>\n",
       "      <td>NAICS</td>\n",
       "      <td>object</td>\n",
       "      <td>0</td>\n",
       "      <td>0.0</td>\n",
       "      <td>20</td>\n",
       "      <td>[44-45, 81, 31-33, 62]</td>\n",
       "    </tr>\n",
       "    <tr>\n",
       "      <th>1</th>\n",
       "      <td>Term</td>\n",
       "      <td>int64</td>\n",
       "      <td>0</td>\n",
       "      <td>0.0</td>\n",
       "      <td>377</td>\n",
       "      <td>[84, 24, 60, 120, 240]</td>\n",
       "    </tr>\n",
       "    <tr>\n",
       "      <th>2</th>\n",
       "      <td>NoEmp</td>\n",
       "      <td>int64</td>\n",
       "      <td>0</td>\n",
       "      <td>0.0</td>\n",
       "      <td>499</td>\n",
       "      <td>[2, 7, 4, 1, 12]</td>\n",
       "    </tr>\n",
       "    <tr>\n",
       "      <th>3</th>\n",
       "      <td>NewExist</td>\n",
       "      <td>float64</td>\n",
       "      <td>0</td>\n",
       "      <td>0.0</td>\n",
       "      <td>2</td>\n",
       "      <td>[1.0]</td>\n",
       "    </tr>\n",
       "    <tr>\n",
       "      <th>4</th>\n",
       "      <td>CreateJob</td>\n",
       "      <td>int64</td>\n",
       "      <td>0</td>\n",
       "      <td>0.0</td>\n",
       "      <td>216</td>\n",
       "      <td>[0, 13, 4]</td>\n",
       "    </tr>\n",
       "    <tr>\n",
       "      <th>5</th>\n",
       "      <td>RetainedJob</td>\n",
       "      <td>int64</td>\n",
       "      <td>0</td>\n",
       "      <td>0.0</td>\n",
       "      <td>323</td>\n",
       "      <td>[0, 6, 1]</td>\n",
       "    </tr>\n",
       "    <tr>\n",
       "      <th>6</th>\n",
       "      <td>FranchiseCode</td>\n",
       "      <td>int64</td>\n",
       "      <td>0</td>\n",
       "      <td>0.0</td>\n",
       "      <td>2</td>\n",
       "      <td>[1, 0]</td>\n",
       "    </tr>\n",
       "    <tr>\n",
       "      <th>7</th>\n",
       "      <td>UrbanRural</td>\n",
       "      <td>int64</td>\n",
       "      <td>0</td>\n",
       "      <td>0.0</td>\n",
       "      <td>3</td>\n",
       "      <td>[0, 2, 1]</td>\n",
       "    </tr>\n",
       "    <tr>\n",
       "      <th>8</th>\n",
       "      <td>RevLineCr</td>\n",
       "      <td>object</td>\n",
       "      <td>0</td>\n",
       "      <td>0.0</td>\n",
       "      <td>2</td>\n",
       "      <td>[N, Y]</td>\n",
       "    </tr>\n",
       "    <tr>\n",
       "      <th>9</th>\n",
       "      <td>LowDoc</td>\n",
       "      <td>object</td>\n",
       "      <td>0</td>\n",
       "      <td>0.0</td>\n",
       "      <td>2</td>\n",
       "      <td>[N]</td>\n",
       "    </tr>\n",
       "    <tr>\n",
       "      <th>10</th>\n",
       "      <td>GrAppv</td>\n",
       "      <td>int64</td>\n",
       "      <td>0</td>\n",
       "      <td>0.0</td>\n",
       "      <td>16880</td>\n",
       "      <td>[360000, 175000, 1015000, 15000, 2000000]</td>\n",
       "    </tr>\n",
       "    <tr>\n",
       "      <th>11</th>\n",
       "      <td>SBA_Appv</td>\n",
       "      <td>int64</td>\n",
       "      <td>0</td>\n",
       "      <td>0.0</td>\n",
       "      <td>28240</td>\n",
       "      <td>[25000, 30000, 131250, 29750, 34595]</td>\n",
       "    </tr>\n",
       "    <tr>\n",
       "      <th>12</th>\n",
       "      <td>Approve</td>\n",
       "      <td>bool</td>\n",
       "      <td>0</td>\n",
       "      <td>0.0</td>\n",
       "      <td>2</td>\n",
       "      <td>[True, False]</td>\n",
       "    </tr>\n",
       "  </tbody>\n",
       "</table>\n",
       "</div>"
      ],
      "text/plain": [
       "          feature data_type  null  nulPct  unique  \\\n",
       "0           NAICS    object     0     0.0      20   \n",
       "1            Term     int64     0     0.0     377   \n",
       "2           NoEmp     int64     0     0.0     499   \n",
       "3        NewExist   float64     0     0.0       2   \n",
       "4       CreateJob     int64     0     0.0     216   \n",
       "5     RetainedJob     int64     0     0.0     323   \n",
       "6   FranchiseCode     int64     0     0.0       2   \n",
       "7      UrbanRural     int64     0     0.0       3   \n",
       "8       RevLineCr    object     0     0.0       2   \n",
       "9          LowDoc    object     0     0.0       2   \n",
       "10         GrAppv     int64     0     0.0   16880   \n",
       "11       SBA_Appv     int64     0     0.0   28240   \n",
       "12        Approve      bool     0     0.0       2   \n",
       "\n",
       "                                 uniqueSample  \n",
       "0                      [44-45, 81, 31-33, 62]  \n",
       "1                      [84, 24, 60, 120, 240]  \n",
       "2                            [2, 7, 4, 1, 12]  \n",
       "3                                       [1.0]  \n",
       "4                                  [0, 13, 4]  \n",
       "5                                   [0, 6, 1]  \n",
       "6                                      [1, 0]  \n",
       "7                                   [0, 2, 1]  \n",
       "8                                      [N, Y]  \n",
       "9                                         [N]  \n",
       "10  [360000, 175000, 1015000, 15000, 2000000]  \n",
       "11       [25000, 30000, 131250, 29750, 34595]  \n",
       "12                              [True, False]  "
      ]
     },
     "execution_count": 163,
     "metadata": {},
     "output_type": "execute_result"
    }
   ],
   "source": [
    "generate_description(df)"
   ]
  },
  {
   "cell_type": "code",
   "execution_count": null,
   "metadata": {},
   "outputs": [
    {
     "name": "stdout",
     "output_type": "stream",
     "text": [
      "Le DataFrame a été converti avec succès en fichier CSV : ../Dataset/SBA_Cleaned_2.csv\n"
     ]
    }
   ],
   "source": [
    "df_to_csv(df, folder_path, 'SBA_Cleaned_2.csv')"
   ]
  },
  {
   "cell_type": "code",
   "execution_count": null,
   "metadata": {},
   "outputs": [],
   "source": [
    "# samples_bad_lol = df[(df['ChgOffDate'].notna())]\n",
    "# df.loc[samples_bad_lol.index, 'MIS_Status'] = samples_bad_lol['MIS_Status'].replace(['P I F', np.nan], 'CHGOFF')\n",
    "# samples_bad_lol['MIS_Status'].value_counts()"
   ]
  },
  {
   "cell_type": "code",
   "execution_count": null,
   "metadata": {},
   "outputs": [],
   "source": [
    "# status_counts = df.loc[samples_bad_lol.index, 'MIS_Status'].value_counts()#.isna().sum() == 0\n",
    "\n",
    "# print(status_counts)"
   ]
  },
  {
   "cell_type": "code",
   "execution_count": null,
   "metadata": {},
   "outputs": [],
   "source": [
    "# samples_bad = df[(df['ChgOffPrinGr'].notna()) & ((df['ChgOffPrinGr'] != 0.0) | (df['ChgOffPrinGr'] > 0.0))]\n",
    "# df.loc[samples_bad.index, 'MIS_Status'] = samples_bad['MIS_Status'].replace(['P I F', np.nan], 'CHGOFF')\n",
    "# df['ChgOffPrinGr'] = df['ChgOffPrinGr'].apply(currency_cleaning).fillna(0.0).astype(float).astype(int)\n",
    "# samples_bad['MIS_Status'].value_counts()"
   ]
  },
  {
   "cell_type": "code",
   "execution_count": null,
   "metadata": {},
   "outputs": [],
   "source": [
    "# samples_bad['MIS_Status'].isna().sum()"
   ]
  },
  {
   "cell_type": "code",
   "execution_count": null,
   "metadata": {},
   "outputs": [],
   "source": [
    "# status_counts = df.loc[samples_bad.index, 'MIS_Status'].value_counts()#.isna().sum() == 0\n",
    "\n",
    "# status_counts"
   ]
  }
 ],
 "metadata": {
  "kernelspec": {
   "display_name": ".venv",
   "language": "python",
   "name": "python3"
  },
  "language_info": {
   "codemirror_mode": {
    "name": "ipython",
    "version": 3
   },
   "file_extension": ".py",
   "mimetype": "text/x-python",
   "name": "python",
   "nbconvert_exporter": "python",
   "pygments_lexer": "ipython3",
   "version": "3.10.12"
  }
 },
 "nbformat": 4,
 "nbformat_minor": 2
}
