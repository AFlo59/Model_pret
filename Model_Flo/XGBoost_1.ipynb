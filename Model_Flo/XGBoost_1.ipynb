{
 "cells": [
  {
   "cell_type": "code",
   "execution_count": 2,
   "metadata": {},
   "outputs": [
    {
     "name": "stdout",
     "output_type": "stream",
     "text": [
      "Meilleurs hyperparamètres trouvés :\n",
      "{'model__colsample_bytree': 0.9, 'model__learning_rate': 0.1, 'model__max_depth': 10, 'model__n_estimators': 200, 'model__subsample': 0.9}\n",
      "Meilleure précision trouvée : 0.9078974577334051\n",
      "F1-score macro sur l'ensemble de test : 0.9115407980778877\n"
     ]
    }
   ],
   "source": [
    "import os\n",
    "import sys\n",
    "sys.path.append('../Module')\n",
    "folder_path = '../Dataset'\n",
    "\n",
    "import numpy as np\n",
    "import pandas as pd\n",
    "import matplotlib.pyplot as plt\n",
    "import seaborn as sns\n",
    "\n",
    "from sklearn.preprocessing import OneHotEncoder\n",
    "from sklearn.compose import ColumnTransformer\n",
    "from sklearn.preprocessing import StandardScaler, OneHotEncoder\n",
    "from sklearn.pipeline import Pipeline\n",
    "from sklearn.model_selection import train_test_split, GridSearchCV\n",
    "from sklearn.metrics import f1_score\n",
    "from sklearn import set_config\n",
    "\n",
    "import xgboost as xgb\n",
    "\n",
    "from data_to_csv import df_to_csv\n",
    "from utils import generate_description\n",
    "\n",
    "df_1 = pd.read_csv(folder_path + '/SBA_Cleaned_1.csv')\n",
    "df_1.dropna(inplace=True)\n",
    "generate_description(df_1)\n",
    "y = df_1['Approve']\n",
    "X = df_1.drop('Approve', axis=1)\n",
    "\n",
    "X_train, X_test, y_train, y_test = train_test_split(X, y, shuffle=True, test_size=0.05, random_state=42, stratify=y)\n",
    "numerical_columns_selector = X.select_dtypes(exclude='object').columns\n",
    "categorical_columns_selector = X.select_dtypes(include='object').columns\n",
    "\n",
    "numerical_columns = X[numerical_columns_selector]\n",
    "categorical_columns = X[categorical_columns_selector]\n",
    "\n",
    "categorical_preprocessor = OneHotEncoder(handle_unknown=\"ignore\", sparse_output=False)\n",
    "numerical_preprocessor = StandardScaler()\n",
    "\n",
    "preprocessor = ColumnTransformer(\n",
    "    transformers=[\n",
    "        (\"num\", numerical_preprocessor, numerical_columns_selector),\n",
    "        (\"cat\", categorical_preprocessor, categorical_columns_selector)\n",
    "    ]\n",
    ")\n",
    "\n",
    "pipeline = Pipeline([\n",
    "    ('preprocessor', preprocessor),\n",
    "    ('model', xgb.XGBClassifier(n_jobs=-1, random_state=42))\n",
    "])\n",
    "\n",
    "set_config(transform_output=\"pandas\")\n",
    "\n",
    "param_grid = {\n",
    "    'model__n_estimators': [100, 200],  # Adjust according to your preference\n",
    "    'model__max_depth': [5, 10],  # Adjust according to your preference\n",
    "    'model__learning_rate': [0.1, 0.01],  # Adjust according to your preference\n",
    "    'model__subsample': [0.8, 0.9],  # Adjust according to your preference\n",
    "    'model__colsample_bytree': [0.8, 0.9]  # Adjust according to your preference\n",
    "}\n",
    "\n",
    "grid_search = GridSearchCV(pipeline, param_grid, cv=5, scoring='f1_macro')\n",
    "grid_search.fit(X_train, y_train)\n",
    "\n",
    "print(\"Meilleurs hyperparamètres trouvés :\")\n",
    "print(grid_search.best_params_)\n",
    "\n",
    "print(\"Meilleure précision trouvée :\", grid_search.best_score_)\n",
    "\n",
    "best_model = grid_search.best_estimator_\n",
    "predictions = best_model.predict(X_test)\n",
    "f1_macro = f1_score(y_test, predictions, average='macro')\n",
    "print(\"F1-score macro sur l'ensemble de test :\", f1_macro)\n"
   ]
  }
 ],
 "metadata": {
  "kernelspec": {
   "display_name": ".venv",
   "language": "python",
   "name": "python3"
  },
  "language_info": {
   "codemirror_mode": {
    "name": "ipython",
    "version": 3
   },
   "file_extension": ".py",
   "mimetype": "text/x-python",
   "name": "python",
   "nbconvert_exporter": "python",
   "pygments_lexer": "ipython3",
   "version": "3.10.12"
  }
 },
 "nbformat": 4,
 "nbformat_minor": 2
}
