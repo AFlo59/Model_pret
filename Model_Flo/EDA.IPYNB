{
 "cells": [
  {
   "cell_type": "code",
   "execution_count": 2,
   "metadata": {},
   "outputs": [],
   "source": [
    "import os\n",
    "import sys\n",
    "sys.path.append('../Module')\n",
    "folder_path = '../Dataset'\n",
    "\n",
    "import pandas as pd\n",
    "import numpy as np\n",
    "import matplotlib.pyplot as plt\n",
    "import seaborn as sns\n",
    "from sklearn.model_selection import train_test_split\n",
    "from sklearn.preprocessing import LabelEncoder, StandardScaler\n",
    "from sklearn.ensemble import RandomForestClassifier\n",
    "from sklearn.metrics import accuracy_score, classification_report\n",
    "\n",
    "df = pd.read_csv( folder_path + '/SBA_Cleaned_1.csv')"
   ]
  },
  {
   "cell_type": "code",
   "execution_count": 3,
   "metadata": {},
   "outputs": [
    {
     "name": "stdout",
     "output_type": "stream",
     "text": [
      "                Term         NoEmp       NewExist      CreateJob  \\\n",
      "count  460816.000000  460816.00000  460816.000000  460816.000000   \n",
      "mean       93.632968       9.88505       1.264980       1.899452   \n",
      "std        68.197635      56.59697       0.441323      16.282809   \n",
      "min         0.000000       0.00000       1.000000       0.000000   \n",
      "25%        59.000000       2.00000       1.000000       0.000000   \n",
      "50%        84.000000       4.00000       1.000000       0.000000   \n",
      "75%        90.000000       9.00000       2.000000       1.000000   \n",
      "max       527.000000    9999.00000       2.000000    5621.000000   \n",
      "\n",
      "         RetainedJob  FranchiseCode     UrbanRural        GrAppv      SBA_Appv  \n",
      "count  460816.000000  460816.000000  460816.000000  4.608160e+05  4.608160e+05  \n",
      "mean        4.792405       0.606893       0.900837  1.535252e+05  1.166578e+05  \n",
      "std        15.709726       0.488441       0.603838  2.607956e+05  2.137524e+05  \n",
      "min         0.000000       0.000000       0.000000  2.000000e+02  1.000000e+02  \n",
      "25%         0.000000       0.000000       1.000000  2.500000e+04  1.250000e+04  \n",
      "50%         1.000000       1.000000       1.000000  5.000000e+04  3.500000e+04  \n",
      "75%         5.000000       1.000000       1.000000  1.550000e+05  1.250000e+05  \n",
      "max      4441.000000       1.000000       2.000000  5.000000e+06  4.500000e+06  \n"
     ]
    }
   ],
   "source": [
    "# Statistiques descriptives\n",
    "print(df.describe())"
   ]
  },
  {
   "cell_type": "code",
   "execution_count": 4,
   "metadata": {},
   "outputs": [],
   "source": [
    "# Visualisations\n",
    "sns.pairplot(df)\n",
    "plt.show()"
   ]
  },
  {
   "cell_type": "code",
   "execution_count": null,
   "metadata": {},
   "outputs": [
    {
     "ename": "NameError",
     "evalue": "name 'df' is not defined",
     "output_type": "error",
     "traceback": [
      "\u001b[0;31m---------------------------------------------------------------------------\u001b[0m",
      "\u001b[0;31mNameError\u001b[0m                                 Traceback (most recent call last)",
      "Cell \u001b[0;32mIn[1], line 2\u001b[0m\n\u001b[1;32m      1\u001b[0m \u001b[38;5;66;03m# Sélectionner uniquement les colonnes numériques\u001b[39;00m\n\u001b[0;32m----> 2\u001b[0m numerical_df \u001b[38;5;241m=\u001b[39m \u001b[43mdf\u001b[49m\u001b[38;5;241m.\u001b[39mselect_dtypes(include\u001b[38;5;241m=\u001b[39mnp\u001b[38;5;241m.\u001b[39mnumber)\n\u001b[1;32m      4\u001b[0m \u001b[38;5;66;03m# Calculer la corrélation\u001b[39;00m\n\u001b[1;32m      5\u001b[0m corr \u001b[38;5;241m=\u001b[39m numerical_df\u001b[38;5;241m.\u001b[39mcorr()\n",
      "\u001b[0;31mNameError\u001b[0m: name 'df' is not defined"
     ]
    }
   ],
   "source": [
    "# Sélectionner uniquement les colonnes numériques\n",
    "numerical_df = df.select_dtypes(include=np.number)\n",
    "\n",
    "# Calculer la corrélation\n",
    "corr = numerical_df.corr()\n",
    "\n",
    "# Afficher la heatmap de corrélation\n",
    "sns.heatmap(corr, annot=True, cmap='coolwarm')\n",
    "plt.show()"
   ]
  },
  {
   "cell_type": "code",
   "execution_count": null,
   "metadata": {},
   "outputs": [],
   "source": [
    "# Diviser les données en ensembles d'entraînement et de test\n",
    "X = df.drop('Approve', axis=1)\n",
    "y = df['Approve']\n",
    "X_train, X_test, y_train, y_test = train_test_split(X, y, test_size=0.2, random_state=42)"
   ]
  },
  {
   "cell_type": "code",
   "execution_count": null,
   "metadata": {},
   "outputs": [],
   "source": [
    "# Traitement des variables catégorielles\n",
    "label_encoder = LabelEncoder()\n",
    "X_train['RevLineCr'] = label_encoder.fit_transform(X_train['RevLineCr'])\n",
    "X_train['LowDoc'] = label_encoder.fit_transform(X_train['LowDoc'])\n",
    "X_test['RevLineCr'] = label_encoder.transform(X_test['RevLineCr'])\n",
    "X_test['LowDoc'] = label_encoder.transform(X_test['LowDoc'])"
   ]
  },
  {
   "cell_type": "code",
   "execution_count": null,
   "metadata": {},
   "outputs": [
    {
     "ename": "NameError",
     "evalue": "name 'X_train' is not defined",
     "output_type": "error",
     "traceback": [
      "\u001b[0;31m---------------------------------------------------------------------------\u001b[0m",
      "\u001b[0;31mNameError\u001b[0m                                 Traceback (most recent call last)",
      "Cell \u001b[0;32mIn[10], line 3\u001b[0m\n\u001b[1;32m      1\u001b[0m \u001b[38;5;66;03m# Modélisation et évaluation\u001b[39;00m\n\u001b[1;32m      2\u001b[0m model \u001b[38;5;241m=\u001b[39m RandomForestClassifier(random_state\u001b[38;5;241m=\u001b[39m\u001b[38;5;241m42\u001b[39m)\n\u001b[0;32m----> 3\u001b[0m model\u001b[38;5;241m.\u001b[39mfit(\u001b[43mX_train\u001b[49m, y_train)\n\u001b[1;32m      4\u001b[0m y_pred \u001b[38;5;241m=\u001b[39m model\u001b[38;5;241m.\u001b[39mpredict(X_test)\n\u001b[1;32m      5\u001b[0m \u001b[38;5;28mprint\u001b[39m(\u001b[38;5;124m\"\u001b[39m\u001b[38;5;124mAccuracy:\u001b[39m\u001b[38;5;124m\"\u001b[39m, accuracy_score(y_test, y_pred))\n",
      "\u001b[0;31mNameError\u001b[0m: name 'X_train' is not defined"
     ]
    }
   ],
   "source": [
    "# Modélisation et évaluation\n",
    "model = RandomForestClassifier(random_state=42)\n",
    "model.fit(X_train, y_train)\n",
    "y_pred = model.predict(X_test)\n",
    "print(\"Accuracy:\", accuracy_score(y_test, y_pred))\n",
    "print(\"Classification Report:\\n\", classification_report(y_test, y_pred))"
   ]
  }
 ],
 "metadata": {
  "kernelspec": {
   "display_name": ".venv",
   "language": "python",
   "name": "python3"
  },
  "language_info": {
   "codemirror_mode": {
    "name": "ipython",
    "version": 3
   },
   "file_extension": ".py",
   "mimetype": "text/x-python",
   "name": "python",
   "nbconvert_exporter": "python",
   "pygments_lexer": "ipython3",
   "version": "3.10.12"
  }
 },
 "nbformat": 4,
 "nbformat_minor": 2
}
